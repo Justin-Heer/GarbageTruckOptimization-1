{
 "cells": [
  {
   "cell_type": "code",
   "execution_count": 2,
   "id": "residential-thomas",
   "metadata": {},
   "outputs": [],
   "source": [
    "import multiprocessing as mp\n",
    "import numpy as np\n",
    "import pandas as pd\n",
    "import time\n",
    "from ortools.constraint_solver import routing_enums_pb2\n",
    "from ortools.constraint_solver import pywrapcp"
   ]
  },
  {
   "cell_type": "code",
   "execution_count": 3,
   "id": "extensive-poverty",
   "metadata": {},
   "outputs": [
    {
     "name": "stdout",
     "output_type": "stream",
     "text": [
      "Reading in time matrix\n",
      "Reading in locations by zone\n",
      "Reading in locations\n"
     ]
    }
   ],
   "source": [
    "# Number of processes\n",
    "numProcesses = 1\n",
    "\n",
    "# Reading in time matrix\n",
    "print(\"Reading in time matrix\")\n",
    "timeMatrix = pd.read_csv('C:/Users/Aidan/OneDrive - Simon Fraser University (1sfu)/Garbage Route Optimization/timeMatrixInflated.csv',\n",
    "                         index_col=0)\n",
    "\n",
    "# Reading in locations by zones\n",
    "print(\"Reading in locations by zone\")\n",
    "locationsByZones = pd.read_csv('C:/Users/Aidan/OneDrive - Simon Fraser University (1sfu)/Garbage Route Optimization/poco-allzones.csv', index_col=0)\n",
    "locationsByZones.index = locationsByZones.index + ', Port Coquitlam, BC, Canada'  # Adding this so the addresses match the time matrix\n",
    "\n",
    "# Reading in all locations\n",
    "print(\"Reading in locations\")\n",
    "locations = pd.read_csv('C:/Users/Aidan/OneDrive - Simon Fraser University (1sfu)/Garbage Route Optimization/locations.csv', index_col=0)\n"
   ]
  },
  {
   "cell_type": "code",
   "execution_count": 4,
   "id": "activated-anchor",
   "metadata": {},
   "outputs": [
    {
     "name": "stdout",
     "output_type": "stream",
     "text": [
      "Dividing up the time matrix by zone\n",
      "{4: 30}\n"
     ]
    }
   ],
   "source": [
    "print('Dividing up the time matrix by zone')\n",
    "# Dividing up the time matrix by zone\n",
    "timeMatrixFiltered = {}  # Contains the time matrix\n",
    "depotLocations = {}  # Contains the depot location in each subdivided time matrix\n",
    "# for zone in [1, 2, 3, 4, 5]:\n",
    "for zone in [4]:\n",
    "    # Creating a row just for the depot\n",
    "    depot = pd.Series({'Garbage Zone': np.float64(zone)}, name='1737 Broadway St Port Coquitlam, BC, Canada')\n",
    "\n",
    "    # Filtering locations by zone\n",
    "    locationsByZonesFiltered = locationsByZones[(locationsByZones['Garbage Zone'] == zone)]\n",
    "\n",
    "    # Adding in depot\n",
    "    locationsByZonesFiltered = locationsByZonesFiltered.append(depot)\n",
    "\n",
    "    # Filtering the time matrix by zone and storing them separately in a dictionary\n",
    "    timeMatrixFiltered[zone] = timeMatrix.iloc[timeMatrix.index.isin(locationsByZonesFiltered.index),\n",
    "                                               timeMatrix.index.isin(locationsByZonesFiltered.index)]\n",
    "\n",
    "    # # ******** Delete this ************\n",
    "    # # elements = list(range(0, len(timeMatrixFiltered)))\n",
    "    elements = list(range(0, 30))\n",
    "    elements.append(1966)\n",
    "\n",
    "    timeMatrixFiltered[zone] = timeMatrixFiltered[zone].iloc[elements, elements]\n",
    "\n",
    "    # Storing the location of the depot in each subdivided time matrix in a dict\n",
    "    depotLocations[zone] = np.where(timeMatrixFiltered[zone].index == '1737 Broadway St Port Coquitlam, BC, Canada')[0][0]\n",
    "\n",
    "print(depotLocations)\n",
    "\n",
    "# Creating jobs that need to be completed\n",
    "jobs = [{'zone': 4, 'numTrucks': 3, 'limit': 5600}]"
   ]
  },
  {
   "cell_type": "code",
   "execution_count": 6,
   "id": "administrative-parallel",
   "metadata": {},
   "outputs": [
    {
     "name": "stdout",
     "output_type": "stream",
     "text": [
      "In Thread 0\n"
     ]
    },
    {
     "ename": "TypeError",
     "evalue": "Wrong number or type of arguments for overloaded function 'new_RoutingIndexManager'.\n  Possible C/C++ prototypes are:\n    operations_research::RoutingIndexManager::RoutingIndexManager(int,int,operations_research::RoutingIndexManager::NodeIndex)\n    operations_research::RoutingIndexManager::RoutingIndexManager(int,int,std::vector< operations_research::RoutingIndexManager::NodeIndex > const &,std::vector< operations_research::RoutingIndexManager::NodeIndex > const &)\n",
     "output_type": "error",
     "traceback": [
      "\u001b[1;31m---------------------------------------------------------------------------\u001b[0m",
      "\u001b[1;31mTypeError\u001b[0m                                 Traceback (most recent call last)",
      "\u001b[1;32m<ipython-input-6-279b6034d9af>\u001b[0m in \u001b[0;36m<module>\u001b[1;34m\u001b[0m\n\u001b[0;32m      1\u001b[0m \u001b[0mjob\u001b[0m \u001b[1;33m=\u001b[0m \u001b[0mjobs\u001b[0m\u001b[1;33m[\u001b[0m\u001b[1;36m0\u001b[0m\u001b[1;33m]\u001b[0m\u001b[1;33m\u001b[0m\u001b[1;33m\u001b[0m\u001b[0m\n\u001b[1;32m----> 2\u001b[1;33m create_route(timeMatrixFiltered[job['zone']],\n\u001b[0m\u001b[0;32m      3\u001b[0m                          \u001b[0mjob\u001b[0m\u001b[1;33m[\u001b[0m\u001b[1;34m'numTrucks'\u001b[0m\u001b[1;33m]\u001b[0m\u001b[1;33m,\u001b[0m\u001b[1;33m\u001b[0m\u001b[1;33m\u001b[0m\u001b[0m\n\u001b[0;32m      4\u001b[0m                          \u001b[0mdepotLocations\u001b[0m\u001b[1;33m[\u001b[0m\u001b[0mjob\u001b[0m\u001b[1;33m[\u001b[0m\u001b[1;34m'zone'\u001b[0m\u001b[1;33m]\u001b[0m\u001b[1;33m]\u001b[0m\u001b[1;33m,\u001b[0m\u001b[1;33m\u001b[0m\u001b[1;33m\u001b[0m\u001b[0m\n\u001b[0;32m      5\u001b[0m                          \u001b[0mjob\u001b[0m\u001b[1;33m[\u001b[0m\u001b[1;34m'limit'\u001b[0m\u001b[1;33m]\u001b[0m\u001b[1;33m,\u001b[0m\u001b[1;33m\u001b[0m\u001b[1;33m\u001b[0m\u001b[0m\n",
      "\u001b[1;32m<ipython-input-3-01684bc89a12>\u001b[0m in \u001b[0;36mcreate_route\u001b[1;34m(timeMatrixFiltered, numVehicles, depotLocation, routeLimit, locations, processNumber, zone)\u001b[0m\n\u001b[0;32m     84\u001b[0m \u001b[1;33m\u001b[0m\u001b[0m\n\u001b[0;32m     85\u001b[0m     \u001b[1;31m# Create the routing index manager.\u001b[0m\u001b[1;33m\u001b[0m\u001b[1;33m\u001b[0m\u001b[1;33m\u001b[0m\u001b[0m\n\u001b[1;32m---> 86\u001b[1;33m     manager = pywrapcp.RoutingIndexManager(len(data['distance_matrix']),\n\u001b[0m\u001b[0;32m     87\u001b[0m                                            data['num_vehicles'], data['depot'])\n\u001b[0;32m     88\u001b[0m \u001b[1;33m\u001b[0m\u001b[0m\n",
      "\u001b[1;32m~\\anaconda3\\envs\\tf\\lib\\site-packages\\ortools\\constraint_solver\\pywrapcp.py\u001b[0m in \u001b[0;36m__init__\u001b[1;34m(self, *args)\u001b[0m\n\u001b[0;32m   2794\u001b[0m \u001b[1;33m\u001b[0m\u001b[0m\n\u001b[0;32m   2795\u001b[0m     \u001b[1;32mdef\u001b[0m \u001b[0m__init__\u001b[0m\u001b[1;33m(\u001b[0m\u001b[0mself\u001b[0m\u001b[1;33m,\u001b[0m \u001b[1;33m*\u001b[0m\u001b[0margs\u001b[0m\u001b[1;33m)\u001b[0m\u001b[1;33m:\u001b[0m\u001b[1;33m\u001b[0m\u001b[1;33m\u001b[0m\u001b[0m\n\u001b[1;32m-> 2796\u001b[1;33m         \u001b[0m_pywrapcp\u001b[0m\u001b[1;33m.\u001b[0m\u001b[0mRoutingIndexManager_swiginit\u001b[0m\u001b[1;33m(\u001b[0m\u001b[0mself\u001b[0m\u001b[1;33m,\u001b[0m \u001b[0m_pywrapcp\u001b[0m\u001b[1;33m.\u001b[0m\u001b[0mnew_RoutingIndexManager\u001b[0m\u001b[1;33m(\u001b[0m\u001b[1;33m*\u001b[0m\u001b[0margs\u001b[0m\u001b[1;33m)\u001b[0m\u001b[1;33m)\u001b[0m\u001b[1;33m\u001b[0m\u001b[1;33m\u001b[0m\u001b[0m\n\u001b[0m\u001b[0;32m   2797\u001b[0m     \u001b[0m__swig_destroy__\u001b[0m \u001b[1;33m=\u001b[0m \u001b[0m_pywrapcp\u001b[0m\u001b[1;33m.\u001b[0m\u001b[0mdelete_RoutingIndexManager\u001b[0m\u001b[1;33m\u001b[0m\u001b[1;33m\u001b[0m\u001b[0m\n\u001b[0;32m   2798\u001b[0m \u001b[1;33m\u001b[0m\u001b[0m\n",
      "\u001b[1;31mTypeError\u001b[0m: Wrong number or type of arguments for overloaded function 'new_RoutingIndexManager'.\n  Possible C/C++ prototypes are:\n    operations_research::RoutingIndexManager::RoutingIndexManager(int,int,operations_research::RoutingIndexManager::NodeIndex)\n    operations_research::RoutingIndexManager::RoutingIndexManager(int,int,std::vector< operations_research::RoutingIndexManager::NodeIndex > const &,std::vector< operations_research::RoutingIndexManager::NodeIndex > const &)\n"
     ]
    }
   ],
   "source": [
    "job = jobs[0]\n",
    "create_route(timeMatrixFiltered[job['zone']],\n",
    "                         job['numTrucks'],\n",
    "                         depotLocations[job['zone']],\n",
    "                         job['limit'],\n",
    "                         locations,\n",
    "                         0,\n",
    "                         job['zone']\n",
    "                         )\n"
   ]
  },
  {
   "cell_type": "code",
   "execution_count": 12,
   "id": "weighted-graphics",
   "metadata": {},
   "outputs": [
    {
     "name": "stdout",
     "output_type": "stream",
     "text": [
      "{4: 30}\n"
     ]
    }
   ],
   "source": [
    "print(depotLocations)\n",
    "\n",
    "# Creating jobs that need to be completed\n",
    "jobs = [{'zone': 4, 'numTrucks': 3, 'limit': 5600}]\n",
    "job = jobs[0]\n",
    "\n",
    "# print(\"Defining threads\")\n",
    "# processes = []\n",
    "# # Defining the threads\n",
    "# for process in range(0, numProcesses):\n",
    "#     job = jobs[process]\n",
    "#     processes.append(\n",
    "#         mp.Process(target=create_route,\n",
    "#                    args=(timeMatrixFiltered[job['zone']],\n",
    "#                          job['numTrucks'],\n",
    "#                          depotLocations[job['zone']],\n",
    "#                          job['limit'],\n",
    "#                          locations,\n",
    "#                          process,\n",
    "#                          job['zone']\n",
    "#                          )\n",
    "#                    )\n",
    "#     )\n",
    "\n"
   ]
  },
  {
   "cell_type": "code",
   "execution_count": null,
   "id": "juvenile-bristol",
   "metadata": {},
   "outputs": [
    {
     "name": "stdout",
     "output_type": "stream",
     "text": [
      "Starting the threads\n"
     ]
    }
   ],
   "source": [
    "print('Starting the threads')\n",
    "# Starting the threads\n",
    "for process in range(0, numProcesses):\n",
    "    processes[process].start()\n",
    "    \n",
    "print('Joing the threads')\n",
    "# Joining the threads\n",
    "for process in range(0, numProcesses):\n",
    "    processes[process].join()"
   ]
  },
  {
   "cell_type": "code",
   "execution_count": 18,
   "id": "prescribed-filter",
   "metadata": {},
   "outputs": [
    {
     "name": "stdout",
     "output_type": "stream",
     "text": [
      "In Thread 0\n",
      "depot loc: 30\n",
      "Process: 0, starting\n",
      "Process: 0, Solver status: ROUTING_SUCCESS: Problem solved successfully\n",
      "Process: 0, extracting the routes\n",
      "Route for vehicle 0:\n",
      "Distance of the route: 3168s\n",
      "\n",
      "Route for vehicle 1:\n",
      "Distance of the route: 0s\n",
      "\n",
      "Route for vehicle 2:\n",
      "Distance of the route: 0s\n",
      "\n",
      "Maximum of the route distances: 3168s\n",
      "Process: 0, creating tableau routes\n",
      "Process: 0, saving: \n"
     ]
    }
   ],
   "source": [
    "def create_data_model(df, numVehicles, depotLocation):\n",
    "    \"\"\"Stores the data for the problem.\"\"\"\n",
    "    data = {'distance_matrix': df.to_numpy(), 'num_vehicles': numVehicles, 'depot': depotLocation}\n",
    "    return data\n",
    "\n",
    "\n",
    "def print_solution(data, manager, routing, solution):\n",
    "    routes = {}\n",
    "    \"\"\"Prints solution on console.\"\"\"\n",
    "    max_route_distance = 0\n",
    "    for vehicle_id in range(data['num_vehicles']):\n",
    "        routes[vehicle_id] = []\n",
    "        index = routing.Start(vehicle_id)\n",
    "        plan_output = 'Route for vehicle {}:\\n'.format(vehicle_id)\n",
    "        route_distance = 0\n",
    "        while not routing.IsEnd(index):\n",
    "            # plan_output += ' {} -> '.format(manager.IndexToNode(index))\n",
    "            routes[vehicle_id].append(manager.IndexToNode(index))\n",
    "            previous_index = index\n",
    "            index = solution.Value(routing.NextVar(index))\n",
    "            route_distance += routing.GetArcCostForVehicle(\n",
    "                previous_index, index, vehicle_id)\n",
    "        # plan_output += '{}\\n'.format(manager.IndexToNode(index))\n",
    "        routes[vehicle_id].append(manager.IndexToNode(index))\n",
    "        plan_output += 'Distance of the route: {}s\\n'.format(route_distance)\n",
    "        print(plan_output)\n",
    "        max_route_distance = max(route_distance, max_route_distance)\n",
    "    print('Maximum of the route distances: {}s'.format(max_route_distance))\n",
    "    return routes\n",
    "\n",
    "\n",
    "def solver_status(status):\n",
    "    if status == 0:\n",
    "        return 'ROUTING_NOT_SOLVED: Problem not solved yet'\n",
    "    elif status == 1:\n",
    "        return 'ROUTING_SUCCESS: Problem solved successfully'\n",
    "    elif status == 2:\n",
    "        return 'ROUTING_FAIL: No solution found to the problem'\n",
    "    elif status == 3:\n",
    "        return 'ROUTING_FAIL_TIMEOUT: Time limit reached before finding a solution'\n",
    "    elif status == 4:\n",
    "        return 'ROUTING_INVALID: Model, model parameters, or flags are not valid'\n",
    "    else:\n",
    "        return \"Unknown Status\"\n",
    "\n",
    "\n",
    "def route_names(routes, locations):\n",
    "    namedRoutes = {}\n",
    "    for vehicle in routes.keys():\n",
    "        namedRoutes[vehicle] = locations[routes[vehicle]]\n",
    "    return namedRoutes\n",
    "\n",
    "\n",
    "def tableau_route(routes, locations, timeMatrixFiltered):\n",
    "    namedRoutes = route_names(routes, timeMatrixFiltered.index)\n",
    "\n",
    "    tableauRoutes = pd.DataFrame(columns={'address', 'latitude', 'longitude', 'pairID', 'vehicleID'})\n",
    "    for vehicle in namedRoutes.keys():\n",
    "        for vertex in range(len(namedRoutes[vehicle]) - 1):\n",
    "            currentVertexInfo = locations[locations.index == namedRoutes[vehicle][vertex]]\n",
    "            currentVertex = {'address': currentVertexInfo.index[0],\n",
    "                             'latitude': currentVertexInfo['lat'].values[0],\n",
    "                             'longitude': currentVertexInfo['long'].values[0],\n",
    "                             'pairID': vertex,\n",
    "                             'vehicleID': vehicle}\n",
    "\n",
    "            nextVertexInfo = locations[locations.index == namedRoutes[vehicle][vertex + 1]]\n",
    "\n",
    "            nextVertex = {'address': nextVertexInfo.index[0],\n",
    "                          'latitude': nextVertexInfo['lat'].values[0],\n",
    "                          'longitude': nextVertexInfo['long'].values[0],\n",
    "                          'pairID': vertex,\n",
    "                          'vehicleID': vehicle}\n",
    "\n",
    "            tableauRoutes = tableauRoutes.append([currentVertex, nextVertex], ignore_index=True)\n",
    "    return tableauRoutes\n",
    "\n",
    "\n",
    "def create_route(timeMatrixFiltered, numVehicles, depotLocation, routeLimit, locations, processNumber, zone):\n",
    "    \"\"\"Solve the CVRP problem.\"\"\"\n",
    "    print(\"In Thread\", processNumber)\n",
    "    # Instantiate the data problem.\n",
    "    x = 30\n",
    "    data = create_data_model(timeMatrixFiltered, numVehicles, int(depotLocation))\n",
    "    print('depot loc:', depotLocation)\n",
    "\n",
    "#     Create the routing index manager.\n",
    "    manager = pywrapcp.RoutingIndexManager(len(data['distance_matrix']), data['num_vehicles'], data['depot'])\n",
    "\n",
    "    # Create Routing Model.\n",
    "    routing = pywrapcp.RoutingModel(manager)\n",
    "\n",
    "    # Create and register a transit callback.\n",
    "    def distance_callback(from_index, to_index):\n",
    "        \"\"\"Returns the distance between the two nodes.\"\"\"\n",
    "        # Convert from routing variable Index to distance matrix NodeIndex.\n",
    "        from_node = manager.IndexToNode(from_index)\n",
    "        to_node = manager.IndexToNode(to_index)\n",
    "        return data['distance_matrix'][from_node][to_node]\n",
    "\n",
    "    transit_callback_index = routing.RegisterTransitCallback(distance_callback)\n",
    "\n",
    "    # Define cost of each arc.\n",
    "    routing.SetArcCostEvaluatorOfAllVehicles(transit_callback_index)\n",
    "\n",
    "    # Add Distance constraint.\n",
    "    dimension_name = 'Distance'\n",
    "    routing.AddDimension(\n",
    "        transit_callback_index,\n",
    "        0,  # no slack\n",
    "        routeLimit,  # vehicle maximum travel distance # 5000\n",
    "        True,  # start cumul to zero\n",
    "        dimension_name)\n",
    "    distance_dimension = routing.GetDimensionOrDie(dimension_name)\n",
    "    distance_dimension.SetGlobalSpanCostCoefficient(100)\n",
    "\n",
    "    # Setting first solution heuristic.\n",
    "    search_parameters = pywrapcp.DefaultRoutingSearchParameters()\n",
    "    search_parameters.first_solution_strategy = (\n",
    "        routing_enums_pb2.FirstSolutionStrategy.SAVINGS)\n",
    "    # search_parameters.local_search_metaheuristic = (\n",
    "    #     routing_enums_pb2.LocalSearchMetaheuristic.AUTOMATIC)\n",
    "\n",
    "    search_parameters.time_limit.seconds = 600\n",
    "\n",
    "    search_parameters.solution_limit = 1\n",
    "\n",
    "    #     search_parameters.lns_time_limit.seconds = 1\n",
    "\n",
    "    # Solve the problem.\n",
    "    print(f\"Process: {processNumber}, starting\")\n",
    "    solution = routing.SolveWithParameters(search_parameters)\n",
    "    print(f\"Process: {processNumber}, Solver status:\", solver_status(routing.status()))\n",
    "\n",
    "    # Extracting the routes\n",
    "    print(f\"Process: {processNumber}, extracting the routes\")\n",
    "    routes = print_solution(data, manager, routing, solution)\n",
    "\n",
    "    print(f\"Process: {processNumber}, creating tableau routes\")\n",
    "    tableauRoute = tableau_route(routes, locations, timeMatrixFiltered)\n",
    "\n",
    "    print(f\"Process: {processNumber}, saving: \")\n",
    "    tableauRoute.to_csv(f\"zone{zone}_{numVehicles}trucks.csv\")\n",
    "    \n",
    "create_route(timeMatrixFiltered[job['zone']],\n",
    "                         job['numTrucks'],\n",
    "                         depotLocations[job['zone']],\n",
    "                         job['limit'],\n",
    "                         locations,\n",
    "                         0,\n",
    "                         job['zone']\n",
    "                         )"
   ]
  },
  {
   "cell_type": "code",
   "execution_count": null,
   "id": "automated-victorian",
   "metadata": {},
   "outputs": [],
   "source": []
  },
  {
   "cell_type": "code",
   "execution_count": null,
   "id": "ordinary-density",
   "metadata": {},
   "outputs": [],
   "source": []
  },
  {
   "cell_type": "code",
   "execution_count": null,
   "id": "common-cylinder",
   "metadata": {},
   "outputs": [],
   "source": []
  },
  {
   "cell_type": "code",
   "execution_count": null,
   "id": "preliminary-vegetable",
   "metadata": {},
   "outputs": [],
   "source": []
  },
  {
   "cell_type": "code",
   "execution_count": null,
   "id": "coupled-shaft",
   "metadata": {},
   "outputs": [],
   "source": []
  },
  {
   "cell_type": "code",
   "execution_count": null,
   "id": "dependent-steering",
   "metadata": {},
   "outputs": [],
   "source": []
  }
 ],
 "metadata": {
  "kernelspec": {
   "display_name": "Python 3",
   "language": "python",
   "name": "python3"
  },
  "language_info": {
   "codemirror_mode": {
    "name": "ipython",
    "version": 3
   },
   "file_extension": ".py",
   "mimetype": "text/x-python",
   "name": "python",
   "nbconvert_exporter": "python",
   "pygments_lexer": "ipython3",
   "version": "3.8.5"
  }
 },
 "nbformat": 4,
 "nbformat_minor": 5
}
