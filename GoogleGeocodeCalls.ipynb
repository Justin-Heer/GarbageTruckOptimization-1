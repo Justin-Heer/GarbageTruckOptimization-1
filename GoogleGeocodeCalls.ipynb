{
 "cells": [
  {
   "cell_type": "code",
   "execution_count": 1,
   "metadata": {},
   "outputs": [],
   "source": [
    "from key import API_KEY\n",
    "import requests\n",
    "import pandas as pd\n",
    "import numpy as np\n",
    "%config Completer.use_jedi = False"
   ]
  },
  {
   "cell_type": "code",
   "execution_count": 2,
   "metadata": {},
   "outputs": [],
   "source": [
    "df = pd.read_csv('poco-allzones.csv')"
   ]
  },
  {
   "cell_type": "code",
   "execution_count": 3,
   "metadata": {},
   "outputs": [],
   "source": [
    "df['Address'] = df['Address'] + ', Port Coquitlam, BC, Canada'"
   ]
  },
  {
   "cell_type": "code",
   "execution_count": 49,
   "metadata": {},
   "outputs": [],
   "source": [
    "address_arr = df['Address'].values"
   ]
  },
  {
   "cell_type": "code",
   "execution_count": 69,
   "metadata": {},
   "outputs": [
    {
     "name": "stdout",
     "output_type": "stream",
     "text": [
      "at iteration 0\n",
      "at iteration 500\n",
      "at iteration 1000\n",
      "at iteration 1500\n",
      "at iteration 2000\n",
      "at iteration 2500\n",
      "at iteration 3000\n",
      "at iteration 3500\n",
      "at iteration 4000\n",
      "at iteration 4500\n",
      "at iteration 5000\n",
      "at iteration 5500\n",
      "at iteration 6000\n",
      "at iteration 6500\n",
      "at iteration 7000\n",
      "at iteration 7500\n",
      "at iteration 8000\n",
      "at iteration 8500\n",
      "at iteration 9000\n",
      "at iteration 9500\n"
     ]
    }
   ],
   "source": [
    "URL = 'https://maps.googleapis.com/maps/api/geocode/json?'\n",
    "params = { 'address':'null-address','key':API_KEY}\n",
    "\n",
    "results = []\n",
    "for inx,address in enumerate(address_arr):\n",
    "    if inx%500 == 0:\n",
    "        print(f\"at iteration {inx}\")\n",
    "    params['address'] = address\n",
    "    r = requests.get(URL,params=params)\n",
    "    results.append(r.json()['results'][0])"
   ]
  },
  {
   "cell_type": "code",
   "execution_count": 71,
   "metadata": {},
   "outputs": [],
   "source": [
    "temp = pd.DataFrame(index= address_arr, data = results)"
   ]
  },
  {
   "cell_type": "code",
   "execution_count": 75,
   "metadata": {},
   "outputs": [],
   "source": [
    "temp.to_csv('poco-geocodedata.csv')"
   ]
  },
  {
   "cell_type": "code",
   "execution_count": null,
   "metadata": {},
   "outputs": [],
   "source": []
  }
 ],
 "metadata": {
  "kernelspec": {
   "display_name": "Python 3",
   "language": "python",
   "name": "python3"
  },
  "language_info": {
   "codemirror_mode": {
    "name": "ipython",
    "version": 3
   },
   "file_extension": ".py",
   "mimetype": "text/x-python",
   "name": "python",
   "nbconvert_exporter": "python",
   "pygments_lexer": "ipython3",
   "version": "3.8.2"
  }
 },
 "nbformat": 4,
 "nbformat_minor": 5
}
