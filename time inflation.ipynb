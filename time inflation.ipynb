{
 "cells": [
  {
   "cell_type": "code",
   "execution_count": 2,
   "id": "utility-committee",
   "metadata": {},
   "outputs": [],
   "source": [
    "import pandas as pd"
   ]
  },
  {
   "cell_type": "code",
   "execution_count": 2,
   "id": "impressive-geology",
   "metadata": {},
   "outputs": [],
   "source": [
    "# Reading in time matrix\n",
    "timeMatrix = pd.read_csv('C:/Users/Aidan/OneDrive - Simon Fraser University (1sfu)/Garbage Route Optimization/timeMatrix.csv', index_col=0)"
   ]
  },
  {
   "cell_type": "code",
   "execution_count": 3,
   "id": "qualified-leonard",
   "metadata": {},
   "outputs": [],
   "source": [
    "# Reading in locations\n",
    "locations = pd.read_csv('C:/Users/Aidan/OneDrive - Simon Fraser University (1sfu)/Garbage Route Optimization/locations_updated.csv', index_col=0)"
   ]
  },
  {
   "cell_type": "code",
   "execution_count": 97,
   "id": "combined-nowhere",
   "metadata": {},
   "outputs": [],
   "source": [
    "# Filtering out garbage\n",
    "locations = locations[~(locations['Address'] == 'NO ADDRESS, Port Coquitlam, BC, Canada')]"
   ]
  },
  {
   "cell_type": "code",
   "execution_count": 5,
   "id": "false-mining",
   "metadata": {},
   "outputs": [
    {
     "name": "stdout",
     "output_type": "stream",
     "text": [
      "['1251', 'CONFEDERATION', 'DR,', 'Port', 'Coquitlam,', 'BC,', 'Canada']\n"
     ]
    }
   ],
   "source": [
    "addressNumber = [] # hold address number\n",
    "street = [] # holds street\n",
    "\n",
    "# Splitting the address into 'Address' and 'Street', recording it in separate lists\n",
    "for row in locations.index.str.split(' ').values:  \n",
    "    if row[0] == 'A-2163': # There is one weird value, just handling this here\n",
    "        addressNumber.append(int(2163))\n",
    "    else:\n",
    "        addressNumber.append(int(row[0]))\n",
    "    street.append(' '.join(row[1:-4]))\n",
    "    \n",
    "    print(row)\n",
    "    break"
   ]
  },
  {
   "cell_type": "code",
   "execution_count": 110,
   "id": "equivalent-providence",
   "metadata": {},
   "outputs": [],
   "source": [
    "# Creating new columns\n",
    "locations['addressNumber']  = addressNumber\n",
    "locations['street'] = street"
   ]
  },
  {
   "cell_type": "code",
   "execution_count": 137,
   "id": "blind-chaos",
   "metadata": {},
   "outputs": [],
   "source": [
    "# Copying time matrix to new variable so I dont hae to keep reading in the time matrix\n",
    "timeMatrixAdjusted = timeMatrix.copy()"
   ]
  },
  {
   "cell_type": "code",
   "execution_count": 138,
   "id": "helpful-forge",
   "metadata": {},
   "outputs": [],
   "source": [
    "streets = locations['street'].unique()\n",
    "for street in streets:\n",
    "    locationsFiltered = locations[locations['street'] == street]\n",
    "    locationsFilteredEven = locationsFiltered[locationsFiltered['addressNumber'] % 2 == 0]\n",
    "    locationsFilteredOdd = locationsFiltered[locationsFiltered['addressNumber'] % 2 == 1]\n",
    "    \n",
    "    for index, even in locationsFilteredEven.iterrows():\n",
    "        for index, odd in locationsFilteredOdd.iterrows():\n",
    "            timeMatrixAdjusted.loc[even['Address'], odd['Address']] += 90\n",
    "            timeMatrixAdjusted.loc[odd['Address'],even['Address']] += 90"
   ]
  },
  {
   "cell_type": "code",
   "execution_count": 140,
   "id": "apparent-harvey",
   "metadata": {},
   "outputs": [],
   "source": [
    "timeMatrixAdjusted.to_csv('C:/Users/Aidan/OneDrive - Simon Fraser University (1sfu)/Garbage Route Optimization/timeMatrixAdjusted.csv')"
   ]
  },
  {
   "cell_type": "code",
   "execution_count": null,
   "id": "searching-guitar",
   "metadata": {},
   "outputs": [],
   "source": []
  },
  {
   "cell_type": "code",
   "execution_count": null,
   "id": "capable-mirror",
   "metadata": {},
   "outputs": [],
   "source": []
  },
  {
   "cell_type": "code",
   "execution_count": null,
   "id": "advised-saying",
   "metadata": {},
   "outputs": [],
   "source": []
  },
  {
   "cell_type": "code",
   "execution_count": null,
   "id": "grand-lender",
   "metadata": {},
   "outputs": [],
   "source": []
  }
 ],
 "metadata": {
  "kernelspec": {
   "display_name": "Python 3",
   "language": "python",
   "name": "python3"
  },
  "language_info": {
   "codemirror_mode": {
    "name": "ipython",
    "version": 3
   },
   "file_extension": ".py",
   "mimetype": "text/x-python",
   "name": "python",
   "nbconvert_exporter": "python",
   "pygments_lexer": "ipython3",
   "version": "3.8.5"
  }
 },
 "nbformat": 4,
 "nbformat_minor": 5
}
