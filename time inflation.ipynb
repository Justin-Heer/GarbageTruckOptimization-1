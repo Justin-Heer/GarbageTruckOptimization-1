{
 "cells": [
  {
   "cell_type": "markdown",
   "id": "wired-probability",
   "metadata": {},
   "source": [
    "This workbook inflates the travel times between even/odd addresses on the same street"
   ]
  },
  {
   "cell_type": "code",
   "execution_count": 1,
   "id": "liked-iceland",
   "metadata": {},
   "outputs": [],
   "source": [
    "import pandas as pd"
   ]
  },
  {
   "cell_type": "code",
   "execution_count": 2,
   "id": "headed-ranch",
   "metadata": {
    "pycharm": {
     "is_executing": true
    }
   },
   "outputs": [],
   "source": [
    "# Reading in time matrix\n",
    "timeMatrix = pd.read_csv('timeMatrixUpdated.csv', index_col=0)"
   ]
  },
  {
   "cell_type": "code",
   "execution_count": 9,
   "id": "alleged-irish",
   "metadata": {},
   "outputs": [],
   "source": [
    "locations = pd.read_csv('locationsUpdated.csv',index_col=0)"
   ]
  },
  {
   "cell_type": "code",
   "execution_count": 12,
   "id": "fewer-drama",
   "metadata": {
    "pycharm": {
     "is_executing": true
    }
   },
   "outputs": [],
   "source": [
    "# Filtering out garbage\n",
    "locations = locations[~(locations.index == 'NO ADDRESS, Port Coquitlam, BC, Canada')]"
   ]
  },
  {
   "cell_type": "code",
   "execution_count": 13,
   "id": "continent-harris",
   "metadata": {},
   "outputs": [
    {
     "data": {
      "text/html": [
       "<div>\n",
       "<style scoped>\n",
       "    .dataframe tbody tr th:only-of-type {\n",
       "        vertical-align: middle;\n",
       "    }\n",
       "\n",
       "    .dataframe tbody tr th {\n",
       "        vertical-align: top;\n",
       "    }\n",
       "\n",
       "    .dataframe thead th {\n",
       "        text-align: right;\n",
       "    }\n",
       "</style>\n",
       "<table border=\"1\" class=\"dataframe\">\n",
       "  <thead>\n",
       "    <tr style=\"text-align: right;\">\n",
       "      <th></th>\n",
       "      <th>long</th>\n",
       "      <th>lat</th>\n",
       "    </tr>\n",
       "  </thead>\n",
       "  <tbody>\n",
       "    <tr>\n",
       "      <th>1251 CONFEDERATION DR, Port Coquitlam, BC, Canada</th>\n",
       "      <td>-122.784035</td>\n",
       "      <td>49.237803</td>\n",
       "    </tr>\n",
       "    <tr>\n",
       "      <th>1212 DEWAR WAY, Port Coquitlam, BC, Canada</th>\n",
       "      <td>-122.787270</td>\n",
       "      <td>49.235443</td>\n",
       "    </tr>\n",
       "    <tr>\n",
       "      <th>2442 KENSINGTON CRES, Port Coquitlam, BC, Canada</th>\n",
       "      <td>-122.780643</td>\n",
       "      <td>49.235915</td>\n",
       "    </tr>\n",
       "    <tr>\n",
       "      <th>2645 KLASSEN CRT, Port Coquitlam, BC, Canada</th>\n",
       "      <td>-122.785899</td>\n",
       "      <td>49.238425</td>\n",
       "    </tr>\n",
       "    <tr>\n",
       "      <th>1465 MORRISON ST, Port Coquitlam, BC, Canada</th>\n",
       "      <td>-122.767825</td>\n",
       "      <td>49.241679</td>\n",
       "    </tr>\n",
       "    <tr>\n",
       "      <th>...</th>\n",
       "      <td>...</td>\n",
       "      <td>...</td>\n",
       "    </tr>\n",
       "    <tr>\n",
       "      <th>2330 WILSON AVE, Port Coquitlam, BC, Canada</th>\n",
       "      <td>-122.783297</td>\n",
       "      <td>49.260651</td>\n",
       "    </tr>\n",
       "    <tr>\n",
       "      <th>2360 WILSON AVE, Port Coquitlam, BC, Canada</th>\n",
       "      <td>-122.784202</td>\n",
       "      <td>49.260628</td>\n",
       "    </tr>\n",
       "    <tr>\n",
       "      <th>2378 WILSON AVE, Port Coquitlam, BC, Canada</th>\n",
       "      <td>-122.784806</td>\n",
       "      <td>49.260613</td>\n",
       "    </tr>\n",
       "    <tr>\n",
       "      <th>2439 WILSON AVE, Port Coquitlam, BC, Canada</th>\n",
       "      <td>-122.785871</td>\n",
       "      <td>49.261071</td>\n",
       "    </tr>\n",
       "    <tr>\n",
       "      <th>2484 WILSON AVE, Port Coquitlam, BC, Canada</th>\n",
       "      <td>-122.787508</td>\n",
       "      <td>49.260594</td>\n",
       "    </tr>\n",
       "  </tbody>\n",
       "</table>\n",
       "<p>10218 rows × 2 columns</p>\n",
       "</div>"
      ],
      "text/plain": [
       "                                                         long        lat\n",
       "1251 CONFEDERATION DR, Port Coquitlam, BC, Canada -122.784035  49.237803\n",
       "1212 DEWAR WAY, Port Coquitlam, BC, Canada        -122.787270  49.235443\n",
       "2442 KENSINGTON CRES, Port Coquitlam, BC, Canada  -122.780643  49.235915\n",
       "2645 KLASSEN CRT, Port Coquitlam, BC, Canada      -122.785899  49.238425\n",
       "1465 MORRISON ST, Port Coquitlam, BC, Canada      -122.767825  49.241679\n",
       "...                                                       ...        ...\n",
       "2330 WILSON AVE, Port Coquitlam, BC, Canada       -122.783297  49.260651\n",
       "2360 WILSON AVE, Port Coquitlam, BC, Canada       -122.784202  49.260628\n",
       "2378 WILSON AVE, Port Coquitlam, BC, Canada       -122.784806  49.260613\n",
       "2439 WILSON AVE, Port Coquitlam, BC, Canada       -122.785871  49.261071\n",
       "2484 WILSON AVE, Port Coquitlam, BC, Canada       -122.787508  49.260594\n",
       "\n",
       "[10218 rows x 2 columns]"
      ]
     },
     "execution_count": 13,
     "metadata": {},
     "output_type": "execute_result"
    }
   ],
   "source": [
    "locations"
   ]
  },
  {
   "cell_type": "code",
   "execution_count": 15,
   "id": "searching-highway",
   "metadata": {
    "pycharm": {
     "is_executing": true
    }
   },
   "outputs": [],
   "source": [
    "addressNumber = [] # hold address number\n",
    "street = [] # holds street\n",
    "\n",
    "# Splitting the address into 'Address' and 'Street', recording it in separate lists\n",
    "for row in locations.index.str.split(' ').values:  \n",
    "    if row[0] == 'A-2163': # There is one weird value, just handling this here\n",
    "        addressNumber.append(int(2163))\n",
    "    else:\n",
    "        addressNumber.append(int(row[0]))\n",
    "    street.append(' '.join(row[1:-4]))\n",
    "    \n",
    "#     print(row)\n",
    "#     break"
   ]
  },
  {
   "cell_type": "code",
   "execution_count": 18,
   "id": "bright-review",
   "metadata": {
    "pycharm": {
     "is_executing": true
    }
   },
   "outputs": [
    {
     "name": "stderr",
     "output_type": "stream",
     "text": [
      "<ipython-input-18-838ef4f989ee>:2: SettingWithCopyWarning: \n",
      "A value is trying to be set on a copy of a slice from a DataFrame.\n",
      "Try using .loc[row_indexer,col_indexer] = value instead\n",
      "\n",
      "See the caveats in the documentation: https://pandas.pydata.org/pandas-docs/stable/user_guide/indexing.html#returning-a-view-versus-a-copy\n",
      "  locations['addressNumber']  = addressNumber\n",
      "<ipython-input-18-838ef4f989ee>:3: SettingWithCopyWarning: \n",
      "A value is trying to be set on a copy of a slice from a DataFrame.\n",
      "Try using .loc[row_indexer,col_indexer] = value instead\n",
      "\n",
      "See the caveats in the documentation: https://pandas.pydata.org/pandas-docs/stable/user_guide/indexing.html#returning-a-view-versus-a-copy\n",
      "  locations['street'] = street\n"
     ]
    }
   ],
   "source": [
    "# Creating new columns\n",
    "locations['addressNumber']  = addressNumber\n",
    "locations['street'] = street"
   ]
  },
  {
   "cell_type": "code",
   "execution_count": 19,
   "id": "inner-origin",
   "metadata": {},
   "outputs": [
    {
     "data": {
      "text/html": [
       "<div>\n",
       "<style scoped>\n",
       "    .dataframe tbody tr th:only-of-type {\n",
       "        vertical-align: middle;\n",
       "    }\n",
       "\n",
       "    .dataframe tbody tr th {\n",
       "        vertical-align: top;\n",
       "    }\n",
       "\n",
       "    .dataframe thead th {\n",
       "        text-align: right;\n",
       "    }\n",
       "</style>\n",
       "<table border=\"1\" class=\"dataframe\">\n",
       "  <thead>\n",
       "    <tr style=\"text-align: right;\">\n",
       "      <th></th>\n",
       "      <th>long</th>\n",
       "      <th>lat</th>\n",
       "      <th>addressNumber</th>\n",
       "      <th>street</th>\n",
       "    </tr>\n",
       "  </thead>\n",
       "  <tbody>\n",
       "    <tr>\n",
       "      <th>1251 CONFEDERATION DR, Port Coquitlam, BC, Canada</th>\n",
       "      <td>-122.784035</td>\n",
       "      <td>49.237803</td>\n",
       "      <td>1251</td>\n",
       "      <td>CONFEDERATION DR,</td>\n",
       "    </tr>\n",
       "    <tr>\n",
       "      <th>1212 DEWAR WAY, Port Coquitlam, BC, Canada</th>\n",
       "      <td>-122.787270</td>\n",
       "      <td>49.235443</td>\n",
       "      <td>1212</td>\n",
       "      <td>DEWAR WAY,</td>\n",
       "    </tr>\n",
       "    <tr>\n",
       "      <th>2442 KENSINGTON CRES, Port Coquitlam, BC, Canada</th>\n",
       "      <td>-122.780643</td>\n",
       "      <td>49.235915</td>\n",
       "      <td>2442</td>\n",
       "      <td>KENSINGTON CRES,</td>\n",
       "    </tr>\n",
       "    <tr>\n",
       "      <th>2645 KLASSEN CRT, Port Coquitlam, BC, Canada</th>\n",
       "      <td>-122.785899</td>\n",
       "      <td>49.238425</td>\n",
       "      <td>2645</td>\n",
       "      <td>KLASSEN CRT,</td>\n",
       "    </tr>\n",
       "    <tr>\n",
       "      <th>1465 MORRISON ST, Port Coquitlam, BC, Canada</th>\n",
       "      <td>-122.767825</td>\n",
       "      <td>49.241679</td>\n",
       "      <td>1465</td>\n",
       "      <td>MORRISON ST,</td>\n",
       "    </tr>\n",
       "    <tr>\n",
       "      <th>...</th>\n",
       "      <td>...</td>\n",
       "      <td>...</td>\n",
       "      <td>...</td>\n",
       "      <td>...</td>\n",
       "    </tr>\n",
       "    <tr>\n",
       "      <th>2330 WILSON AVE, Port Coquitlam, BC, Canada</th>\n",
       "      <td>-122.783297</td>\n",
       "      <td>49.260651</td>\n",
       "      <td>2330</td>\n",
       "      <td>WILSON AVE,</td>\n",
       "    </tr>\n",
       "    <tr>\n",
       "      <th>2360 WILSON AVE, Port Coquitlam, BC, Canada</th>\n",
       "      <td>-122.784202</td>\n",
       "      <td>49.260628</td>\n",
       "      <td>2360</td>\n",
       "      <td>WILSON AVE,</td>\n",
       "    </tr>\n",
       "    <tr>\n",
       "      <th>2378 WILSON AVE, Port Coquitlam, BC, Canada</th>\n",
       "      <td>-122.784806</td>\n",
       "      <td>49.260613</td>\n",
       "      <td>2378</td>\n",
       "      <td>WILSON AVE,</td>\n",
       "    </tr>\n",
       "    <tr>\n",
       "      <th>2439 WILSON AVE, Port Coquitlam, BC, Canada</th>\n",
       "      <td>-122.785871</td>\n",
       "      <td>49.261071</td>\n",
       "      <td>2439</td>\n",
       "      <td>WILSON AVE,</td>\n",
       "    </tr>\n",
       "    <tr>\n",
       "      <th>2484 WILSON AVE, Port Coquitlam, BC, Canada</th>\n",
       "      <td>-122.787508</td>\n",
       "      <td>49.260594</td>\n",
       "      <td>2484</td>\n",
       "      <td>WILSON AVE,</td>\n",
       "    </tr>\n",
       "  </tbody>\n",
       "</table>\n",
       "<p>10218 rows × 4 columns</p>\n",
       "</div>"
      ],
      "text/plain": [
       "                                                         long        lat  \\\n",
       "1251 CONFEDERATION DR, Port Coquitlam, BC, Canada -122.784035  49.237803   \n",
       "1212 DEWAR WAY, Port Coquitlam, BC, Canada        -122.787270  49.235443   \n",
       "2442 KENSINGTON CRES, Port Coquitlam, BC, Canada  -122.780643  49.235915   \n",
       "2645 KLASSEN CRT, Port Coquitlam, BC, Canada      -122.785899  49.238425   \n",
       "1465 MORRISON ST, Port Coquitlam, BC, Canada      -122.767825  49.241679   \n",
       "...                                                       ...        ...   \n",
       "2330 WILSON AVE, Port Coquitlam, BC, Canada       -122.783297  49.260651   \n",
       "2360 WILSON AVE, Port Coquitlam, BC, Canada       -122.784202  49.260628   \n",
       "2378 WILSON AVE, Port Coquitlam, BC, Canada       -122.784806  49.260613   \n",
       "2439 WILSON AVE, Port Coquitlam, BC, Canada       -122.785871  49.261071   \n",
       "2484 WILSON AVE, Port Coquitlam, BC, Canada       -122.787508  49.260594   \n",
       "\n",
       "                                                   addressNumber  \\\n",
       "1251 CONFEDERATION DR, Port Coquitlam, BC, Canada           1251   \n",
       "1212 DEWAR WAY, Port Coquitlam, BC, Canada                  1212   \n",
       "2442 KENSINGTON CRES, Port Coquitlam, BC, Canada            2442   \n",
       "2645 KLASSEN CRT, Port Coquitlam, BC, Canada                2645   \n",
       "1465 MORRISON ST, Port Coquitlam, BC, Canada                1465   \n",
       "...                                                          ...   \n",
       "2330 WILSON AVE, Port Coquitlam, BC, Canada                 2330   \n",
       "2360 WILSON AVE, Port Coquitlam, BC, Canada                 2360   \n",
       "2378 WILSON AVE, Port Coquitlam, BC, Canada                 2378   \n",
       "2439 WILSON AVE, Port Coquitlam, BC, Canada                 2439   \n",
       "2484 WILSON AVE, Port Coquitlam, BC, Canada                 2484   \n",
       "\n",
       "                                                              street  \n",
       "1251 CONFEDERATION DR, Port Coquitlam, BC, Canada  CONFEDERATION DR,  \n",
       "1212 DEWAR WAY, Port Coquitlam, BC, Canada                DEWAR WAY,  \n",
       "2442 KENSINGTON CRES, Port Coquitlam, BC, Canada    KENSINGTON CRES,  \n",
       "2645 KLASSEN CRT, Port Coquitlam, BC, Canada            KLASSEN CRT,  \n",
       "1465 MORRISON ST, Port Coquitlam, BC, Canada            MORRISON ST,  \n",
       "...                                                              ...  \n",
       "2330 WILSON AVE, Port Coquitlam, BC, Canada              WILSON AVE,  \n",
       "2360 WILSON AVE, Port Coquitlam, BC, Canada              WILSON AVE,  \n",
       "2378 WILSON AVE, Port Coquitlam, BC, Canada              WILSON AVE,  \n",
       "2439 WILSON AVE, Port Coquitlam, BC, Canada              WILSON AVE,  \n",
       "2484 WILSON AVE, Port Coquitlam, BC, Canada              WILSON AVE,  \n",
       "\n",
       "[10218 rows x 4 columns]"
      ]
     },
     "execution_count": 19,
     "metadata": {},
     "output_type": "execute_result"
    }
   ],
   "source": [
    "locations"
   ]
  },
  {
   "cell_type": "code",
   "execution_count": 20,
   "id": "pregnant-glass",
   "metadata": {
    "pycharm": {
     "is_executing": true
    }
   },
   "outputs": [],
   "source": [
    "# Copying time matrix to new variable so I dont have to keep reading in the time matrix\n",
    "timeMatrixAdjusted = timeMatrix.copy()"
   ]
  },
  {
   "cell_type": "code",
   "execution_count": 22,
   "id": "norman-barbados",
   "metadata": {},
   "outputs": [
    {
     "name": "stderr",
     "output_type": "stream",
     "text": [
      "<ipython-input-22-4c679796c715>:1: SettingWithCopyWarning: \n",
      "A value is trying to be set on a copy of a slice from a DataFrame.\n",
      "Try using .loc[row_indexer,col_indexer] = value instead\n",
      "\n",
      "See the caveats in the documentation: https://pandas.pydata.org/pandas-docs/stable/user_guide/indexing.html#returning-a-view-versus-a-copy\n",
      "  locations['Address'] = locations.index\n"
     ]
    }
   ],
   "source": [
    "locations['Address'] = locations.index"
   ]
  },
  {
   "cell_type": "code",
   "execution_count": 23,
   "id": "ongoing-reviewer",
   "metadata": {
    "pycharm": {
     "is_executing": true
    }
   },
   "outputs": [],
   "source": [
    "streets = locations['street'].unique()\n",
    "for street in streets:\n",
    "    locationsFiltered = locations[locations['street'] == street]\n",
    "    locationsFilteredEven = locationsFiltered[locationsFiltered['addressNumber'] % 2 == 0]\n",
    "    locationsFilteredOdd = locationsFiltered[locationsFiltered['addressNumber'] % 2 == 1]\n",
    "    \n",
    "    for index, even in locationsFilteredEven.iterrows():\n",
    "        for index, odd in locationsFilteredOdd.iterrows():\n",
    "            timeMatrixAdjusted.loc[even['Address'], odd['Address']] += 90\n",
    "            timeMatrixAdjusted.loc[odd['Address'],even['Address']] += 90"
   ]
  },
  {
   "cell_type": "code",
   "execution_count": 24,
   "id": "attractive-bahamas",
   "metadata": {
    "pycharm": {
     "is_executing": true
    }
   },
   "outputs": [],
   "source": [
    "timeMatrixAdjusted.to_csv('timeMatrixUpdatedInflated.csv')"
   ]
  },
  {
   "cell_type": "code",
   "execution_count": null,
   "id": "tamil-colony",
   "metadata": {
    "pycharm": {
     "is_executing": true
    }
   },
   "outputs": [],
   "source": []
  },
  {
   "cell_type": "code",
   "execution_count": null,
   "id": "martial-accommodation",
   "metadata": {
    "pycharm": {
     "is_executing": true
    }
   },
   "outputs": [],
   "source": []
  },
  {
   "cell_type": "code",
   "execution_count": null,
   "id": "involved-completion",
   "metadata": {
    "pycharm": {
     "is_executing": true
    }
   },
   "outputs": [],
   "source": []
  },
  {
   "cell_type": "code",
   "execution_count": null,
   "id": "duplicate-course",
   "metadata": {
    "pycharm": {
     "is_executing": true
    }
   },
   "outputs": [],
   "source": []
  }
 ],
 "metadata": {
  "kernelspec": {
   "display_name": "Python 3",
   "language": "python",
   "name": "python3"
  },
  "language_info": {
   "codemirror_mode": {
    "name": "ipython",
    "version": 3
   },
   "file_extension": ".py",
   "mimetype": "text/x-python",
   "name": "python",
   "nbconvert_exporter": "python",
   "pygments_lexer": "ipython3",
   "version": "3.8.5"
  }
 },
 "nbformat": 4,
 "nbformat_minor": 5
}