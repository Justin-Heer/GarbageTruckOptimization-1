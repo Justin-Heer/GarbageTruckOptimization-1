{
 "cells": [
  {
   "cell_type": "code",
   "execution_count": 133,
   "metadata": {},
   "outputs": [],
   "source": [
    "import glob\n",
    "import pandas as pd\n",
    "import time\n",
    "import numpy as np"
   ]
  },
  {
   "cell_type": "markdown",
   "metadata": {},
   "source": [
    "# Creating Sparse Matrix"
   ]
  },
  {
   "cell_type": "code",
   "execution_count": 106,
   "metadata": {},
   "outputs": [],
   "source": [
    "# Reading in all the results\n",
    "paths = glob.glob('C:/Users/Aidan/OneDrive - Simon Fraser University (1sfu)/Garbage Route Optimization/Query results/*.csv')\n",
    "\n",
    "dfs = [pd.read_csv(filename, index_col=0) for filename in paths]\n",
    "\n",
    "df = pd.concat(dfs,ignore_index=True)"
   ]
  },
  {
   "cell_type": "code",
   "execution_count": 107,
   "metadata": {},
   "outputs": [],
   "source": [
    "locations = pd.read_csv('C:/Users/Aidan/OneDrive - Simon Fraser University (1sfu)/Garbage Route Optimization/locations_updated.csv',index_col=0)\n",
    "locations['Address'] = locations.index\n",
    "locations = locations[['long','lat']]"
   ]
  },
  {
   "cell_type": "code",
   "execution_count": 108,
   "metadata": {},
   "outputs": [],
   "source": [
    "# Reading in the list of new locations\n",
    "extras = pd.read_csv('C:/Users/Aidan/OneDrive - Simon Fraser University (1sfu)/Garbage Route Optimization/poco-geocodedataExtraLocations.csv',index_col=5)\n",
    "extras = extras[['longitude','latitude']]\n",
    "extras = extras.rename(columns={'longitude':'long','latitude':'lat'})"
   ]
  },
  {
   "cell_type": "code",
   "execution_count": 109,
   "metadata": {},
   "outputs": [],
   "source": [
    "# Creating master list of locations\n",
    "locationsComplete = pd.concat([locations,extras])"
   ]
  },
  {
   "cell_type": "code",
   "execution_count": 110,
   "metadata": {},
   "outputs": [],
   "source": [
    "locationsSet = set(locationsComplete.index)"
   ]
  },
  {
   "cell_type": "code",
   "execution_count": 112,
   "metadata": {},
   "outputs": [],
   "source": [
    "# Creating a locations dataframe, each locations has a unique, in order index\n",
    "locationsDF = pd.DataFrame({'locations':list(locationsSet)})\n",
    "locationsDF['location'] = locationsDF.index"
   ]
  },
  {
   "cell_type": "code",
   "execution_count": 113,
   "metadata": {},
   "outputs": [],
   "source": [
    "end = df[['time','end']]\n",
    "end = pd.merge(end, locationsDF,how='left', left_on='end', right_on='locations')[['end','location']]\n",
    "end = end.rename(columns={'location':'endLocation'})"
   ]
  },
  {
   "cell_type": "code",
   "execution_count": 114,
   "metadata": {},
   "outputs": [],
   "source": [
    "start = df[['time','start']]\n",
    "start = pd.merge(start, locationsDF,how='left', left_on='start', right_on='locations')[['time','start','location']]\n",
    "start = start.rename(columns={'location':'startLocation'})"
   ]
  },
  {
   "cell_type": "code",
   "execution_count": 120,
   "metadata": {},
   "outputs": [],
   "source": [
    "indexedQueries = pd.DataFrame({'time':start['time'],\n",
    "              'start':start['start'],\n",
    "              'startLocation':start['startLocation'],\n",
    "              'end':end['end'],\n",
    "              'endLocation':end['endLocation']})"
   ]
  },
  {
   "cell_type": "code",
   "execution_count": 168,
   "metadata": {},
   "outputs": [],
   "source": [
    "timeMatrix = np.empty((len(locationsDF),len(locationsDF)))\n",
    "timeMatrix[:] = np.nan"
   ]
  },
  {
   "cell_type": "code",
   "execution_count": 169,
   "metadata": {
    "pycharm": {
     "is_executing": true
    }
   },
   "outputs": [
    {
     "name": "stdout",
     "output_type": "stream",
     "text": [
      "3 % Complete\n",
      "5 % Complete\n",
      "8 % Complete\n",
      "10 % Complete\n",
      "13 % Complete\n",
      "15 % Complete\n",
      "18 % Complete\n",
      "20 % Complete\n",
      "23 % Complete\n",
      "26 % Complete\n",
      "28 % Complete\n",
      "31 % Complete\n",
      "33 % Complete\n",
      "36 % Complete\n",
      "38 % Complete\n",
      "41 % Complete\n",
      "44 % Complete\n",
      "46 % Complete\n",
      "49 % Complete\n",
      "51 % Complete\n",
      "54 % Complete\n",
      "56 % Complete\n",
      "59 % Complete\n",
      "61 % Complete\n",
      "64 % Complete\n",
      "67 % Complete\n",
      "69 % Complete\n",
      "72 % Complete\n",
      "74 % Complete\n",
      "77 % Complete\n",
      "79 % Complete\n",
      "82 % Complete\n",
      "84 % Complete\n",
      "87 % Complete\n",
      "90 % Complete\n",
      "92 % Complete\n",
      "95 % Complete\n",
      "97 % Complete\n",
      "100 % Complete\n"
     ]
    }
   ],
   "source": [
    "i = 0\n",
    "total = len(indexedQueries)\n",
    "t0 = time.time()\n",
    "for rowNum, row in indexedQueries.iterrows():\n",
    "    timeMatrix[row['startLocation'], row['endLocation']] = row['time']\n",
    "    timeMatrix[row['endLocation'], row['startLocation']] = row['time']\n",
    "    \n",
    "    i += 1\n",
    "    if i % 10000 == 0:\n",
    "        print(round(100*i/total), '% Complete')   "
   ]
  },
  {
   "cell_type": "code",
   "execution_count": 170,
   "metadata": {
    "pycharm": {
     "is_executing": true
    }
   },
   "outputs": [
    {
     "name": "stdout",
     "output_type": "stream",
     "text": [
      "3 % Complete\n"
     ]
    }
   ],
   "source": [
    "i = 0\n",
    "for i in range(0,len(timeMatrix)):\n",
    "    timeMatrix[i,i] = 0\n",
    "    i += 1\n",
    "    if i % 10000 == 0:\n",
    "        print(round(100*i/total), '% Complete')"
   ]
  },
  {
   "cell_type": "code",
   "execution_count": 175,
   "metadata": {},
   "outputs": [],
   "source": [
    "timeMatrixDF = pd.DataFrame(timeMatrix, index = locationsDF['locations'],columns = locationsDF['locations'])"
   ]
  },
  {
   "cell_type": "code",
   "execution_count": 182,
   "metadata": {
    "pycharm": {
     "is_executing": true
    }
   },
   "outputs": [],
   "source": [
    "timeMatrixDF.to_csv('C:/Users/Aidan/OneDrive - Simon Fraser University (1sfu)/Garbage Route Optimization/sparseTimeMatrixUpdated.csv')"
   ]
  }
 ],
 "metadata": {
  "kernelspec": {
   "display_name": "Python 3",
   "language": "python",
   "name": "python3"
  },
  "language_info": {
   "codemirror_mode": {
    "name": "ipython",
    "version": 3
   },
   "file_extension": ".py",
   "mimetype": "text/x-python",
   "name": "python",
   "nbconvert_exporter": "python",
   "pygments_lexer": "ipython3",
   "version": "3.8.5"
  }
 },
 "nbformat": 4,
 "nbformat_minor": 1
}