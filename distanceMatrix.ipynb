{
 "cells": [
  {
   "cell_type": "code",
   "execution_count": 1,
   "metadata": {
    "pycharm": {
     "is_executing": true
    }
   },
   "outputs": [],
   "source": [
    "import glob\n",
    "import pandas as pd"
   ]
  },
  {
   "cell_type": "markdown",
   "metadata": {},
   "source": [
    "# Creating Sparse Matrix"
   ]
  },
  {
   "cell_type": "code",
   "execution_count": 2,
   "metadata": {
    "pycharm": {
     "is_executing": true
    }
   },
   "outputs": [],
   "source": [
    "paths = glob.glob('C:/Users/Aidan/OneDrive - Simon Fraser University (1sfu)/Garbage Route Optimization/Query results/*.csv')\n",
    "\n",
    "dfs = [pd.read_csv(filename, index_col=0) for filename in paths]\n",
    "\n",
    "df = pd.concat(dfs,ignore_index=True)"
   ]
  },
  {
   "cell_type": "code",
   "execution_count": 3,
   "metadata": {
    "pycharm": {
     "is_executing": true
    }
   },
   "outputs": [],
   "source": [
    "locations = pd.read_csv('C:/Users/Aidan/OneDrive - Simon Fraser University (1sfu)/Garbage Route Optimization/locations_updated.csv',index_col=0)\n",
    "locations['Address'] = locations.index"
   ]
  },
  {
   "cell_type": "code",
   "execution_count": null,
   "metadata": {
    "pycharm": {
     "is_executing": true
    }
   },
   "outputs": [],
   "source": [
    "timeMatrix = pd.DataFrame(index = set(locations['Address']), columns = set(locations['Address']))\n",
    "# distanceMatrix = pd.DataFrame(index = set(locations['Address']), columns = set(locations['Address']))\n",
    "# directionMatrix = pd.DataFrame(index = set(locations['Address']), columns = set(locations['Address']))\n",
    "\n",
    "i = 0\n",
    "total = len(df)\n",
    "for rowNum, row in df.iterrows():\n",
    "    timeMatrix.loc[row['start'], row['end']] = row['time']\n",
    "    timeMatrix.loc[row['end'], row['start']] = row['time'] # Not doing this since it makes it easier later to have the Nans\n",
    "    \n",
    "#     distanceMatrix.loc[row['start'], row['end']] = row['distance']\n",
    "#     distanceMatrix.loc[row['end'], row['start']] = row['distance']\n",
    "    \n",
    "#     directionMatrix.loc[row['start'], row['end']] = row['directions']\n",
    "#     directionMatrix.loc[row['end'], row['start']] = row['directions']\n",
    "    \n",
    "    i += 1\n",
    "    if i % 3000 == 0:\n",
    "        print(round(100*i/total), '% Complete')\n",
    "\n",
    "\n",
    "i = 0\n",
    "for i in range(0,len(timeMatrix)):\n",
    "    timeMatrix.iloc[i,i] = 0\n",
    "    i += 1\n",
    "    if i % 10000 == 0:\n",
    "        print(round(100*i/total), '% Complete')\n",
    "    \n",
    "\n",
    "\n",
    "# timeMatrix = pd.read_csv('timeMatrix.csv', index_col=0)\n",
    "# distanceMatrix = pd.read_csv('distanceMatrix.csv')\n",
    "# directionMatrix = pd.read_csv('directionMatrix.csv')\n",
    "# directionMatrix.to_csv('directionMatrix.csv')\n",
    "    "
   ]
  },
  {
   "cell_type": "code",
   "execution_count": null,
   "metadata": {
    "pycharm": {
     "is_executing": true
    }
   },
   "outputs": [],
   "source": [
    "timeMatrix.to_csv('sparseTimeMatrix.csv')"
   ]
  },
  {
   "cell_type": "code",
   "execution_count": 4,
   "metadata": {},
   "outputs": [],
   "source": [
    "sparseMatrix = pd.read_csv('C:/Users/Aidan/OneDrive - Simon Fraser University (1sfu)/Garbage Route Optimization/sparseTimeMatrix.csv', index_col=0)"
   ]
  },
  {
   "cell_type": "code",
   "execution_count": 8,
   "metadata": {},
   "outputs": [],
   "source": [
    "sparseMatrix1 = sparseMatrix.iloc[0:len(sparseMatrix)]\n",
    "sparseMatrix2 = sparseMatrix.iloc[len(sparseMatrix):]"
   ]
  },
  {
   "cell_type": "code",
   "execution_count": 9,
   "metadata": {},
   "outputs": [],
   "source": [
    "sparseMatrix1.to_csv('C:/Users/Aidan/OneDrive - Simon Fraser University (1sfu)/Garbage Route Optimization/sparseTimeMatrix1.csv')\n",
    "sparseMatrix2.to_csv('C:/Users/Aidan/OneDrive - Simon Fraser University (1sfu)/Garbage Route Optimization/sparseTimeMatrix2.csv')"
   ]
  },
  {
   "cell_type": "markdown",
   "metadata": {},
   "source": [
    "# Dijkstra's Algorithm"
   ]
  },
  {
   "cell_type": "code",
   "execution_count": null,
   "metadata": {
    "pycharm": {
     "is_executing": true
    }
   },
   "outputs": [],
   "source": [
    "import multiprocessing as mp\n",
    "import numpy as np\n",
    "\n",
    "def dijkstrasThread(graph,locations, rows, processNumber, returnDict):\n",
    "    print(\"here\")\n",
    "    results = pd.DataFrame(columns = set(locations))\n",
    "    print(results)\n",
    "    for row in rows:\n",
    "        dist_matrix, predecessors = dijkstra(csgraph=graph, indices=0, directed=False, return_predecessors=True)\n",
    "        results.loc[locations[row]] = dist_matrix\n",
    "        \n",
    "\n",
    "        \n",
    "#     print(results)\n",
    "\n",
    "graph = [\n",
    "\n",
    "[0, 1, 2, 0],\n",
    "\n",
    "[0, 0, 0, 1],\n",
    "\n",
    "[0, 0, 0, 3],\n",
    "\n",
    "[0, 0, 0, 0]\n",
    "\n",
    "]\n",
    "\n",
    "graph = csr_matrix(graph)\n",
    "\n",
    "        \n",
    "# dijkstrasThread(graph, ['0','1','2','3'],[0,1], 1, {})\n",
    "    "
   ]
  },
  {
   "cell_type": "code",
   "execution_count": null,
   "metadata": {
    "pycharm": {
     "is_executing": true
    }
   },
   "outputs": [],
   "source": [
    "# Number of processes\n",
    "numProcesses = 1\n",
    "\n",
    "df = [\n",
    "\n",
    "[0, 1, 2, 0],\n",
    "\n",
    "[0, 0, 0, 1],\n",
    "\n",
    "[0, 0, 0, 3],\n",
    "\n",
    "[0, 0, 0, 0]\n",
    "\n",
    "]\n",
    "\n",
    "df = pd.DataFrame(df)\n",
    "\n",
    "graph = csr_matrix(graph)\n",
    "\n",
    "\n",
    "# Creating the segments to divide up the dataframe between the threads\n",
    "segments = np.array_split(np.array(range(0, len(df))), numProcesses)\n",
    "\n",
    "# Dividing up the threads\n",
    "dataFrames = []\n",
    "for i in segments:\n",
    "    dataFrames.append(df.iloc[i[0]: i[-1] + 1, ])\n",
    "\n",
    "# Creating the threads\n",
    "processes = []\n",
    "manager = mp.Manager()\n",
    "return_dict = manager.dict()\n",
    "\n",
    "for process in range(0, numProcesses):\n",
    "    processes.append(\n",
    "        mp.Process(target=dijkstrasThread, args=(graph, ['0','1','2','3'], segments[process], process, return_dict))\n",
    "    )\n",
    "\n",
    "# Starting the threads\n",
    "for process in range(0, numProcesses):\n",
    "    processes[process].start()\n",
    "\n",
    "# Joining the threads\n",
    "for process in range(0, numProcesses):\n",
    "    processes[process].join()\n",
    "\n",
    "# Putting all the dataframes together into 1\n",
    "# results = return_dict[0]\n",
    "\n",
    "# if numProcesses > 1:\n",
    "#     for process in range(1, numProcesses):\n",
    "#         results = pd.concat([results, return_dict[process]], axis=0)"
   ]
  },
  {
   "cell_type": "code",
   "execution_count": null,
   "metadata": {
    "pycharm": {
     "is_executing": true
    }
   },
   "outputs": [],
   "source": []
  },
  {
   "cell_type": "code",
   "execution_count": null,
   "metadata": {
    "pycharm": {
     "is_executing": true
    }
   },
   "outputs": [],
   "source": []
  },
  {
   "cell_type": "code",
   "execution_count": null,
   "metadata": {
    "pycharm": {
     "is_executing": true
    }
   },
   "outputs": [],
   "source": []
  },
  {
   "cell_type": "code",
   "execution_count": null,
   "metadata": {
    "pycharm": {
     "is_executing": true
    }
   },
   "outputs": [],
   "source": []
  },
  {
   "cell_type": "code",
   "execution_count": null,
   "metadata": {
    "pycharm": {
     "is_executing": true
    }
   },
   "outputs": [],
   "source": [
    "from scipy.sparse import csr_matrix\n",
    "from scipy.sparse.csgraph import dijkstra\n",
    "\n",
    "# Defining the matrix for scipy\n",
    "# graph = csr_matrix(timeMatrix.astype(float))"
   ]
  },
  {
   "cell_type": "code",
   "execution_count": null,
   "metadata": {
    "pycharm": {
     "is_executing": true
    }
   },
   "outputs": [],
   "source": [
    "import time"
   ]
  },
  {
   "cell_type": "code",
   "execution_count": null,
   "metadata": {
    "pycharm": {
     "is_executing": true
    }
   },
   "outputs": [],
   "source": [
    "# timeMatrix.values\n",
    "\n",
    "t0 = time.time()\n",
    "\n",
    "dist_matrix, predecessors = dijkstra(csgraph=graph, directed=False, indices=1, return_predecessors=True)    \n",
    "t1 = time.time()\n",
    "print(t1 - t0)\n",
    "\n"
   ]
  },
  {
   "cell_type": "code",
   "execution_count": null,
   "metadata": {
    "pycharm": {
     "is_executing": true
    }
   },
   "outputs": [],
   "source": [
    "sum(dist_matrix==-9999)"
   ]
  },
  {
   "cell_type": "code",
   "execution_count": null,
   "metadata": {
    "pycharm": {
     "is_executing": true
    }
   },
   "outputs": [],
   "source": [
    "print(dist_matrix)\n",
    "print(predecessors)\n",
    "\n",
    "86400"
   ]
  },
  {
   "cell_type": "code",
   "execution_count": null,
   "metadata": {
    "pycharm": {
     "is_executing": true
    }
   },
   "outputs": [],
   "source": []
  },
  {
   "cell_type": "code",
   "execution_count": null,
   "metadata": {
    "pycharm": {
     "is_executing": true
    }
   },
   "outputs": [],
   "source": []
  },
  {
   "cell_type": "code",
   "execution_count": null,
   "metadata": {
    "pycharm": {
     "is_executing": true
    }
   },
   "outputs": [],
   "source": [
    "from scipy.sparse import csr_matrix\n",
    "\n",
    "from scipy.sparse.csgraph import dijkstra\n",
    "\n",
    "\n",
    "\n",
    "graph = [\n",
    "\n",
    "[0, 1, 2, 0],\n",
    "\n",
    "[0, 0, 0, 1],\n",
    "\n",
    "[0, 0, 0, 3],\n",
    "\n",
    "[0, 0, 0, 0]\n",
    "\n",
    "]\n",
    "\n",
    "graph = csr_matrix(graph)\n",
    "\n",
    "\n",
    "\n",
    "\n",
    "\n",
    "dist_matrix, predecessors = dijkstra(csgraph=graph, indices=1, directed=False, return_predecessors=True)\n",
    "# dist_matrix, predecessors = dijkstra(csgraph=graph, directed=False, return_predecessors=True)\n",
    "\n",
    "print(dist_matrix)\n",
    "\n",
    "print(predecessors)\n"
   ]
  },
  {
   "cell_type": "code",
   "execution_count": null,
   "metadata": {
    "pycharm": {
     "is_executing": true
    }
   },
   "outputs": [],
   "source": [
    "def createRoutes(locations, routes, start):\n",
    "    completeRoutes = {}\n",
    "    for i in range(0,len(locations)):\n",
    "        if i == start:\n",
    "            completeRoutes[start] = [start]\n",
    "        else:\n",
    "            vertex = i\n",
    "            route = [vertex]\n",
    "            \n",
    "            while vertex != start:\n",
    "                vertex = routes[vertex]\n",
    "                route.insert(0,vertex)\n",
    "                completeRoutes[i] = route\n",
    "                \n",
    "    return completeRoutes\n",
    "print(createRoutes([0,1,2,3], predecessors,1))"
   ]
  },
  {
   "cell_type": "code",
   "execution_count": null,
   "metadata": {
    "pycharm": {
     "is_executing": true
    }
   },
   "outputs": [],
   "source": [
    "def createRoutes(locations, routes):\n",
    "    traversal = pd.DataFrame(index = locations, columns = locations)\n",
    "    for i in range(0,len(locations)):\n",
    "        for j in range(0,len(locations)):\n",
    "            if i == j:\n",
    "                traversal.iloc[i,j] = [0]\n",
    "            else:\n",
    "                vertex = j\n",
    "                route = [vertex]\n",
    "                while vertex != i:\n",
    "                    vertex = routes[i,vertex]\n",
    "                    route.insert(0,vertex)\n",
    "                traversal.iloc[i,j] = route\n",
    "                \n",
    "    return traversal\n",
    "    \n",
    "\n",
    "    \n",
    "print(createRoutes([0,1,2,3], predecessors))"
   ]
  },
  {
   "cell_type": "code",
   "execution_count": null,
   "metadata": {
    "pycharm": {
     "is_executing": true
    }
   },
   "outputs": [],
   "source": []
  },
  {
   "cell_type": "code",
   "execution_count": null,
   "metadata": {
    "pycharm": {
     "is_executing": true
    }
   },
   "outputs": [],
   "source": []
  },
  {
   "cell_type": "code",
   "execution_count": null,
   "metadata": {
    "pycharm": {
     "is_executing": true
    }
   },
   "outputs": [],
   "source": []
  },
  {
   "cell_type": "code",
   "execution_count": null,
   "metadata": {
    "pycharm": {
     "is_executing": true
    }
   },
   "outputs": [],
   "source": []
  },
  {
   "cell_type": "code",
   "execution_count": null,
   "metadata": {
    "pycharm": {
     "is_executing": true
    }
   },
   "outputs": [],
   "source": []
  }
 ],
 "metadata": {
  "kernelspec": {
   "display_name": "Python 3",
   "language": "python",
   "name": "python3"
  },
  "language_info": {
   "codemirror_mode": {
    "name": "ipython",
    "version": 3
   },
   "file_extension": ".py",
   "mimetype": "text/x-python",
   "name": "python",
   "nbconvert_exporter": "python",
   "pygments_lexer": "ipython3",
   "version": "3.8.5"
  }
 },
 "nbformat": 4,
 "nbformat_minor": 1
}