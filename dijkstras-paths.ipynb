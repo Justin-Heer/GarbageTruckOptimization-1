{
 "cells": [
  {
   "cell_type": "code",
   "execution_count": 1,
   "id": "statewide-stereo",
   "metadata": {},
   "outputs": [],
   "source": [
    "import pandas as pd\n",
    "import numpy as np\n",
    "%config Completer.use_jedi = False"
   ]
  },
  {
   "cell_type": "code",
   "execution_count": 2,
   "id": "coordinated-raise",
   "metadata": {},
   "outputs": [],
   "source": [
    "data = pd.read_csv(r'csvs/dijkstra-data.csv',index_col=0)"
   ]
  },
  {
   "cell_type": "code",
   "execution_count": 3,
   "id": "distant-exchange",
   "metadata": {},
   "outputs": [],
   "source": [
    "# Create a list of unvisited houses to track which nodes the algo has not visited yet\n",
    "unvisited_ls = data.index.to_list()\n",
    "\n",
    "# Select which node you want to be your source node\n",
    "source = unvisited_ls[0]\n",
    "\n",
    "# Initialize your dataframe that stores the distances from the source\n",
    "# to each  house \n",
    "dists_df = pd.DataFrame(np.Inf,index=data.index, columns=[source])\n",
    "\n",
    "# Create a set to store every house that has been visited, initialize it to the source\n",
    "visited_set = {source}\n",
    "\n",
    "# Create a variable to store the current house\n",
    "curr = source\n",
    "\n",
    "# Set the distance to the source as 0\n",
    "dists_df.loc[source] = 0"
   ]
  },
  {
   "cell_type": "code",
   "execution_count": 4,
   "id": "blind-prevention",
   "metadata": {},
   "outputs": [
    {
     "name": "stdout",
     "output_type": "stream",
     "text": [
      "conditional termination of while loop\n"
     ]
    }
   ],
   "source": [
    "# While unvisited_ls is not empty\n",
    "while unvisited_ls: \n",
    "    \n",
    "    # If the distance to the current node is set to infinity, throw an error\n",
    "    if dists_df.loc[curr].values[0] == np.Inf:\n",
    "        print('curr is {}'.format(curr))\n",
    "        raise Exception('not working properly')\n",
    "    \n",
    "    # Create an index of all the nodes connected to the current node\n",
    "    inx = data[curr].notna()\n",
    "    \n",
    "    # If the current node has no connected nodes at all, throw an error\n",
    "    if inx.sum() == 0:\n",
    "        raise Exception('No distance data for this house')\n",
    "    \n",
    "    # for each node connected to the current node, we want to update the distances from the source\n",
    "    for node in data.loc[curr,inx].index:\n",
    "        \n",
    "        # if the distance from the current node to the node in question plus\n",
    "        # the distance from the source to the current node is less than the \n",
    "        # currently assigned distance from the source to the node in question, reassign\n",
    "        \n",
    "        if data.at[curr,node] + dists_df.at[curr, source] < dists_df.at[node, source]:\n",
    "            dists_df.at[node, source] = data.at[curr,node] + dists_df.at[curr, source]\n",
    "    \n",
    "    # We want to find the new minimum node, aka the next closest house to the source\n",
    "    # node that hasn't been visited\n",
    "    \n",
    "    # first remove the current node from unvisited, because we have already visitied it above\n",
    "    unvisited_ls.remove(curr)\n",
    "\n",
    "    # Create a list of condender nodes for the minimum node\n",
    "    lsOfNodes = list(set(unvisited_ls)-visited_set)\n",
    "    \n",
    "    # check if the minimum distance is infinity, if yes then set all values \n",
    "    # to big number and then terminate while loop\n",
    "    if (dists_df.loc[lsOfNodes].min()[0] == np.Inf):\n",
    "        dists_df.loc[lsOfNodes] = 1e6\n",
    "        print('conditional termination of while loop')\n",
    "        break\n",
    "     \n",
    "    # Set the new value of minNode\n",
    "    try:\n",
    "        minNode = dists_df.loc[lsOfNodes].idxmin()[0]\n",
    "    except:\n",
    "        # If lsOfNodes is empty then pass, this happens on the final loop iteration\n",
    "        if not lsOfNodes:\n",
    "            pass\n",
    "        else:\n",
    "            raise Exception('Error when calculating new minNode')\n",
    "    \n",
    "    # prepare for the next iteration, add the minNode to the visited set and set current node\n",
    "    visited_set.add(minNode)\n",
    "    curr = minNode\n"
   ]
  }
 ],
 "metadata": {
  "kernelspec": {
   "display_name": "Python 3",
   "language": "python",
   "name": "python3"
  },
  "language_info": {
   "codemirror_mode": {
    "name": "ipython",
    "version": 3
   },
   "file_extension": ".py",
   "mimetype": "text/x-python",
   "name": "python",
   "nbconvert_exporter": "python",
   "pygments_lexer": "ipython3",
   "version": "3.7.9"
  }
 },
 "nbformat": 4,
 "nbformat_minor": 5
}
