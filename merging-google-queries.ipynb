{
 "cells": [
  {
   "cell_type": "code",
   "execution_count": 51,
   "id": "applicable-fellowship",
   "metadata": {},
   "outputs": [],
   "source": [
    "import pandas as pd\n",
    "import glob\n",
    "import numpy as np\n",
    "%config Completer.use_jedi = False"
   ]
  },
  {
   "cell_type": "code",
   "execution_count": 151,
   "id": "featured-occupation",
   "metadata": {},
   "outputs": [],
   "source": [
    "paths = glob.glob('google-distance-csvs/*.csv')\n",
    "\n",
    "dfs = [pd.read_csv(path) for path in paths]\n",
    "\n",
    "df = pd.concat(dfs)"
   ]
  },
  {
   "cell_type": "code",
   "execution_count": 152,
   "id": "equivalent-antibody",
   "metadata": {},
   "outputs": [],
   "source": [
    "df.drop(['Unnamed: 0', 'directions'], axis=1, inplace=True)"
   ]
  },
  {
   "cell_type": "code",
   "execution_count": 281,
   "id": "optical-excellence",
   "metadata": {},
   "outputs": [],
   "source": [
    "df.reset_index(inplace=True, drop= True)\n",
    "df['time'] = df['time'].astype(np.int16)"
   ]
  },
  {
   "cell_type": "code",
   "execution_count": 302,
   "id": "secure-rescue",
   "metadata": {},
   "outputs": [],
   "source": [
    "index = np.unique(np.concatenate((df['start'].values, df['end'].values)))"
   ]
  },
  {
   "cell_type": "code",
   "execution_count": 313,
   "id": "alternative-truck",
   "metadata": {},
   "outputs": [],
   "source": [
    "df1 = pd.DataFrame(index=index,columns=index)"
   ]
  },
  {
   "cell_type": "code",
   "execution_count": 314,
   "id": "filled-fusion",
   "metadata": {},
   "outputs": [],
   "source": [
    "for start,row in df.iterrows():\n",
    "    \n",
    "    df1.loc[row['start'], row['end']] = row['time']\n",
    "    df1.loc[row['end'], row['start']] = row['time']\n",
    "np.fill_diagonal(df1.values,0)"
   ]
  },
  {
   "cell_type": "code",
   "execution_count": 317,
   "id": "emerging-lawyer",
   "metadata": {},
   "outputs": [],
   "source": [
    "df1.to_csv('csvs\\dijkstra-data.csv')"
   ]
  }
 ],
 "metadata": {
  "kernelspec": {
   "display_name": "Python 3",
   "language": "python",
   "name": "python3"
  },
  "language_info": {
   "codemirror_mode": {
    "name": "ipython",
    "version": 3
   },
   "file_extension": ".py",
   "mimetype": "text/x-python",
   "name": "python",
   "nbconvert_exporter": "python",
   "pygments_lexer": "ipython3",
   "version": "3.7.9"
  }
 },
 "nbformat": 4,
 "nbformat_minor": 5
}
