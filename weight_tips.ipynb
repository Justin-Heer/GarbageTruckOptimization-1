{
 "cells": [
  {
   "cell_type": "code",
   "execution_count": 197,
   "metadata": {},
   "outputs": [],
   "source": [
    "import pandas as pd\n",
    "import datetime\n",
    "import re\n",
    "import glob"
   ]
  },
  {
   "cell_type": "code",
   "execution_count": 198,
   "metadata": {},
   "outputs": [],
   "source": [
    "path = r'C:\\Users\\Aidan\\OneDrive - Simon Fraser University (1sfu)\\Garbage Route Optimization\\Weekly Weight and Tips' # use your path\n",
    "all_files = glob.glob(path + \"/*.xls\")\n",
    "li = []\n",
    "for filename in all_files:\n",
    "    df = pd.read_excel(filename,\n",
    "                  header=[0,1])\n",
    "    li.append(df)"
   ]
  },
  {
   "cell_type": "code",
   "execution_count": 199,
   "metadata": {},
   "outputs": [],
   "source": [
    "for i in range(0,len(li)):\n",
    "    li[i].columns=li[i].columns.to_flat_index()\n",
    "    li[i] = li[i].iloc[1:,]"
   ]
  },
  {
   "cell_type": "code",
   "execution_count": 200,
   "metadata": {},
   "outputs": [],
   "source": [
    "# Creating data frame\n",
    "\n",
    "# This contains granular info\n",
    "dailyInfo = pd.DataFrame(columns=['fileName',\n",
    "                                  'date',\n",
    "                                  'zone',\n",
    "                                  'driver',\n",
    "                                  'truckNumber',\n",
    "                                  'garbageTips',\n",
    "                                  'garbageWeight',\n",
    "                                  'garbageTime',\n",
    "                                 'recyclingTips',\n",
    "                                 'recyclingWeight',\n",
    "                                 'recyclingTime',\n",
    "                                 'greenTips',\n",
    "                                 'greenWeight',\n",
    "                                 'greenTime'])\n",
    "\n",
    "# Note I dont bother with the totals since they can be calculated from the above dataframe"
   ]
  },
  {
   "cell_type": "code",
   "execution_count": null,
   "metadata": {},
   "outputs": [],
   "source": [
    "# Regulard expression to capture the zone\n",
    "zoneExpression = re.compile(r'[Zz]one\\s*\\S*')\n",
    "customerExpression = re.compile(r'[Cc]ustomer')\n",
    "\n",
    "\n",
    "for i in range(0,len(li)):\n",
    "    # Getting the df we are working with\n",
    "    df = li[i]\n",
    "    \n",
    "    # Getting the filename for reference\n",
    "    fileName = all_files[0][all_files[0].rfind('\\\\')+1:]\n",
    "    \n",
    "    # Zeroing these out, these need to be non to detect when we need to look ahead to find the zone\n",
    "    date = None\n",
    "    zone = None\n",
    "\n",
    "    for i, row in df.iterrows():    \n",
    "        # Extracting Values\n",
    "        rowValues = list(row)\n",
    "        \n",
    "        # Testing for the last row, if yes we stop\n",
    "        if all(pd.isnull(i) for i in rowValues):\n",
    "            break\n",
    "\n",
    "        # These only get zeroed out when the date/zone changes\n",
    "        # This is also detecting rows that contain totals, we aren't recording these as they can be easily calculated \n",
    "        # using the data set\n",
    "        if customerExpression.match(str(rowValues[0])):\n",
    "            date = None\n",
    "            zone = None\n",
    "            continue\n",
    "\n",
    "        # Extracting the current date\n",
    "        if isinstance(rowValues[0], datetime.datetime):\n",
    "            date = rowValues[0]     \n",
    "\n",
    "\n",
    "        if zone == None:\n",
    "            zoneValues = [ word for i, word in enumerate(list(df.iloc[i,:])) if zoneExpression.match(str(word))]\n",
    "            if len(zoneValues) > 0:\n",
    "                zone = zoneValues[0]\n",
    "\n",
    "\n",
    "        driver = rowValues[1]\n",
    "        truckNumber = rowValues[2]\n",
    "        garbageTips = rowValues[3]\n",
    "        garbageWeight = rowValues[4]\n",
    "        garbageTime = rowValues[5]\n",
    "        recyclingTips = rowValues[6]\n",
    "        recyclingWeight = rowValues[7]\n",
    "        recyclingTime = rowValues[8]\n",
    "        greenTips = rowValues[9]\n",
    "        greenWeight = rowValues[10]\n",
    "        greenTime = rowValues[11]\n",
    "\n",
    "        # Just skipping some useless rows here (its the greyed rows stuff in the excel files)\n",
    "        if zone == None:\n",
    "            continue\n",
    "\n",
    "        dailyInfo = dailyInfo.append({'fileName':fileName,\n",
    "                                      'date':date,\n",
    "                                      'zone':zone,\n",
    "                                      'driver':driver,\n",
    "                                      'truckNumber':truckNumber,\n",
    "                                      'garbageTips':garbageTips,\n",
    "                                      'garbageWeight':garbageWeight,\n",
    "                                      'garbageTime':garbageTime,\n",
    "                                      'recyclingTips':recyclingTips,\n",
    "                                      'recyclingWeight':recyclingWeight,\n",
    "                                      'recyclingTime':recyclingTime,\n",
    "                                      'greenTips':greenTips,\n",
    "                                      'greenWeight':greenWeight,\n",
    "                                      'greenTime':greenTime},ignore_index=True)\n",
    "\n",
    "\n",
    "        # Zeroing out values to prevent bad data\n",
    "        if customerExpression.match(str(rowValues[0])):\n",
    "            date = None\n",
    "            zone = None"
   ]
  },
  {
   "cell_type": "code",
   "execution_count": 192,
   "metadata": {},
   "outputs": [],
   "source": [
    "dailyInfo.to_csv('C:/Users/Aidan/OneDrive - Simon Fraser University (1sfu)/Garbage Route Optimization/Weekly Weight and Tips/dailyinfo.csv')"
   ]
  }
 ],
 "metadata": {
  "kernelspec": {
   "display_name": "Python 3",
   "language": "python",
   "name": "python3"
  },
  "language_info": {
   "codemirror_mode": {
    "name": "ipython",
    "version": 3
   },
   "file_extension": ".py",
   "mimetype": "text/x-python",
   "name": "python",
   "nbconvert_exporter": "python",
   "pygments_lexer": "ipython3",
   "version": "3.8.5"
  }
 },
 "nbformat": 4,
 "nbformat_minor": 1
}
