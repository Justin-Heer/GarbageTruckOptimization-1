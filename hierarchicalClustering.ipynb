{
 "cells": [
  {
   "cell_type": "code",
   "execution_count": 1,
   "id": "ordinary-charger",
   "metadata": {},
   "outputs": [],
   "source": [
    "import pandas as pd"
   ]
  },
  {
   "cell_type": "code",
   "execution_count": 2,
   "id": "rising-investigator",
   "metadata": {},
   "outputs": [],
   "source": [
    "timeMatrix = pd.read_csv('C:/Users/Aidan/OneDrive - Simon Fraser University (1sfu)/Garbage Route Optimization/timeMatrix.csv', index_col=0)"
   ]
  },
  {
   "cell_type": "code",
   "execution_count": 3,
   "id": "universal-waterproof",
   "metadata": {},
   "outputs": [],
   "source": [
    "tM = timeMatrix.iloc[0:10,0:10]"
   ]
  },
  {
   "cell_type": "code",
   "execution_count": 4,
   "id": "funny-advancement",
   "metadata": {},
   "outputs": [
    {
     "name": "stdout",
     "output_type": "stream",
     "text": [
      "Index(['1608 STELLA PL, Port Coquitlam, BC, Canada',\n",
      "       '1131 CASTLE CRES, Port Coquitlam, BC, Canada',\n",
      "       '1788 MARY HILL RD, Port Coquitlam, BC, Canada',\n",
      "       '1239 KNIGHTS CRT, Port Coquitlam, BC, Canada',\n",
      "       '2075 ROUTLEY AVE, Port Coquitlam, BC, Canada',\n",
      "       '3065 COAST MERIDIAN RD, Port Coquitlam, BC, Canada',\n",
      "       '2359 BEGBIE TERR, Port Coquitlam, BC, Canada',\n",
      "       '1012 LOMBARDY DR, Port Coquitlam, BC, Canada',\n",
      "       '1310 PRAIRIE AVE, Port Coquitlam, BC, Canada',\n",
      "       '3337 FIR ST, Port Coquitlam, BC, Canada'],\n",
      "      dtype='object')\n",
      "fdsa\n"
     ]
    }
   ],
   "source": [
    "def clustering(matrix, desiredClustersClusters):\n",
    "    numClusters = len(matrix)\n",
    "    print(matrix.index)\n",
    "    clusters = pd.DataFrame({'address':matrix.index,'cluster':range(0,len(matrix))})  \n",
    "    while numClusters > desiredClustersClusters:\n",
    "        \n",
    "        print('fdsa')\n",
    "        \n",
    "        \n",
    "        break\n",
    "    \n",
    "    \n",
    "clustering(tM, 5)"
   ]
  },
  {
   "cell_type": "code",
   "execution_count": 4,
   "id": "polyphonic-accessory",
   "metadata": {},
   "outputs": [],
   "source": []
  },
  {
   "cell_type": "code",
   "execution_count": 4,
   "id": "economic-thomas",
   "metadata": {},
   "outputs": [],
   "source": []
  },
  {
   "cell_type": "code",
   "execution_count": 4,
   "id": "alternate-broadcast",
   "metadata": {},
   "outputs": [],
   "source": []
  },
  {
   "cell_type": "code",
   "execution_count": 4,
   "id": "eleven-textbook",
   "metadata": {},
   "outputs": [],
   "source": []
  },
  {
   "cell_type": "code",
   "execution_count": 4,
   "id": "musical-training",
   "metadata": {},
   "outputs": [],
   "source": []
  },
  {
   "cell_type": "code",
   "execution_count": 4,
   "id": "mental-leather",
   "metadata": {},
   "outputs": [],
   "source": []
  }
 ],
 "metadata": {
  "kernelspec": {
   "display_name": "Python 3",
   "language": "python",
   "name": "python3"
  },
  "language_info": {
   "codemirror_mode": {
    "name": "ipython",
    "version": 3
   },
   "file_extension": ".py",
   "mimetype": "text/x-python",
   "name": "python",
   "nbconvert_exporter": "python",
   "pygments_lexer": "ipython3",
   "version": "3.8.5"
  }
 },
 "nbformat": 4,
 "nbformat_minor": 5
}