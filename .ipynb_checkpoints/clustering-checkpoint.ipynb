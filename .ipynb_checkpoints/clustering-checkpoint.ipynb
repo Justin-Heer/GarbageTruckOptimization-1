{
 "cells": [
  {
   "cell_type": "code",
   "execution_count": 2,
   "metadata": {
    "pycharm": {
     "is_executing": true
    }
   },
   "outputs": [],
   "source": [
    "import pandas as pd\n",
    "from sklearn.cluster import AgglomerativeClustering"
   ]
  },
  {
   "cell_type": "code",
   "execution_count": 3,
   "metadata": {
    "pycharm": {
     "is_executing": true
    }
   },
   "outputs": [],
   "source": [
    "timeMatrix = pd.read_csv('C:/Users/Aidan/OneDrive - Simon Fraser University (1sfu)/Garbage Route Optimization/timeMatrix.csv', index_col=0)"
   ]
  },
  {
   "cell_type": "code",
   "execution_count": 301,
   "metadata": {
    "pycharm": {
     "is_executing": true
    }
   },
   "outputs": [],
   "source": [
    "t1 = timeMatrix.iloc[0:100,0:100]\n",
    "t = timeMatrix"
   ]
  },
  {
   "cell_type": "code",
   "execution_count": 264,
   "metadata": {},
   "outputs": [],
   "source": [
    "from sklearn.preprocessing import normalize\n",
    "t = normalize(t1)"
   ]
  },
  {
   "cell_type": "code",
   "execution_count": 302,
   "metadata": {
    "pycharm": {
     "is_executing": true
    }
   },
   "outputs": [
    {
     "name": "stderr",
     "output_type": "stream",
     "text": [
      "C:\\Users\\Aidan\\anaconda3\\envs\\tf\\lib\\site-packages\\sklearn\\cluster\\_agglomerative.py:493: ClusterWarning: scipy.cluster: The symmetric non-negative hollow observation matrix looks suspiciously like an uncondensed distance matrix\n",
      "  out = hierarchy.linkage(X, method=linkage, metric=affinity)\n"
     ]
    }
   ],
   "source": [
    "model = AgglomerativeClustering(n_clusters=5, affinity='euclidean', \n",
    "                                linkage='average')\n",
    "model.fit_predict(t)\n",
    "labels = model.labels_"
   ]
  },
  {
   "cell_type": "code",
   "execution_count": 308,
   "metadata": {},
   "outputs": [
    {
     "data": {
      "text/plain": [
       "100"
      ]
     },
     "execution_count": 308,
     "metadata": {},
     "output_type": "execute_result"
    }
   ],
   "source": []
  },
  {
   "cell_type": "code",
   "execution_count": 309,
   "metadata": {
    "pycharm": {
     "is_executing": true
    }
   },
   "outputs": [
    {
     "data": {
      "text/html": [
       "<div>\n",
       "<style scoped>\n",
       "    .dataframe tbody tr th:only-of-type {\n",
       "        vertical-align: middle;\n",
       "    }\n",
       "\n",
       "    .dataframe tbody tr th {\n",
       "        vertical-align: top;\n",
       "    }\n",
       "\n",
       "    .dataframe thead th {\n",
       "        text-align: right;\n",
       "    }\n",
       "</style>\n",
       "<table border=\"1\" class=\"dataframe\">\n",
       "  <thead>\n",
       "    <tr style=\"text-align: right;\">\n",
       "      <th></th>\n",
       "      <th>address</th>\n",
       "    </tr>\n",
       "    <tr>\n",
       "      <th>cluster</th>\n",
       "      <th></th>\n",
       "    </tr>\n",
       "  </thead>\n",
       "  <tbody>\n",
       "    <tr>\n",
       "      <th>4</th>\n",
       "      <td>17</td>\n",
       "    </tr>\n",
       "    <tr>\n",
       "      <th>2</th>\n",
       "      <td>666</td>\n",
       "    </tr>\n",
       "    <tr>\n",
       "      <th>1</th>\n",
       "      <td>2109</td>\n",
       "    </tr>\n",
       "    <tr>\n",
       "      <th>0</th>\n",
       "      <td>3522</td>\n",
       "    </tr>\n",
       "    <tr>\n",
       "      <th>3</th>\n",
       "      <td>3596</td>\n",
       "    </tr>\n",
       "  </tbody>\n",
       "</table>\n",
       "</div>"
      ],
      "text/plain": [
       "         address\n",
       "cluster         \n",
       "4             17\n",
       "2            666\n",
       "1           2109\n",
       "0           3522\n",
       "3           3596"
      ]
     },
     "execution_count": 309,
     "metadata": {},
     "output_type": "execute_result"
    }
   ],
   "source": [
    "clusters = pd.DataFrame({'cluster':labels, 'address':t.index})\n",
    "clusters.groupby('cluster').nunique().sort_values(by='address')"
   ]
  },
  {
   "cell_type": "code",
   "execution_count": 322,
   "metadata": {},
   "outputs": [
    {
     "name": "stdout",
     "output_type": "stream",
     "text": [
      "[False False False False False False False False False False False False\n",
      " False False False False False False False False False False False False\n",
      " False False False False False False False False False False False False\n",
      " False False False False False False False False False False False False\n",
      " False False False False False False False False False False False False\n",
      " False False False False False False False False False False False False\n",
      " False False False False False False False False False False False False\n",
      " False False False False False False False False False False False False\n",
      " False False False False]\n",
      "4\n",
      "         address\n",
      "cluster         \n",
      "4.0           17\n",
      "2.0          666\n",
      "1.0         2109\n",
      "0.0         3522\n",
      "3.0         3596\n",
      "***********************************\n"
     ]
    }
   ],
   "source": [
    "def adjustClusters(matrix,clusters, deviation, numElementsPerCluster):\n",
    "    clusters = clusters.set_index('address')\n",
    "    clusters['address'] = clusters.index\n",
    "    \n",
    "    numElementsInMin = clusters.groupby('cluster').nunique().sort_values(by='address').values[0][0]\n",
    "    minCluster = clusters.groupby('cluster').nunique().sort_values(by='address').index[0]\n",
    "    \n",
    "    numElementsInMax = clusters.groupby('cluster').nunique().sort_values(by='address').values[-1][0]\n",
    "    maxCluster = clusters.groupby('cluster').nunique().sort_values(by='address').index[-1]\n",
    "    \n",
    "    \n",
    "    \n",
    "    maxDeviation = not (numElementsInMax <= numElementsPerCluster + deviation and numElementsInMax >= numElementsPerCluster - deviation)\n",
    "    minDeviation = not (numElementsInMin <= numElementsPerCluster + deviation and numElementsInMin >= numElementsPerCluster - deviation)\n",
    "\n",
    "    while minDeviation or maxDeviation:\n",
    "        # Determining the elements in the smallest and largest cluster\n",
    "        minClusterElements = clusters[clusters['cluster'] ==  minCluster]['address']\n",
    "        maxClusterElements = clusters[clusters['cluster'] ==  maxCluster]['address']\n",
    "        \n",
    "          \n",
    "\n",
    "        # Filtering the matrix so that the rows have only the min cluster elements and removing the min cluster\n",
    "        # elements from the columns\n",
    "        filteredMatrix = matrix.iloc[matrix.index.isin(minClusterElements.values),matrix.index.isin(maxClusterElements.values)]\n",
    "        \n",
    "        print(matrix.index.isin(minClusterElements.values))\n",
    "        # Determining the closest element to the min cluster\n",
    "        closestElement = filteredMatrix.mean(axis=0).idxmin()\n",
    "        \n",
    "        print(minCluster)\n",
    "#         print(numElementsInMin)\n",
    "        clusters.loc[closestElement,'cluster'] = minCluster\n",
    "        \n",
    "        \n",
    "        numElementsInMin = clusters.groupby('cluster').nunique().sort_values(by='address').values[0][0]\n",
    "        minCluster = clusters.groupby('cluster').nunique().sort_values(by='address').index[0]\n",
    "\n",
    "        numElementsInMax = clusters.groupby('cluster').nunique().sort_values(by='address').values[-1][0]\n",
    "        maxCluster = clusters.groupby('cluster').nunique().sort_values(by='address').index[-1]\n",
    "\n",
    "\n",
    "\n",
    "        maxDeviation = not (numElementsInMax <= numElementsPerCluster + deviation and numElementsInMax >= numElementsPerCluster - deviation)\n",
    "        minDeviation = not (numElementsInMin <= numElementsPerCluster + deviation and numElementsInMin >= numElementsPerCluster - deviation)\n",
    "        \n",
    "        print(clusters.groupby('cluster').nunique().sort_values(by='address'))\n",
    "        print(\"***********************************\")\n",
    "\n",
    "        break\n",
    "        \n",
    "       \n",
    "\n",
    "\n",
    "\n",
    "        \n",
    "    return clusters\n",
    "        \n",
    "    \n",
    "    \n",
    "newClusters = adjustClusters(t1,clusters, 30, 1982)  "
   ]
  },
  {
   "cell_type": "code",
   "execution_count": 271,
   "metadata": {},
   "outputs": [
    {
     "data": {
      "text/html": [
       "<div>\n",
       "<style scoped>\n",
       "    .dataframe tbody tr th:only-of-type {\n",
       "        vertical-align: middle;\n",
       "    }\n",
       "\n",
       "    .dataframe tbody tr th {\n",
       "        vertical-align: top;\n",
       "    }\n",
       "\n",
       "    .dataframe thead th {\n",
       "        text-align: right;\n",
       "    }\n",
       "</style>\n",
       "<table border=\"1\" class=\"dataframe\">\n",
       "  <thead>\n",
       "    <tr style=\"text-align: right;\">\n",
       "      <th></th>\n",
       "      <th>cluster</th>\n",
       "      <th>address</th>\n",
       "    </tr>\n",
       "    <tr>\n",
       "      <th>address</th>\n",
       "      <th></th>\n",
       "      <th></th>\n",
       "    </tr>\n",
       "  </thead>\n",
       "  <tbody>\n",
       "    <tr>\n",
       "      <th>1608 STELLA PL, Port Coquitlam, BC, Canada</th>\n",
       "      <td>1</td>\n",
       "      <td>1608 STELLA PL, Port Coquitlam, BC, Canada</td>\n",
       "    </tr>\n",
       "    <tr>\n",
       "      <th>1131 CASTLE CRES, Port Coquitlam, BC, Canada</th>\n",
       "      <td>3</td>\n",
       "      <td>1131 CASTLE CRES, Port Coquitlam, BC, Canada</td>\n",
       "    </tr>\n",
       "    <tr>\n",
       "      <th>1788 MARY HILL RD, Port Coquitlam, BC, Canada</th>\n",
       "      <td>2</td>\n",
       "      <td>1788 MARY HILL RD, Port Coquitlam, BC, Canada</td>\n",
       "    </tr>\n",
       "    <tr>\n",
       "      <th>1239 KNIGHTS CRT, Port Coquitlam, BC, Canada</th>\n",
       "      <td>3</td>\n",
       "      <td>1239 KNIGHTS CRT, Port Coquitlam, BC, Canada</td>\n",
       "    </tr>\n",
       "    <tr>\n",
       "      <th>2075 ROUTLEY AVE, Port Coquitlam, BC, Canada</th>\n",
       "      <td>4</td>\n",
       "      <td>2075 ROUTLEY AVE, Port Coquitlam, BC, Canada</td>\n",
       "    </tr>\n",
       "    <tr>\n",
       "      <th>...</th>\n",
       "      <td>...</td>\n",
       "      <td>...</td>\n",
       "    </tr>\n",
       "    <tr>\n",
       "      <th>3460 JERVIS ST, Port Coquitlam, BC, Canada</th>\n",
       "      <td>2</td>\n",
       "      <td>3460 JERVIS ST, Port Coquitlam, BC, Canada</td>\n",
       "    </tr>\n",
       "    <tr>\n",
       "      <th>1294 RICARD PL, Port Coquitlam, BC, Canada</th>\n",
       "      <td>3</td>\n",
       "      <td>1294 RICARD PL, Port Coquitlam, BC, Canada</td>\n",
       "    </tr>\n",
       "    <tr>\n",
       "      <th>1821 DORSET AVE, Port Coquitlam, BC, Canada</th>\n",
       "      <td>0</td>\n",
       "      <td>1821 DORSET AVE, Port Coquitlam, BC, Canada</td>\n",
       "    </tr>\n",
       "    <tr>\n",
       "      <th>2135 ANITA DR, Port Coquitlam, BC, Canada</th>\n",
       "      <td>2</td>\n",
       "      <td>2135 ANITA DR, Port Coquitlam, BC, Canada</td>\n",
       "    </tr>\n",
       "    <tr>\n",
       "      <th>3667 MCRAE CRES, Port Coquitlam, BC, Canada</th>\n",
       "      <td>2</td>\n",
       "      <td>3667 MCRAE CRES, Port Coquitlam, BC, Canada</td>\n",
       "    </tr>\n",
       "  </tbody>\n",
       "</table>\n",
       "<p>100 rows × 2 columns</p>\n",
       "</div>"
      ],
      "text/plain": [
       "                                               cluster  \\\n",
       "address                                                  \n",
       "1608 STELLA PL, Port Coquitlam, BC, Canada           1   \n",
       "1131 CASTLE CRES, Port Coquitlam, BC, Canada         3   \n",
       "1788 MARY HILL RD, Port Coquitlam, BC, Canada        2   \n",
       "1239 KNIGHTS CRT, Port Coquitlam, BC, Canada         3   \n",
       "2075 ROUTLEY AVE, Port Coquitlam, BC, Canada         4   \n",
       "...                                                ...   \n",
       "3460 JERVIS ST, Port Coquitlam, BC, Canada           2   \n",
       "1294 RICARD PL, Port Coquitlam, BC, Canada           3   \n",
       "1821 DORSET AVE, Port Coquitlam, BC, Canada          0   \n",
       "2135 ANITA DR, Port Coquitlam, BC, Canada            2   \n",
       "3667 MCRAE CRES, Port Coquitlam, BC, Canada          2   \n",
       "\n",
       "                                                                                     address  \n",
       "address                                                                                       \n",
       "1608 STELLA PL, Port Coquitlam, BC, Canada        1608 STELLA PL, Port Coquitlam, BC, Canada  \n",
       "1131 CASTLE CRES, Port Coquitlam, BC, Canada    1131 CASTLE CRES, Port Coquitlam, BC, Canada  \n",
       "1788 MARY HILL RD, Port Coquitlam, BC, Canada  1788 MARY HILL RD, Port Coquitlam, BC, Canada  \n",
       "1239 KNIGHTS CRT, Port Coquitlam, BC, Canada    1239 KNIGHTS CRT, Port Coquitlam, BC, Canada  \n",
       "2075 ROUTLEY AVE, Port Coquitlam, BC, Canada    2075 ROUTLEY AVE, Port Coquitlam, BC, Canada  \n",
       "...                                                                                      ...  \n",
       "3460 JERVIS ST, Port Coquitlam, BC, Canada        3460 JERVIS ST, Port Coquitlam, BC, Canada  \n",
       "1294 RICARD PL, Port Coquitlam, BC, Canada        1294 RICARD PL, Port Coquitlam, BC, Canada  \n",
       "1821 DORSET AVE, Port Coquitlam, BC, Canada      1821 DORSET AVE, Port Coquitlam, BC, Canada  \n",
       "2135 ANITA DR, Port Coquitlam, BC, Canada          2135 ANITA DR, Port Coquitlam, BC, Canada  \n",
       "3667 MCRAE CRES, Port Coquitlam, BC, Canada      3667 MCRAE CRES, Port Coquitlam, BC, Canada  \n",
       "\n",
       "[100 rows x 2 columns]"
      ]
     },
     "execution_count": 271,
     "metadata": {},
     "output_type": "execute_result"
    }
   ],
   "source": [
    "newClusters"
   ]
  },
  {
   "cell_type": "code",
   "execution_count": 284,
   "metadata": {},
   "outputs": [],
   "source": [
    "coordinates = pd.read_csv('C:/Users/Aidan/OneDrive - Simon Fraser University (1sfu)/Garbage Route Optimization/locations.csv')\n",
    "coordinates = coordinates.rename(columns={'Unnamed: 0':'address'})"
   ]
  },
  {
   "cell_type": "code",
   "execution_count": 294,
   "metadata": {},
   "outputs": [],
   "source": [
    "newClusters = newClusters.reset_index(drop=True)"
   ]
  },
  {
   "cell_type": "code",
   "execution_count": 296,
   "metadata": {},
   "outputs": [],
   "source": [
    "data = newClusters.merge(coordinates)"
   ]
  },
  {
   "cell_type": "code",
   "execution_count": 299,
   "metadata": {},
   "outputs": [
    {
     "data": {
      "text/html": [
       "<div>\n",
       "<style scoped>\n",
       "    .dataframe tbody tr th:only-of-type {\n",
       "        vertical-align: middle;\n",
       "    }\n",
       "\n",
       "    .dataframe tbody tr th {\n",
       "        vertical-align: top;\n",
       "    }\n",
       "\n",
       "    .dataframe thead th {\n",
       "        text-align: right;\n",
       "    }\n",
       "</style>\n",
       "<table border=\"1\" class=\"dataframe\">\n",
       "  <thead>\n",
       "    <tr style=\"text-align: right;\">\n",
       "      <th></th>\n",
       "      <th>cluster</th>\n",
       "      <th>address</th>\n",
       "      <th>lat</th>\n",
       "      <th>long</th>\n",
       "    </tr>\n",
       "  </thead>\n",
       "  <tbody>\n",
       "    <tr>\n",
       "      <th>0</th>\n",
       "      <td>1</td>\n",
       "      <td>1608 STELLA PL, Port Coquitlam, BC, Canada</td>\n",
       "      <td>49.245147</td>\n",
       "      <td>-122.775298</td>\n",
       "    </tr>\n",
       "    <tr>\n",
       "      <th>1</th>\n",
       "      <td>3</td>\n",
       "      <td>1131 CASTLE CRES, Port Coquitlam, BC, Canada</td>\n",
       "      <td>49.233161</td>\n",
       "      <td>-122.777057</td>\n",
       "    </tr>\n",
       "    <tr>\n",
       "      <th>2</th>\n",
       "      <td>2</td>\n",
       "      <td>1788 MARY HILL RD, Port Coquitlam, BC, Canada</td>\n",
       "      <td>49.249363</td>\n",
       "      <td>-122.780524</td>\n",
       "    </tr>\n",
       "    <tr>\n",
       "      <th>3</th>\n",
       "      <td>3</td>\n",
       "      <td>1239 KNIGHTS CRT, Port Coquitlam, BC, Canada</td>\n",
       "      <td>49.236590</td>\n",
       "      <td>-122.779497</td>\n",
       "    </tr>\n",
       "    <tr>\n",
       "      <th>4</th>\n",
       "      <td>4</td>\n",
       "      <td>2075 ROUTLEY AVE, Port Coquitlam, BC, Canada</td>\n",
       "      <td>49.240582</td>\n",
       "      <td>-122.773638</td>\n",
       "    </tr>\n",
       "  </tbody>\n",
       "</table>\n",
       "</div>"
      ],
      "text/plain": [
       "   cluster                                        address        lat  \\\n",
       "0        1     1608 STELLA PL, Port Coquitlam, BC, Canada  49.245147   \n",
       "1        3   1131 CASTLE CRES, Port Coquitlam, BC, Canada  49.233161   \n",
       "2        2  1788 MARY HILL RD, Port Coquitlam, BC, Canada  49.249363   \n",
       "3        3   1239 KNIGHTS CRT, Port Coquitlam, BC, Canada  49.236590   \n",
       "4        4   2075 ROUTLEY AVE, Port Coquitlam, BC, Canada  49.240582   \n",
       "\n",
       "         long  \n",
       "0 -122.775298  \n",
       "1 -122.777057  \n",
       "2 -122.780524  \n",
       "3 -122.779497  \n",
       "4 -122.773638  "
      ]
     },
     "execution_count": 299,
     "metadata": {},
     "output_type": "execute_result"
    }
   ],
   "source": [
    "data.head()"
   ]
  },
  {
   "cell_type": "code",
   "execution_count": 297,
   "metadata": {},
   "outputs": [],
   "source": [
    "import matplotlib.pyplot as plt"
   ]
  },
  {
   "cell_type": "code",
   "execution_count": 300,
   "metadata": {},
   "outputs": [
    {
     "data": {
      "image/png": "[encoded data removed]",
      "text/plain": [
       "<Figure size 432x288 with 1 Axes>"
      ]
     },
     "metadata": {
      "needs_background": "light"
     },
     "output_type": "display_data"
    }
   ],
   "source": [
    "groups = data.groupby(\"cluster\")\n",
    "\n",
    "for name, group in groups:\n",
    "\n",
    "    plt.plot(group[\"lat\"], group[\"long\"], marker=\"o\", linestyle=\"\", label=name)"
   ]
  },
  {
   "cell_type": "code",
   "execution_count": null,
   "metadata": {},
   "outputs": [],
   "source": []
  },
  {
   "cell_type": "code",
   "execution_count": null,
   "metadata": {},
   "outputs": [],
   "source": []
  }
 ],
 "metadata": {
  "kernelspec": {
   "display_name": "Python 3",
   "language": "python",
   "name": "python3"
  },
  "language_info": {
   "codemirror_mode": {
    "name": "ipython",
    "version": 3
   },
   "file_extension": ".py",
   "mimetype": "text/x-python",
   "name": "python",
   "nbconvert_exporter": "python",
   "pygments_lexer": "ipython3",
   "version": "3.8.5"
  }
 },
 "nbformat": 4,
 "nbformat_minor": 1
}
