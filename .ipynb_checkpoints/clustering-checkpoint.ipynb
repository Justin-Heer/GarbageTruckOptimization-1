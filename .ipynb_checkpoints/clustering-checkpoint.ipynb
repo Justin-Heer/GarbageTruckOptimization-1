{
 "cells": [
  {
   "cell_type": "markdown",
   "metadata": {},
   "source": [
    "# Heirarchical Clustering\n",
    "This workbook executes heirarchical clustering, rebalances the results, and vizualizes the results"
   ]
  },
  {
   "cell_type": "code",
   "execution_count": 23,
   "metadata": {
    "pycharm": {
     "is_executing": true
    }
   },
   "outputs": [],
   "source": [
    "import pandas as pd\n",
    "from sklearn.cluster import AgglomerativeClustering"
   ]
  },
  {
   "cell_type": "code",
   "execution_count": 24,
   "metadata": {
    "pycharm": {
     "is_executing": true
    }
   },
   "outputs": [],
   "source": [
    "# Loading in the time matrix\n",
    "timeMatrix = pd.read_csv('C:/Users/Aidan/OneDrive - Simon Fraser University (1sfu)/Garbage Route Optimization/timeMatrix.csv', index_col=0)"
   ]
  },
  {
   "cell_type": "code",
   "execution_count": 25,
   "metadata": {
    "pycharm": {
     "is_executing": true
    }
   },
   "outputs": [],
   "source": [
    "# Loading in the zones\n",
    "zones = pd.read_csv('C:/Users/Aidan/OneDrive - Simon Fraser University (1sfu)/Garbage Route Optimization/poco-allzones.csv', index_col=0)"
   ]
  },
  {
   "cell_type": "code",
   "execution_count": 26,
   "metadata": {
    "pycharm": {
     "is_executing": true
    }
   },
   "outputs": [],
   "source": [
    "# Ensuring uniformity in the indeces of the data sets\n",
    "zones.index = zones.index + ', Port Coquitlam, BC, Canada'"
   ]
  },
  {
   "cell_type": "code",
   "execution_count": 29,
   "metadata": {
    "pycharm": {
     "is_executing": true
    }
   },
   "outputs": [],
   "source": [
    "t = timeMatrix"
   ]
  },
  {
   "cell_type": "code",
   "execution_count": 30,
   "metadata": {
    "pycharm": {
     "is_executing": true
    }
   },
   "outputs": [],
   "source": [
    "# Normalizing the times to produce better clusters\n",
    "from sklearn.preprocessing import normalize\n",
    "t = normalize(t)"
   ]
  },
  {
   "cell_type": "code",
   "execution_count": 31,
   "metadata": {
    "pycharm": {
     "is_executing": true
    }
   },
   "outputs": [],
   "source": [
    "# Executing the clustering\n",
    "from scipy.cluster.hierarchy import ClusterWarning\n",
    "from warnings import simplefilter\n",
    "simplefilter(\"ignore\", ClusterWarning)\n",
    "model = AgglomerativeClustering(n_clusters=5, affinity='euclidean', \n",
    "                                linkage='average')\n",
    "model.fit_predict(t)\n",
    "labels = model.labels_"
   ]
  },
  {
   "cell_type": "code",
   "execution_count": 49,
   "metadata": {
    "pycharm": {
     "is_executing": true
    }
   },
   "outputs": [],
   "source": [
    "# Labelling each address with its cluster\n",
    "clusters = pd.DataFrame({'cluster':labels, 'address':timeMatrix.index})"
   ]
  },
  {
   "cell_type": "code",
   "execution_count": null,
   "metadata": {
    "pycharm": {
     "is_executing": true
    }
   },
   "outputs": [],
   "source": [
    "# Creating function that adjusts the clusters\n",
    "def adjustClusters(matrix,clusters, deviation, numElementsPerCluster):\n",
    "    clusters = clusters.set_index('address')\n",
    "    clusters['address'] = clusters.index\n",
    "    \n",
    "    numElementsInMin = clusters.groupby('cluster').nunique().sort_values(by='address').values[0][0]\n",
    "    minCluster = clusters.groupby('cluster').nunique().sort_values(by='address').index[0]\n",
    "    \n",
    "    numElementsInMax = clusters.groupby('cluster').nunique().sort_values(by='address').values[-1][0]\n",
    "    maxCluster = clusters.groupby('cluster').nunique().sort_values(by='address').index[-1]\n",
    "    \n",
    "    maxDeviation = not (numElementsInMax <= numElementsPerCluster + deviation and numElementsInMax >= numElementsPerCluster - deviation)\n",
    "    minDeviation = not (numElementsInMin <= numElementsPerCluster + deviation and numElementsInMin >= numElementsPerCluster - deviation)\n",
    "    \n",
    "    while minDeviation or maxDeviation:\n",
    "        \n",
    "        # Determining the elements in the smallest and largest cluster\n",
    "        minClusterElements = clusters[clusters['cluster'] ==  minCluster]['address']\n",
    "        maxClusterElements = clusters[clusters['cluster'] ==  maxCluster]['address']      \n",
    "          \n",
    "\n",
    "        # Filtering the matrix so that the rows have only the min cluster elements and removing the min cluster\n",
    "        # elements from the columns\n",
    "        filteredMatrix = matrix.iloc[matrix.index.isin(minClusterElements.values),matrix.columns.isin(maxClusterElements.values)]\n",
    "        \n",
    "        # Determining the closest element to the min cluster\n",
    "        closestElement = filteredMatrix.mean(axis=0).idxmin()\n",
    "        \n",
    "  \n",
    "        clusters.loc[closestElement,'cluster'] = minCluster\n",
    "        \n",
    "        \n",
    "        numElementsInMin = clusters.groupby('cluster').nunique().sort_values(by='address').values[0][0]\n",
    "        minCluster = clusters.groupby('cluster').nunique().sort_values(by='address').index[0]\n",
    "\n",
    "        numElementsInMax = clusters.groupby('cluster').nunique().sort_values(by='address').values[-1][0]\n",
    "        maxCluster = clusters.groupby('cluster').nunique().sort_values(by='address').index[-1]\n",
    "\n",
    "\n",
    "\n",
    "        maxDeviation = not (numElementsInMax <= numElementsPerCluster + deviation and numElementsInMax >= numElementsPerCluster - deviation)\n",
    "        minDeviation = not (numElementsInMin <= numElementsPerCluster + deviation and numElementsInMin >= numElementsPerCluster - deviation)\n",
    "        \n",
    "        print(clusters.groupby('cluster').nunique().sort_values(by='address'))\n",
    "        print(\"***********************************\")\n",
    "        \n",
    "    return clusters\n",
    "\n",
    "# Adjusting clusters        \n",
    "newClusters = adjustClusters(timeMatrix,clusters, 50, 1981)  "
   ]
  },
  {
   "cell_type": "code",
   "execution_count": null,
   "metadata": {
    "pycharm": {
     "is_executing": true
    }
   },
   "outputs": [],
   "source": [
    "newClusters.groupby('cluster').nunique().sort_values(by='address')"
   ]
  },
  {
   "cell_type": "code",
   "execution_count": null,
   "metadata": {
    "pycharm": {
     "is_executing": true
    }
   },
   "outputs": [],
   "source": [
    "coordinates = pd.read_csv('C:/Users/Aidan/OneDrive - Simon Fraser University (1sfu)/Garbage Route Optimization/locations.csv')\n",
    "coordinates = coordinates.rename(columns={'Unnamed: 0':'address'})"
   ]
  },
  {
   "cell_type": "code",
   "execution_count": null,
   "metadata": {
    "pycharm": {
     "is_executing": true
    }
   },
   "outputs": [],
   "source": [
    "newClusters = newClusters.reset_index(drop=True)"
   ]
  },
  {
   "cell_type": "code",
   "execution_count": null,
   "metadata": {
    "pycharm": {
     "is_executing": true
    }
   },
   "outputs": [],
   "source": [
    "data = newClusters.merge(coordinates)"
   ]
  }
 ],
 "metadata": {
  "kernelspec": {
   "display_name": "Python 3",
   "language": "python",
   "name": "python3"
  },
  "language_info": {
   "codemirror_mode": {
    "name": "ipython",
    "version": 3
   },
   "file_extension": ".py",
   "mimetype": "text/x-python",
   "name": "python",
   "nbconvert_exporter": "python",
   "pygments_lexer": "ipython3",
   "version": "3.8.5"
  }
 },
 "nbformat": 4,
 "nbformat_minor": 1
}
