{
 "cells": [
  {
   "cell_type": "code",
   "execution_count": 15,
   "id": "thorough-minute",
   "metadata": {},
   "outputs": [],
   "source": [
    "import requests\n",
    "import pandas as pd\n",
    "import numpy as np\n",
    "%config Completer.use_jedi = False\n",
    "import googlemaps"
   ]
  },
  {
   "cell_type": "code",
   "execution_count": 6,
   "id": "adjacent-picnic",
   "metadata": {},
   "outputs": [],
   "source": [
    "df = pd.read_csv('C:/Users/Aidan/OneDrive - Simon Fraser University (1sfu)/Garbage Route Optimization/additionalLocations.csv')"
   ]
  },
  {
   "cell_type": "code",
   "execution_count": 7,
   "id": "prime-movement",
   "metadata": {},
   "outputs": [
    {
     "data": {
      "text/html": [
       "<div>\n",
       "<style scoped>\n",
       "    .dataframe tbody tr th:only-of-type {\n",
       "        vertical-align: middle;\n",
       "    }\n",
       "\n",
       "    .dataframe tbody tr th {\n",
       "        vertical-align: top;\n",
       "    }\n",
       "\n",
       "    .dataframe thead th {\n",
       "        text-align: right;\n",
       "    }\n",
       "</style>\n",
       "<table border=\"1\" class=\"dataframe\">\n",
       "  <thead>\n",
       "    <tr style=\"text-align: right;\">\n",
       "      <th></th>\n",
       "      <th>address</th>\n",
       "      <th>street</th>\n",
       "      <th>city</th>\n",
       "      <th>postal code</th>\n",
       "      <th>full address</th>\n",
       "      <th>zone</th>\n",
       "    </tr>\n",
       "  </thead>\n",
       "  <tbody>\n",
       "    <tr>\n",
       "      <th>0</th>\n",
       "      <td>1495</td>\n",
       "      <td>APEL DR</td>\n",
       "      <td>PORT COQUITLAM</td>\n",
       "      <td>V3B 2V1</td>\n",
       "      <td>1495 APEL DR</td>\n",
       "      <td>2.0</td>\n",
       "    </tr>\n",
       "    <tr>\n",
       "      <th>1</th>\n",
       "      <td>2275</td>\n",
       "      <td>ATKINS AVE</td>\n",
       "      <td>PORT COQUITLAM</td>\n",
       "      <td>V3C 1Y5</td>\n",
       "      <td>2275 ATKINS AVE</td>\n",
       "      <td>5.0</td>\n",
       "    </tr>\n",
       "    <tr>\n",
       "      <th>2</th>\n",
       "      <td>2620</td>\n",
       "      <td>BEDFORD ST</td>\n",
       "      <td>PORT COQUITLAM</td>\n",
       "      <td>V3C 3K6</td>\n",
       "      <td>2620 BEDFORD ST</td>\n",
       "      <td>5.0</td>\n",
       "    </tr>\n",
       "    <tr>\n",
       "      <th>3</th>\n",
       "      <td>2664</td>\n",
       "      <td>BEDFORD ST</td>\n",
       "      <td>PORT COQUITLAM</td>\n",
       "      <td>V3C 3K6</td>\n",
       "      <td>2664 BEDFORD ST</td>\n",
       "      <td>5.0</td>\n",
       "    </tr>\n",
       "    <tr>\n",
       "      <th>4</th>\n",
       "      <td>2672</td>\n",
       "      <td>BEDFORD ST</td>\n",
       "      <td>PORT COQUITLAM</td>\n",
       "      <td>V3C 3K6</td>\n",
       "      <td>2672 BEDFORD ST</td>\n",
       "      <td>5.0</td>\n",
       "    </tr>\n",
       "    <tr>\n",
       "      <th>...</th>\n",
       "      <td>...</td>\n",
       "      <td>...</td>\n",
       "      <td>...</td>\n",
       "      <td>...</td>\n",
       "      <td>...</td>\n",
       "      <td>...</td>\n",
       "    </tr>\n",
       "    <tr>\n",
       "      <th>305</th>\n",
       "      <td>2330</td>\n",
       "      <td>WILSON AVE</td>\n",
       "      <td>PORT COQUITLAM</td>\n",
       "      <td>V3C 1Z6</td>\n",
       "      <td>2330 WILSON AVE</td>\n",
       "      <td>5.0</td>\n",
       "    </tr>\n",
       "    <tr>\n",
       "      <th>306</th>\n",
       "      <td>2360</td>\n",
       "      <td>WILSON AVE</td>\n",
       "      <td>PORT COQUITLAM</td>\n",
       "      <td>V3C 1Z6</td>\n",
       "      <td>2360 WILSON AVE</td>\n",
       "      <td>5.0</td>\n",
       "    </tr>\n",
       "    <tr>\n",
       "      <th>307</th>\n",
       "      <td>2378</td>\n",
       "      <td>WILSON AVE</td>\n",
       "      <td>PORT COQUITLAM</td>\n",
       "      <td>V3C 1Z6</td>\n",
       "      <td>2378 WILSON AVE</td>\n",
       "      <td>5.0</td>\n",
       "    </tr>\n",
       "    <tr>\n",
       "      <th>308</th>\n",
       "      <td>2439</td>\n",
       "      <td>WILSON AVE</td>\n",
       "      <td>PORT COQUITLAM</td>\n",
       "      <td>V3C 6H6</td>\n",
       "      <td>2439 WILSON AVE</td>\n",
       "      <td>5.0</td>\n",
       "    </tr>\n",
       "    <tr>\n",
       "      <th>309</th>\n",
       "      <td>2484</td>\n",
       "      <td>WILSON AVE</td>\n",
       "      <td>PORT COQUITLAM</td>\n",
       "      <td>V3C 0A5</td>\n",
       "      <td>2484 WILSON AVE</td>\n",
       "      <td>5.0</td>\n",
       "    </tr>\n",
       "  </tbody>\n",
       "</table>\n",
       "<p>310 rows × 6 columns</p>\n",
       "</div>"
      ],
      "text/plain": [
       "     address      street            city postal code     full address  zone\n",
       "0       1495     APEL DR  PORT COQUITLAM     V3B 2V1     1495 APEL DR   2.0\n",
       "1       2275  ATKINS AVE  PORT COQUITLAM     V3C 1Y5  2275 ATKINS AVE   5.0\n",
       "2       2620  BEDFORD ST  PORT COQUITLAM     V3C 3K6  2620 BEDFORD ST   5.0\n",
       "3       2664  BEDFORD ST  PORT COQUITLAM     V3C 3K6  2664 BEDFORD ST   5.0\n",
       "4       2672  BEDFORD ST  PORT COQUITLAM     V3C 3K6  2672 BEDFORD ST   5.0\n",
       "..       ...         ...             ...         ...              ...   ...\n",
       "305     2330  WILSON AVE  PORT COQUITLAM     V3C 1Z6  2330 WILSON AVE   5.0\n",
       "306     2360  WILSON AVE  PORT COQUITLAM     V3C 1Z6  2360 WILSON AVE   5.0\n",
       "307     2378  WILSON AVE  PORT COQUITLAM     V3C 1Z6  2378 WILSON AVE   5.0\n",
       "308     2439  WILSON AVE  PORT COQUITLAM     V3C 6H6  2439 WILSON AVE   5.0\n",
       "309     2484  WILSON AVE  PORT COQUITLAM     V3C 0A5  2484 WILSON AVE   5.0\n",
       "\n",
       "[310 rows x 6 columns]"
      ]
     },
     "execution_count": 7,
     "metadata": {},
     "output_type": "execute_result"
    }
   ],
   "source": [
    "df"
   ]
  },
  {
   "cell_type": "code",
   "execution_count": 9,
   "id": "controlled-hebrew",
   "metadata": {},
   "outputs": [],
   "source": [
    "df['full address'] = df['full address'] + ', Port Coquitlam, BC, Canada'"
   ]
  },
  {
   "cell_type": "code",
   "execution_count": 10,
   "id": "welsh-stadium",
   "metadata": {},
   "outputs": [],
   "source": [
    "address_arr = df['full address'].values"
   ]
  },
  {
   "cell_type": "code",
   "execution_count": 16,
   "id": "faced-secretary",
   "metadata": {},
   "outputs": [],
   "source": [
    "gmaps = googlemaps.Client(key='')"
   ]
  },
  {
   "cell_type": "code",
   "execution_count": 35,
   "id": "proved-france",
   "metadata": {},
   "outputs": [],
   "source": [
    "longitude = []\n",
    "latitude = []\n",
    "for address in address_arr:\n",
    "    geocode_result = gmaps.geocode(address)\n",
    "    results = geocode_result[0]['geometry']['location']\n",
    "    lat = results['lat']\n",
    "    lng = geocode_result[0]['geometry']['location']['lng']\n",
    "    \n",
    "    longitude.append(lng)\n",
    "    latitude.append(lat)"
   ]
  },
  {
   "cell_type": "code",
   "execution_count": 38,
   "id": "different-ownership",
   "metadata": {},
   "outputs": [],
   "source": [
    "df['longitude'] = longitude\n",
    "df['latitude'] = latitude"
   ]
  },
  {
   "cell_type": "code",
   "execution_count": 39,
   "id": "grand-hamburg",
   "metadata": {},
   "outputs": [],
   "source": [
    "df.to_csv('C:/Users/Aidan/OneDrive - Simon Fraser University (1sfu)/Garbage Route Optimization/poco-geocodedataExtraLocations.csv')"
   ]
  },
  {
   "cell_type": "code",
   "execution_count": null,
   "id": "surprised-stylus",
   "metadata": {},
   "outputs": [],
   "source": []
  }
 ],
 "metadata": {
  "kernelspec": {
   "display_name": "Python 3",
   "language": "python",
   "name": "python3"
  },
  "language_info": {
   "codemirror_mode": {
    "name": "ipython",
    "version": 3
   },
   "file_extension": ".py",
   "mimetype": "text/x-python",
   "name": "python",
   "nbconvert_exporter": "python",
   "pygments_lexer": "ipython3",
   "version": "3.8.5"
  }
 },
 "nbformat": 4,
 "nbformat_minor": 5
}
