{
 "cells": [
  {
   "cell_type": "markdown",
   "metadata": {},
   "source": [
    "This workbook parses the set of excel files that contain the daily route informations that was given by the city of port coquitlam."
   ]
  },
  {
   "cell_type": "code",
   "execution_count": null,
   "metadata": {
    "pycharm": {
     "is_executing": true
    }
   },
   "outputs": [],
   "source": [
    "import pandas as pd\n",
    "import datetime\n",
    "import re\n",
    "import glob"
   ]
  },
  {
   "cell_type": "code",
   "execution_count": null,
   "metadata": {
    "pycharm": {
     "is_executing": true
    }
   },
   "outputs": [],
   "source": [
    "path = r'C:\\Users\\Aidan\\OneDrive - Simon Fraser University (1sfu)\\Garbage Route Optimization\\Weekly Weight and Tips' # use your path\n",
    "all_files = glob.glob(path + \"/*.xls\")\n",
    "li = []\n",
    "for filename in all_files:\n",
    "    df = pd.read_excel(filename,\n",
    "                  header=[0,1])\n",
    "    li.append(df)"
   ]
  },
  {
   "cell_type": "code",
   "execution_count": null,
   "metadata": {
    "pycharm": {
     "is_executing": true
    }
   },
   "outputs": [],
   "source": [
    "for i in range(0,len(li)):\n",
    "    li[i].columns=li[i].columns.to_flat_index()\n",
    "    li[i] = li[i].iloc[1:,]"
   ]
  },
  {
   "cell_type": "code",
   "execution_count": null,
   "metadata": {
    "pycharm": {
     "is_executing": true
    }
   },
   "outputs": [],
   "source": [
    "# Creating data frame\n",
    "\n",
    "# This contains granular info\n",
    "dailyInfo = pd.DataFrame(columns=['fileName',\n",
    "                                  'date',\n",
    "                                  'zone',\n",
    "                                  'driver',\n",
    "                                  'truckNumber',\n",
    "                                  'garbageTips',\n",
    "                                  'garbageWeight',\n",
    "                                  'garbageTime',\n",
    "                                 'recyclingTips',\n",
    "                                 'recyclingWeight',\n",
    "                                 'recyclingTime',\n",
    "                                 'greenTips',\n",
    "                                 'greenWeight',\n",
    "                                 'greenTime'])\n",
    "\n",
    "# Note I dont bother with the totals since they can be calculated from the above dataframe"
   ]
  },
  {
   "cell_type": "code",
   "execution_count": null,
   "metadata": {
    "pycharm": {
     "is_executing": true
    }
   },
   "outputs": [],
   "source": [
    "# Regulard expression to capture the zone\n",
    "zoneExpression = re.compile(r'[Zz]one\\s*\\S*')\n",
    "customerExpression = re.compile(r'[Cc]ustomer')\n",
    "\n",
    "\n",
    "for i in range(0,len(li)):\n",
    "    # Getting the df we are working with\n",
    "    df = li[i]\n",
    "    \n",
    "    # Getting the filename for reference\n",
    "    fileName = all_files[0][all_files[0].rfind('\\\\')+1:]\n",
    "    \n",
    "    # Zeroing these out, these need to be non to detect when we need to look ahead to find the zone\n",
    "    date = None\n",
    "    zone = None\n",
    "\n",
    "    for i, row in df.iterrows():    \n",
    "        # Extracting Values\n",
    "        rowValues = list(row)\n",
    "        \n",
    "        # Testing for the last row, if yes we stop\n",
    "        if all(pd.isnull(i) for i in rowValues):\n",
    "            break\n",
    "\n",
    "        # These only get zeroed out when the date/zone changes\n",
    "        # This is also detecting rows that contain totals, we aren't recording these as they can be easily calculated \n",
    "        # using the data set\n",
    "        if customerExpression.match(str(rowValues[0])):\n",
    "            date = None\n",
    "            zone = None\n",
    "            continue\n",
    "\n",
    "        # Extracting the current date\n",
    "        if isinstance(rowValues[0], datetime.datetime):\n",
    "            date = rowValues[0]     \n",
    "\n",
    "\n",
    "        if zone == None:\n",
    "            zoneValues = [ word for i, word in enumerate(list(df.iloc[i,:])) if zoneExpression.match(str(word))]\n",
    "            if len(zoneValues) > 0:\n",
    "                zone = zoneValues[0]\n",
    "\n",
    "\n",
    "        driver = rowValues[1]\n",
    "        truckNumber = rowValues[2]\n",
    "        garbageTips = rowValues[3]\n",
    "        garbageWeight = rowValues[4]\n",
    "        garbageTime = rowValues[5]\n",
    "        recyclingTips = rowValues[6]\n",
    "        recyclingWeight = rowValues[7]\n",
    "        recyclingTime = rowValues[8]\n",
    "        greenTips = rowValues[9]\n",
    "        greenWeight = rowValues[10]\n",
    "        greenTime = rowValues[11]\n",
    "\n",
    "        # Just skipping some useless rows here (its the greyed rows stuff in the excel files)\n",
    "        if zone == None:\n",
    "            continue\n",
    "\n",
    "        dailyInfo = dailyInfo.append({'fileName':fileName,\n",
    "                                      'date':date,\n",
    "                                      'zone':zone,\n",
    "                                      'driver':driver,\n",
    "                                      'truckNumber':truckNumber,\n",
    "                                      'garbageTips':garbageTips,\n",
    "                                      'garbageWeight':garbageWeight,\n",
    "                                      'garbageTime':garbageTime,\n",
    "                                      'recyclingTips':recyclingTips,\n",
    "                                      'recyclingWeight':recyclingWeight,\n",
    "                                      'recyclingTime':recyclingTime,\n",
    "                                      'greenTips':greenTips,\n",
    "                                      'greenWeight':greenWeight,\n",
    "                                      'greenTime':greenTime},ignore_index=True)\n",
    "\n",
    "\n",
    "        # Zeroing out values to prevent bad data\n",
    "        if customerExpression.match(str(rowValues[0])):\n",
    "            date = None\n",
    "            zone = None"
   ]
  },
  {
   "cell_type": "code",
   "execution_count": null,
   "metadata": {
    "pycharm": {
     "is_executing": true
    }
   },
   "outputs": [],
   "source": [
    "dailyInfo.to_csv('C:/Users/Aidan/OneDrive - Simon Fraser University (1sfu)/Garbage Route Optimization/dailyinfo.csv')"
   ]
  },
  {
   "cell_type": "code",
   "execution_count": 12,
   "metadata": {
    "pycharm": {
     "is_executing": true
    }
   },
   "outputs": [],
   "source": [
    "df = pd.read_csv('C:/Users/Aidan/OneDrive - Simon Fraser University (1sfu)/Garbage Route Optimization/dailyinfo.csv',index_col=0)"
   ]
  },
  {
   "cell_type": "code",
   "execution_count": 20,
   "metadata": {
    "pycharm": {
     "is_executing": true
    }
   },
   "outputs": [],
   "source": [
    "collectionTime = df.groupby(['date','zone']).sum()[['garbageTime','greenTime','recyclingTime']]"
   ]
  },
  {
   "cell_type": "code",
   "execution_count": 21,
   "metadata": {
    "pycharm": {
     "is_executing": true
    }
   },
   "outputs": [],
   "source": [
    "numTrucks = df.dropna(subset=['driver']).groupby(['date','zone']).count()['driver']"
   ]
  },
  {
   "cell_type": "code",
   "execution_count": 22,
   "metadata": {
    "pycharm": {
     "is_executing": true
    }
   },
   "outputs": [
    {
     "data": {
      "text/html": [
       "<div>\n",
       "<style scoped>\n",
       "    .dataframe tbody tr th:only-of-type {\n",
       "        vertical-align: middle;\n",
       "    }\n",
       "\n",
       "    .dataframe tbody tr th {\n",
       "        vertical-align: top;\n",
       "    }\n",
       "\n",
       "    .dataframe thead th {\n",
       "        text-align: right;\n",
       "    }\n",
       "</style>\n",
       "<table border=\"1\" class=\"dataframe\">\n",
       "  <thead>\n",
       "    <tr style=\"text-align: right;\">\n",
       "      <th>zone</th>\n",
       "      <th>Zone 1</th>\n",
       "      <th>Zone 2</th>\n",
       "      <th>Zone 3</th>\n",
       "      <th>Zone 4</th>\n",
       "      <th>Zone 5</th>\n",
       "    </tr>\n",
       "    <tr>\n",
       "      <th>numTrucks</th>\n",
       "      <th></th>\n",
       "      <th></th>\n",
       "      <th></th>\n",
       "      <th></th>\n",
       "      <th></th>\n",
       "    </tr>\n",
       "  </thead>\n",
       "  <tbody>\n",
       "    <tr>\n",
       "      <th>4</th>\n",
       "      <td>NaN</td>\n",
       "      <td>18.000000</td>\n",
       "      <td>29.000000</td>\n",
       "      <td>NaN</td>\n",
       "      <td>17.379310</td>\n",
       "    </tr>\n",
       "    <tr>\n",
       "      <th>5</th>\n",
       "      <td>24.090909</td>\n",
       "      <td>24.555556</td>\n",
       "      <td>20.000000</td>\n",
       "      <td>27.50</td>\n",
       "      <td>18.368421</td>\n",
       "    </tr>\n",
       "    <tr>\n",
       "      <th>6</th>\n",
       "      <td>24.151515</td>\n",
       "      <td>24.166667</td>\n",
       "      <td>23.520548</td>\n",
       "      <td>23.85</td>\n",
       "      <td>21.944444</td>\n",
       "    </tr>\n",
       "    <tr>\n",
       "      <th>7</th>\n",
       "      <td>24.562500</td>\n",
       "      <td>25.200000</td>\n",
       "      <td>22.772727</td>\n",
       "      <td>23.00</td>\n",
       "      <td>23.750000</td>\n",
       "    </tr>\n",
       "  </tbody>\n",
       "</table>\n",
       "</div>"
      ],
      "text/plain": [
       "zone          Zone 1     Zone 2     Zone 3  Zone 4     Zone 5\n",
       "numTrucks                                                    \n",
       "4                NaN  18.000000  29.000000     NaN  17.379310\n",
       "5          24.090909  24.555556  20.000000   27.50  18.368421\n",
       "6          24.151515  24.166667  23.520548   23.85  21.944444\n",
       "7          24.562500  25.200000  22.772727   23.00  23.750000"
      ]
     },
     "execution_count": 22,
     "metadata": {},
     "output_type": "execute_result"
    }
   ],
   "source": [
    "timeByTrucks = collectionTime.join(numTrucks)\n",
    "timeByTrucks = timeByTrucks.rename(columns = {'driver':'numTrucks'})\n",
    "garbage = timeByTrucks[['garbageTime','numTrucks']].rename(columns={'garbageTime':'time'})\n",
    "green = timeByTrucks[['greenTime','numTrucks']].rename(columns={'greenTime':'time'})\n",
    "re = timeByTrucks[['recyclingTime','numTrucks']].rename(columns={'recyclingTime':'time'})\n",
    "d = pd.concat([garbage,green,re])\n",
    "d = d.dropna()\n",
    "d = d[d['time'] > 0]\n",
    "d.groupby(['zone','numTrucks']).mean().reset_index().pivot(index='numTrucks',columns='zone',values='time')"
   ]
  },
  {
   "cell_type": "code",
   "execution_count": 23,
   "metadata": {
    "pycharm": {
     "is_executing": true
    }
   },
   "outputs": [
    {
     "data": {
      "text/html": [
       "<div>\n",
       "<style scoped>\n",
       "    .dataframe tbody tr th:only-of-type {\n",
       "        vertical-align: middle;\n",
       "    }\n",
       "\n",
       "    .dataframe tbody tr th {\n",
       "        vertical-align: top;\n",
       "    }\n",
       "\n",
       "    .dataframe thead th {\n",
       "        text-align: right;\n",
       "    }\n",
       "</style>\n",
       "<table border=\"1\" class=\"dataframe\">\n",
       "  <thead>\n",
       "    <tr style=\"text-align: right;\">\n",
       "      <th>zone</th>\n",
       "      <th>Zone 1</th>\n",
       "      <th>Zone 2</th>\n",
       "      <th>Zone 3</th>\n",
       "      <th>Zone 4</th>\n",
       "      <th>Zone 5</th>\n",
       "    </tr>\n",
       "    <tr>\n",
       "      <th>numTrucks</th>\n",
       "      <th></th>\n",
       "      <th></th>\n",
       "      <th></th>\n",
       "      <th></th>\n",
       "      <th></th>\n",
       "    </tr>\n",
       "  </thead>\n",
       "  <tbody>\n",
       "    <tr>\n",
       "      <th>4</th>\n",
       "      <td>NaN</td>\n",
       "      <td>18.0</td>\n",
       "      <td>28.0</td>\n",
       "      <td>NaN</td>\n",
       "      <td>16.0</td>\n",
       "    </tr>\n",
       "    <tr>\n",
       "      <th>5</th>\n",
       "      <td>20.0</td>\n",
       "      <td>20.0</td>\n",
       "      <td>20.0</td>\n",
       "      <td>25.0</td>\n",
       "      <td>18.0</td>\n",
       "    </tr>\n",
       "    <tr>\n",
       "      <th>6</th>\n",
       "      <td>24.0</td>\n",
       "      <td>24.0</td>\n",
       "      <td>24.0</td>\n",
       "      <td>24.0</td>\n",
       "      <td>24.0</td>\n",
       "    </tr>\n",
       "    <tr>\n",
       "      <th>7</th>\n",
       "      <td>24.0</td>\n",
       "      <td>24.0</td>\n",
       "      <td>24.0</td>\n",
       "      <td>24.0</td>\n",
       "      <td>24.0</td>\n",
       "    </tr>\n",
       "  </tbody>\n",
       "</table>\n",
       "</div>"
      ],
      "text/plain": [
       "zone       Zone 1  Zone 2  Zone 3  Zone 4  Zone 5\n",
       "numTrucks                                        \n",
       "4             NaN    18.0    28.0     NaN    16.0\n",
       "5            20.0    20.0    20.0    25.0    18.0\n",
       "6            24.0    24.0    24.0    24.0    24.0\n",
       "7            24.0    24.0    24.0    24.0    24.0"
      ]
     },
     "execution_count": 23,
     "metadata": {},
     "output_type": "execute_result"
    }
   ],
   "source": [
    "d.groupby(['zone','numTrucks']).median().reset_index().pivot(index='numTrucks',columns='zone',values='time')"
   ]
  },
  {
   "cell_type": "code",
   "execution_count": 24,
   "metadata": {
    "pycharm": {
     "is_executing": true
    }
   },
   "outputs": [
    {
     "data": {
      "text/html": [
       "<div>\n",
       "<style scoped>\n",
       "    .dataframe tbody tr th:only-of-type {\n",
       "        vertical-align: middle;\n",
       "    }\n",
       "\n",
       "    .dataframe tbody tr th {\n",
       "        vertical-align: top;\n",
       "    }\n",
       "\n",
       "    .dataframe thead th {\n",
       "        text-align: right;\n",
       "    }\n",
       "</style>\n",
       "<table border=\"1\" class=\"dataframe\">\n",
       "  <thead>\n",
       "    <tr style=\"text-align: right;\">\n",
       "      <th>zone</th>\n",
       "      <th>Zone 1</th>\n",
       "      <th>Zone 2</th>\n",
       "      <th>Zone 3</th>\n",
       "      <th>Zone 4</th>\n",
       "      <th>Zone 5</th>\n",
       "    </tr>\n",
       "    <tr>\n",
       "      <th>numTrucks</th>\n",
       "      <th></th>\n",
       "      <th></th>\n",
       "      <th></th>\n",
       "      <th></th>\n",
       "      <th></th>\n",
       "    </tr>\n",
       "  </thead>\n",
       "  <tbody>\n",
       "    <tr>\n",
       "      <th>4</th>\n",
       "      <td>NaN</td>\n",
       "      <td>20.0</td>\n",
       "      <td>32.0</td>\n",
       "      <td>NaN</td>\n",
       "      <td>32.0</td>\n",
       "    </tr>\n",
       "    <tr>\n",
       "      <th>5</th>\n",
       "      <td>35.0</td>\n",
       "      <td>35.0</td>\n",
       "      <td>20.0</td>\n",
       "      <td>40.0</td>\n",
       "      <td>28.0</td>\n",
       "    </tr>\n",
       "    <tr>\n",
       "      <th>6</th>\n",
       "      <td>40.0</td>\n",
       "      <td>48.0</td>\n",
       "      <td>24.0</td>\n",
       "      <td>42.0</td>\n",
       "      <td>26.0</td>\n",
       "    </tr>\n",
       "    <tr>\n",
       "      <th>7</th>\n",
       "      <td>29.0</td>\n",
       "      <td>28.0</td>\n",
       "      <td>28.5</td>\n",
       "      <td>24.0</td>\n",
       "      <td>25.0</td>\n",
       "    </tr>\n",
       "  </tbody>\n",
       "</table>\n",
       "</div>"
      ],
      "text/plain": [
       "zone       Zone 1  Zone 2  Zone 3  Zone 4  Zone 5\n",
       "numTrucks                                        \n",
       "4             NaN    20.0    32.0     NaN    32.0\n",
       "5            35.0    35.0    20.0    40.0    28.0\n",
       "6            40.0    48.0    24.0    42.0    26.0\n",
       "7            29.0    28.0    28.5    24.0    25.0"
      ]
     },
     "execution_count": 24,
     "metadata": {},
     "output_type": "execute_result"
    }
   ],
   "source": [
    "d.groupby(['zone','numTrucks']).max().reset_index().pivot(index='numTrucks',columns='zone',values='time')"
   ]
  },
  {
   "cell_type": "code",
   "execution_count": 26,
   "metadata": {
    "pycharm": {
     "is_executing": true
    }
   },
   "outputs": [],
   "source": [
    "garbage = timeByTrucks[timeByTrucks['garbageTime'] > 0][['garbageTime','numTrucks']]\n",
    "recycling = timeByTrucks[timeByTrucks['recyclingTime'] > 0][['recyclingTime','numTrucks']]\n",
    "green = timeByTrucks[timeByTrucks['greenTime'] > 0][['greenTime','numTrucks']]"
   ]
  },
  {
   "cell_type": "code",
   "execution_count": 27,
   "metadata": {
    "pycharm": {
     "is_executing": true
    }
   },
   "outputs": [
    {
     "data": {
      "text/html": [
       "<div>\n",
       "<style scoped>\n",
       "    .dataframe tbody tr th:only-of-type {\n",
       "        vertical-align: middle;\n",
       "    }\n",
       "\n",
       "    .dataframe tbody tr th {\n",
       "        vertical-align: top;\n",
       "    }\n",
       "\n",
       "    .dataframe thead th {\n",
       "        text-align: right;\n",
       "    }\n",
       "</style>\n",
       "<table border=\"1\" class=\"dataframe\">\n",
       "  <thead>\n",
       "    <tr style=\"text-align: right;\">\n",
       "      <th></th>\n",
       "      <th></th>\n",
       "      <th>garbageTime</th>\n",
       "    </tr>\n",
       "    <tr>\n",
       "      <th>numTrucks</th>\n",
       "      <th>zone</th>\n",
       "      <th></th>\n",
       "    </tr>\n",
       "  </thead>\n",
       "  <tbody>\n",
       "    <tr>\n",
       "      <th rowspan=\"2\" valign=\"top\">4</th>\n",
       "      <th>Zone 2</th>\n",
       "      <td>20.000000</td>\n",
       "    </tr>\n",
       "    <tr>\n",
       "      <th>Zone 5</th>\n",
       "      <td>16.000000</td>\n",
       "    </tr>\n",
       "    <tr>\n",
       "      <th rowspan=\"5\" valign=\"top\">5</th>\n",
       "      <th>Zone 1</th>\n",
       "      <td>20.000000</td>\n",
       "    </tr>\n",
       "    <tr>\n",
       "      <th>Zone 2</th>\n",
       "      <td>18.666667</td>\n",
       "    </tr>\n",
       "    <tr>\n",
       "      <th>Zone 3</th>\n",
       "      <td>20.000000</td>\n",
       "    </tr>\n",
       "    <tr>\n",
       "      <th>Zone 4</th>\n",
       "      <td>20.000000</td>\n",
       "    </tr>\n",
       "    <tr>\n",
       "      <th>Zone 5</th>\n",
       "      <td>17.250000</td>\n",
       "    </tr>\n",
       "    <tr>\n",
       "      <th rowspan=\"5\" valign=\"top\">6</th>\n",
       "      <th>Zone 1</th>\n",
       "      <td>23.764706</td>\n",
       "    </tr>\n",
       "    <tr>\n",
       "      <th>Zone 2</th>\n",
       "      <td>23.888889</td>\n",
       "    </tr>\n",
       "    <tr>\n",
       "      <th>Zone 3</th>\n",
       "      <td>22.421053</td>\n",
       "    </tr>\n",
       "    <tr>\n",
       "      <th>Zone 4</th>\n",
       "      <td>23.826087</td>\n",
       "    </tr>\n",
       "    <tr>\n",
       "      <th>Zone 5</th>\n",
       "      <td>16.000000</td>\n",
       "    </tr>\n",
       "    <tr>\n",
       "      <th rowspan=\"5\" valign=\"top\">7</th>\n",
       "      <th>Zone 1</th>\n",
       "      <td>24.000000</td>\n",
       "    </tr>\n",
       "    <tr>\n",
       "      <th>Zone 2</th>\n",
       "      <td>26.666667</td>\n",
       "    </tr>\n",
       "    <tr>\n",
       "      <th>Zone 3</th>\n",
       "      <td>24.000000</td>\n",
       "    </tr>\n",
       "    <tr>\n",
       "      <th>Zone 4</th>\n",
       "      <td>24.000000</td>\n",
       "    </tr>\n",
       "    <tr>\n",
       "      <th>Zone 5</th>\n",
       "      <td>24.000000</td>\n",
       "    </tr>\n",
       "  </tbody>\n",
       "</table>\n",
       "</div>"
      ],
      "text/plain": [
       "                  garbageTime\n",
       "numTrucks zone               \n",
       "4         Zone 2    20.000000\n",
       "          Zone 5    16.000000\n",
       "5         Zone 1    20.000000\n",
       "          Zone 2    18.666667\n",
       "          Zone 3    20.000000\n",
       "          Zone 4    20.000000\n",
       "          Zone 5    17.250000\n",
       "6         Zone 1    23.764706\n",
       "          Zone 2    23.888889\n",
       "          Zone 3    22.421053\n",
       "          Zone 4    23.826087\n",
       "          Zone 5    16.000000\n",
       "7         Zone 1    24.000000\n",
       "          Zone 2    26.666667\n",
       "          Zone 3    24.000000\n",
       "          Zone 4    24.000000\n",
       "          Zone 5    24.000000"
      ]
     },
     "execution_count": 27,
     "metadata": {},
     "output_type": "execute_result"
    }
   ],
   "source": [
    "garbage.groupby(['numTrucks','zone']).mean()"
   ]
  },
  {
   "cell_type": "code",
   "execution_count": 28,
   "metadata": {
    "pycharm": {
     "is_executing": true
    }
   },
   "outputs": [
    {
     "data": {
      "text/html": [
       "<div>\n",
       "<style scoped>\n",
       "    .dataframe tbody tr th:only-of-type {\n",
       "        vertical-align: middle;\n",
       "    }\n",
       "\n",
       "    .dataframe tbody tr th {\n",
       "        vertical-align: top;\n",
       "    }\n",
       "\n",
       "    .dataframe thead th {\n",
       "        text-align: right;\n",
       "    }\n",
       "</style>\n",
       "<table border=\"1\" class=\"dataframe\">\n",
       "  <thead>\n",
       "    <tr style=\"text-align: right;\">\n",
       "      <th></th>\n",
       "      <th></th>\n",
       "      <th>recyclingTime</th>\n",
       "    </tr>\n",
       "    <tr>\n",
       "      <th>numTrucks</th>\n",
       "      <th>zone</th>\n",
       "      <th></th>\n",
       "    </tr>\n",
       "  </thead>\n",
       "  <tbody>\n",
       "    <tr>\n",
       "      <th rowspan=\"2\" valign=\"top\">4</th>\n",
       "      <th>Zone 3</th>\n",
       "      <td>29.000000</td>\n",
       "    </tr>\n",
       "    <tr>\n",
       "      <th>Zone 5</th>\n",
       "      <td>29.333333</td>\n",
       "    </tr>\n",
       "    <tr>\n",
       "      <th rowspan=\"4\" valign=\"top\">5</th>\n",
       "      <th>Zone 1</th>\n",
       "      <td>35.000000</td>\n",
       "    </tr>\n",
       "    <tr>\n",
       "      <th>Zone 2</th>\n",
       "      <td>35.000000</td>\n",
       "    </tr>\n",
       "    <tr>\n",
       "      <th>Zone 4</th>\n",
       "      <td>35.000000</td>\n",
       "    </tr>\n",
       "    <tr>\n",
       "      <th>Zone 5</th>\n",
       "      <td>28.000000</td>\n",
       "    </tr>\n",
       "    <tr>\n",
       "      <th rowspan=\"5\" valign=\"top\">6</th>\n",
       "      <th>Zone 1</th>\n",
       "      <td>25.294118</td>\n",
       "    </tr>\n",
       "    <tr>\n",
       "      <th>Zone 2</th>\n",
       "      <td>26.000000</td>\n",
       "    </tr>\n",
       "    <tr>\n",
       "      <th>Zone 3</th>\n",
       "      <td>23.947368</td>\n",
       "    </tr>\n",
       "    <tr>\n",
       "      <th>Zone 4</th>\n",
       "      <td>24.000000</td>\n",
       "    </tr>\n",
       "    <tr>\n",
       "      <th>Zone 5</th>\n",
       "      <td>23.571429</td>\n",
       "    </tr>\n",
       "    <tr>\n",
       "      <th rowspan=\"5\" valign=\"top\">7</th>\n",
       "      <th>Zone 1</th>\n",
       "      <td>25.250000</td>\n",
       "    </tr>\n",
       "    <tr>\n",
       "      <th>Zone 2</th>\n",
       "      <td>24.000000</td>\n",
       "    </tr>\n",
       "    <tr>\n",
       "      <th>Zone 3</th>\n",
       "      <td>18.166667</td>\n",
       "    </tr>\n",
       "    <tr>\n",
       "      <th>Zone 4</th>\n",
       "      <td>22.666667</td>\n",
       "    </tr>\n",
       "    <tr>\n",
       "      <th>Zone 5</th>\n",
       "      <td>24.000000</td>\n",
       "    </tr>\n",
       "  </tbody>\n",
       "</table>\n",
       "</div>"
      ],
      "text/plain": [
       "                  recyclingTime\n",
       "numTrucks zone                 \n",
       "4         Zone 3      29.000000\n",
       "          Zone 5      29.333333\n",
       "5         Zone 1      35.000000\n",
       "          Zone 2      35.000000\n",
       "          Zone 4      35.000000\n",
       "          Zone 5      28.000000\n",
       "6         Zone 1      25.294118\n",
       "          Zone 2      26.000000\n",
       "          Zone 3      23.947368\n",
       "          Zone 4      24.000000\n",
       "          Zone 5      23.571429\n",
       "7         Zone 1      25.250000\n",
       "          Zone 2      24.000000\n",
       "          Zone 3      18.166667\n",
       "          Zone 4      22.666667\n",
       "          Zone 5      24.000000"
      ]
     },
     "execution_count": 28,
     "metadata": {},
     "output_type": "execute_result"
    }
   ],
   "source": [
    "recycling.groupby(['numTrucks','zone']).mean()"
   ]
  },
  {
   "cell_type": "code",
   "execution_count": 29,
   "metadata": {
    "pycharm": {
     "is_executing": true
    }
   },
   "outputs": [
    {
     "data": {
      "text/html": [
       "<div>\n",
       "<style scoped>\n",
       "    .dataframe tbody tr th:only-of-type {\n",
       "        vertical-align: middle;\n",
       "    }\n",
       "\n",
       "    .dataframe tbody tr th {\n",
       "        vertical-align: top;\n",
       "    }\n",
       "\n",
       "    .dataframe thead th {\n",
       "        text-align: right;\n",
       "    }\n",
       "</style>\n",
       "<table border=\"1\" class=\"dataframe\">\n",
       "  <thead>\n",
       "    <tr style=\"text-align: right;\">\n",
       "      <th></th>\n",
       "      <th></th>\n",
       "      <th>greenTime</th>\n",
       "    </tr>\n",
       "    <tr>\n",
       "      <th>numTrucks</th>\n",
       "      <th>zone</th>\n",
       "      <th></th>\n",
       "    </tr>\n",
       "  </thead>\n",
       "  <tbody>\n",
       "    <tr>\n",
       "      <th rowspan=\"2\" valign=\"top\">4</th>\n",
       "      <th>Zone 2</th>\n",
       "      <td>16.000000</td>\n",
       "    </tr>\n",
       "    <tr>\n",
       "      <th>Zone 5</th>\n",
       "      <td>16.000000</td>\n",
       "    </tr>\n",
       "    <tr>\n",
       "      <th rowspan=\"5\" valign=\"top\">5</th>\n",
       "      <th>Zone 1</th>\n",
       "      <td>20.000000</td>\n",
       "    </tr>\n",
       "    <tr>\n",
       "      <th>Zone 2</th>\n",
       "      <td>20.000000</td>\n",
       "    </tr>\n",
       "    <tr>\n",
       "      <th>Zone 3</th>\n",
       "      <td>20.000000</td>\n",
       "    </tr>\n",
       "    <tr>\n",
       "      <th>Zone 4</th>\n",
       "      <td>20.000000</td>\n",
       "    </tr>\n",
       "    <tr>\n",
       "      <th>Zone 5</th>\n",
       "      <td>17.222222</td>\n",
       "    </tr>\n",
       "    <tr>\n",
       "      <th rowspan=\"5\" valign=\"top\">6</th>\n",
       "      <th>Zone 1</th>\n",
       "      <td>23.750000</td>\n",
       "    </tr>\n",
       "    <tr>\n",
       "      <th>Zone 2</th>\n",
       "      <td>23.388889</td>\n",
       "    </tr>\n",
       "    <tr>\n",
       "      <th>Zone 3</th>\n",
       "      <td>23.885714</td>\n",
       "    </tr>\n",
       "    <tr>\n",
       "      <th>Zone 4</th>\n",
       "      <td>23.789474</td>\n",
       "    </tr>\n",
       "    <tr>\n",
       "      <th>Zone 5</th>\n",
       "      <td>22.000000</td>\n",
       "    </tr>\n",
       "    <tr>\n",
       "      <th rowspan=\"5\" valign=\"top\">7</th>\n",
       "      <th>Zone 1</th>\n",
       "      <td>24.500000</td>\n",
       "    </tr>\n",
       "    <tr>\n",
       "      <th>Zone 2</th>\n",
       "      <td>25.000000</td>\n",
       "    </tr>\n",
       "    <tr>\n",
       "      <th>Zone 3</th>\n",
       "      <td>24.800000</td>\n",
       "    </tr>\n",
       "    <tr>\n",
       "      <th>Zone 4</th>\n",
       "      <td>23.000000</td>\n",
       "    </tr>\n",
       "    <tr>\n",
       "      <th>Zone 5</th>\n",
       "      <td>23.400000</td>\n",
       "    </tr>\n",
       "  </tbody>\n",
       "</table>\n",
       "</div>"
      ],
      "text/plain": [
       "                  greenTime\n",
       "numTrucks zone             \n",
       "4         Zone 2  16.000000\n",
       "          Zone 5  16.000000\n",
       "5         Zone 1  20.000000\n",
       "          Zone 2  20.000000\n",
       "          Zone 3  20.000000\n",
       "          Zone 4  20.000000\n",
       "          Zone 5  17.222222\n",
       "6         Zone 1  23.750000\n",
       "          Zone 2  23.388889\n",
       "          Zone 3  23.885714\n",
       "          Zone 4  23.789474\n",
       "          Zone 5  22.000000\n",
       "7         Zone 1  24.500000\n",
       "          Zone 2  25.000000\n",
       "          Zone 3  24.800000\n",
       "          Zone 4  23.000000\n",
       "          Zone 5  23.400000"
      ]
     },
     "execution_count": 29,
     "metadata": {},
     "output_type": "execute_result"
    }
   ],
   "source": [
    "green.groupby(['numTrucks','zone']).mean()"
   ]
  },
  {
   "cell_type": "code",
   "execution_count": null,
   "metadata": {
    "pycharm": {
     "is_executing": true
    }
   },
   "outputs": [],
   "source": [
    "green.to_csv('C:/Users/Aidan/OneDrive - Simon Fraser University (1sfu)/Garbage Route Optimization/greenTimes.csv')\n",
    "garbage.to_csv('C:/Users/Aidan/OneDrive - Simon Fraser University (1sfu)/Garbage Route Optimization/garbageTimes.csv')\n",
    "recycling.to_csv('C:/Users/Aidan/OneDrive - Simon Fraser University (1sfu)/Garbage Route Optimization/recyclingTimes.csv')"
   ]
  },
  {
   "cell_type": "code",
   "execution_count": null,
   "metadata": {
    "pycharm": {
     "is_executing": true
    }
   },
   "outputs": [],
   "source": []
  }
 ],
 "metadata": {
  "kernelspec": {
   "display_name": "Python 3",
   "language": "python",
   "name": "python3"
  },
  "language_info": {
   "codemirror_mode": {
    "name": "ipython",
    "version": 3
   },
   "file_extension": ".py",
   "mimetype": "text/x-python",
   "name": "python",
   "nbconvert_exporter": "python",
   "pygments_lexer": "ipython3",
   "version": "3.8.5"
  }
 },
 "nbformat": 4,
 "nbformat_minor": 1
}
