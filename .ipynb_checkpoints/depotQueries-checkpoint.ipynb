{
 "cells": [
  {
   "cell_type": "code",
   "execution_count": 2,
   "metadata": {
    "pycharm": {
     "is_executing": true
    }
   },
   "outputs": [],
   "source": [
    "import pandas as pd"
   ]
  },
  {
   "cell_type": "code",
   "execution_count": null,
   "metadata": {},
   "outputs": [],
   "source": [
    "locations = pd.read_csv('C:/Users/Aidan/OneDrive - Simon Fraser University (1sfu)/Garbage Route Optimization/Poco-extract-long-lat.csv',index_col=0)\n",
    "locations['Address'] = locations.index"
   ]
  },
  {
   "cell_type": "code",
   "execution_count": 3,
   "metadata": {},
   "outputs": [
    {
     "data": {
      "text/html": [
       "<div>\n",
       "<style scoped>\n",
       "    .dataframe tbody tr th:only-of-type {\n",
       "        vertical-align: middle;\n",
       "    }\n",
       "\n",
       "    .dataframe tbody tr th {\n",
       "        vertical-align: top;\n",
       "    }\n",
       "\n",
       "    .dataframe thead th {\n",
       "        text-align: right;\n",
       "    }\n",
       "</style>\n",
       "<table border=\"1\" class=\"dataframe\">\n",
       "  <thead>\n",
       "    <tr style=\"text-align: right;\">\n",
       "      <th></th>\n",
       "      <th>lat</th>\n",
       "      <th>long</th>\n",
       "      <th>Address</th>\n",
       "    </tr>\n",
       "  </thead>\n",
       "  <tbody>\n",
       "    <tr>\n",
       "      <th>1251 CONFEDERATION DR, Port Coquitlam, BC, Canada</th>\n",
       "      <td>49.237803</td>\n",
       "      <td>-122.784035</td>\n",
       "      <td>1251 CONFEDERATION DR, Port Coquitlam, BC, Canada</td>\n",
       "    </tr>\n",
       "    <tr>\n",
       "      <th>1212 DEWAR WAY, Port Coquitlam, BC, Canada</th>\n",
       "      <td>49.235443</td>\n",
       "      <td>-122.787270</td>\n",
       "      <td>1212 DEWAR WAY, Port Coquitlam, BC, Canada</td>\n",
       "    </tr>\n",
       "    <tr>\n",
       "      <th>2442 KENSINGTON CRES, Port Coquitlam, BC, Canada</th>\n",
       "      <td>49.235915</td>\n",
       "      <td>-122.780643</td>\n",
       "      <td>2442 KENSINGTON CRES, Port Coquitlam, BC, Canada</td>\n",
       "    </tr>\n",
       "    <tr>\n",
       "      <th>2645 KLASSEN CRT, Port Coquitlam, BC, Canada</th>\n",
       "      <td>49.238425</td>\n",
       "      <td>-122.785899</td>\n",
       "      <td>2645 KLASSEN CRT, Port Coquitlam, BC, Canada</td>\n",
       "    </tr>\n",
       "    <tr>\n",
       "      <th>1465 MORRISON ST, Port Coquitlam, BC, Canada</th>\n",
       "      <td>49.241679</td>\n",
       "      <td>-122.767825</td>\n",
       "      <td>1465 MORRISON ST, Port Coquitlam, BC, Canada</td>\n",
       "    </tr>\n",
       "    <tr>\n",
       "      <th>...</th>\n",
       "      <td>...</td>\n",
       "      <td>...</td>\n",
       "      <td>...</td>\n",
       "    </tr>\n",
       "    <tr>\n",
       "      <th>3211 OGILVIE CRES, Port Coquitlam, BC, Canada</th>\n",
       "      <td>49.271119</td>\n",
       "      <td>-122.781384</td>\n",
       "      <td>3211 OGILVIE CRES, Port Coquitlam, BC, Canada</td>\n",
       "    </tr>\n",
       "    <tr>\n",
       "      <th>2579 PATRICIA AVE, Port Coquitlam, BC, Canada</th>\n",
       "      <td>49.276791</td>\n",
       "      <td>-122.785421</td>\n",
       "      <td>2579 PATRICIA AVE, Port Coquitlam, BC, Canada</td>\n",
       "    </tr>\n",
       "    <tr>\n",
       "      <th>2419 FRISKIE AVE, Port Coquitlam, BC, Canada</th>\n",
       "      <td>49.274013</td>\n",
       "      <td>-122.779807</td>\n",
       "      <td>2419 FRISKIE AVE, Port Coquitlam, BC, Canada</td>\n",
       "    </tr>\n",
       "    <tr>\n",
       "      <th>2639 PATRICIA AVE, Port Coquitlam, BC, Canada</th>\n",
       "      <td>49.276817</td>\n",
       "      <td>-122.786312</td>\n",
       "      <td>2639 PATRICIA AVE, Port Coquitlam, BC, Canada</td>\n",
       "    </tr>\n",
       "    <tr>\n",
       "      <th>2436 KITCHENER AVE, Port Coquitlam, BC, Canada</th>\n",
       "      <td>49.274441</td>\n",
       "      <td>-122.780412</td>\n",
       "      <td>2436 KITCHENER AVE, Port Coquitlam, BC, Canada</td>\n",
       "    </tr>\n",
       "  </tbody>\n",
       "</table>\n",
       "<p>9916 rows × 3 columns</p>\n",
       "</div>"
      ],
      "text/plain": [
       "                                                         lat        long  \\\n",
       "1251 CONFEDERATION DR, Port Coquitlam, BC, Canada  49.237803 -122.784035   \n",
       "1212 DEWAR WAY, Port Coquitlam, BC, Canada         49.235443 -122.787270   \n",
       "2442 KENSINGTON CRES, Port Coquitlam, BC, Canada   49.235915 -122.780643   \n",
       "2645 KLASSEN CRT, Port Coquitlam, BC, Canada       49.238425 -122.785899   \n",
       "1465 MORRISON ST, Port Coquitlam, BC, Canada       49.241679 -122.767825   \n",
       "...                                                      ...         ...   \n",
       "3211 OGILVIE CRES, Port Coquitlam, BC, Canada      49.271119 -122.781384   \n",
       "2579 PATRICIA AVE, Port Coquitlam, BC, Canada      49.276791 -122.785421   \n",
       "2419 FRISKIE AVE, Port Coquitlam, BC, Canada       49.274013 -122.779807   \n",
       "2639 PATRICIA AVE, Port Coquitlam, BC, Canada      49.276817 -122.786312   \n",
       "2436 KITCHENER AVE, Port Coquitlam, BC, Canada     49.274441 -122.780412   \n",
       "\n",
       "                                                                                             Address  \n",
       "1251 CONFEDERATION DR, Port Coquitlam, BC, Canada  1251 CONFEDERATION DR, Port Coquitlam, BC, Canada  \n",
       "1212 DEWAR WAY, Port Coquitlam, BC, Canada                1212 DEWAR WAY, Port Coquitlam, BC, Canada  \n",
       "2442 KENSINGTON CRES, Port Coquitlam, BC, Canada    2442 KENSINGTON CRES, Port Coquitlam, BC, Canada  \n",
       "2645 KLASSEN CRT, Port Coquitlam, BC, Canada            2645 KLASSEN CRT, Port Coquitlam, BC, Canada  \n",
       "1465 MORRISON ST, Port Coquitlam, BC, Canada            1465 MORRISON ST, Port Coquitlam, BC, Canada  \n",
       "...                                                                                              ...  \n",
       "3211 OGILVIE CRES, Port Coquitlam, BC, Canada          3211 OGILVIE CRES, Port Coquitlam, BC, Canada  \n",
       "2579 PATRICIA AVE, Port Coquitlam, BC, Canada          2579 PATRICIA AVE, Port Coquitlam, BC, Canada  \n",
       "2419 FRISKIE AVE, Port Coquitlam, BC, Canada            2419 FRISKIE AVE, Port Coquitlam, BC, Canada  \n",
       "2639 PATRICIA AVE, Port Coquitlam, BC, Canada          2639 PATRICIA AVE, Port Coquitlam, BC, Canada  \n",
       "2436 KITCHENER AVE, Port Coquitlam, BC, Canada        2436 KITCHENER AVE, Port Coquitlam, BC, Canada  \n",
       "\n",
       "[9916 rows x 3 columns]"
      ]
     },
     "execution_count": 3,
     "metadata": {},
     "output_type": "execute_result"
    }
   ],
   "source": [
    "locations"
   ]
  },
  {
   "cell_type": "code",
   "execution_count": null,
   "metadata": {},
   "outputs": [],
   "source": []
  },
  {
   "cell_type": "code",
   "execution_count": null,
   "metadata": {},
   "outputs": [],
   "source": []
  },
  {
   "cell_type": "code",
   "execution_count": null,
   "metadata": {},
   "outputs": [],
   "source": []
  },
  {
   "cell_type": "code",
   "execution_count": null,
   "metadata": {},
   "outputs": [],
   "source": []
  }
 ],
 "metadata": {
  "kernelspec": {
   "display_name": "Python 3",
   "language": "python",
   "name": "python3"
  },
  "language_info": {
   "codemirror_mode": {
    "name": "ipython",
    "version": 3
   },
   "file_extension": ".py",
   "mimetype": "text/x-python",
   "name": "python",
   "nbconvert_exporter": "python",
   "pygments_lexer": "ipython3",
   "version": "3.8.5"
  }
 },
 "nbformat": 4,
 "nbformat_minor": 1
}
