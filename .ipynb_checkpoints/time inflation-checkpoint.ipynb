{
 "cells": [
  {
   "cell_type": "code",
   "execution_count": 1,
   "id": "funded-intensity",
   "metadata": {},
   "outputs": [],
   "source": [
    "import pandas as pd"
   ]
  },
  {
   "cell_type": "code",
   "execution_count": 2,
   "id": "fifteen-nutrition",
   "metadata": {},
   "outputs": [],
   "source": [
    "# Reading in time matrix\n",
    "timeMatrix = pd.read_csv('C:/Users/Aidan/OneDrive - Simon Fraser University (1sfu)/Garbage Route Optimization/timeMatrix.csv', index_col=0)"
   ]
  },
  {
   "cell_type": "code",
   "execution_count": 96,
   "id": "medium-candy",
   "metadata": {},
   "outputs": [],
   "source": [
    "# Reading in locations\n",
    "locations = pd.read_csv('C:/Users/Aidan/OneDrive - Simon Fraser University (1sfu)/Garbage Route Optimization/locations_updated.csv', index_col=0)"
   ]
  },
  {
   "cell_type": "code",
   "execution_count": 97,
   "id": "olympic-beauty",
   "metadata": {},
   "outputs": [],
   "source": [
    "# Filtering out garbage\n",
    "locations = locations[~(locations['Address'] == 'NO ADDRESS, Port Coquitlam, BC, Canada')]"
   ]
  },
  {
   "cell_type": "code",
   "execution_count": 106,
   "id": "young-strap",
   "metadata": {},
   "outputs": [],
   "source": [
    "addressNumber = [] # hold address number\n",
    "street = [] # holds street\n",
    "\n",
    "# Splitting the address into 'Address' and 'Street', recording it in separate lists\n",
    "for row in locations.index.str.split(' ').values:  \n",
    "    if row[0] == 'A-2163': # There is one weird value, just handling this here\n",
    "        addressNumber.append(int(2163))\n",
    "    else:\n",
    "        addressNumber.append(int(row[0]))\n",
    "    street.append(' '.join(row[1:-4]))"
   ]
  },
  {
   "cell_type": "code",
   "execution_count": 110,
   "id": "complimentary-component",
   "metadata": {},
   "outputs": [],
   "source": [
    "# Creating new columns\n",
    "locations['addressNumber']  = addressNumber\n",
    "locations['street'] = street"
   ]
  },
  {
   "cell_type": "code",
   "execution_count": 137,
   "id": "essential-pasta",
   "metadata": {},
   "outputs": [],
   "source": [
    "# Copying time matrix to new variable so I dont hae to keep reading in the time matrix\n",
    "timeMatrixAdjusted = timeMatrix.copy()"
   ]
  },
  {
   "cell_type": "code",
   "execution_count": 138,
   "id": "simple-grant",
   "metadata": {},
   "outputs": [],
   "source": [
    "streets = locations['street'].unique()\n",
    "for street in streets:\n",
    "    locationsFiltered = locations[locations['street'] == street]\n",
    "    locationsFilteredEven = locationsFiltered[locationsFiltered['addressNumber'] % 2 == 0]\n",
    "    locationsFilteredOdd = locationsFiltered[locationsFiltered['addressNumber'] % 2 == 1]\n",
    "    \n",
    "    for index, even in locationsFilteredEven.iterrows():\n",
    "        for index, odd in locationsFilteredOdd.iterrows():\n",
    "            timeMatrixAdjusted.loc[even['Address'], odd['Address']] += 90\n",
    "            timeMatrixAdjusted.loc[odd['Address'],even['Address']] += 90"
   ]
  },
  {
   "cell_type": "code",
   "execution_count": 140,
   "id": "dental-academy",
   "metadata": {},
   "outputs": [],
   "source": [
    "timeMatrixAdjusted.to_csv('C:/Users/Aidan/OneDrive - Simon Fraser University (1sfu)/Garbage Route Optimization/timeMatrixAdjusted.csv')"
   ]
  },
  {
   "cell_type": "code",
   "execution_count": null,
   "id": "spare-seeker",
   "metadata": {},
   "outputs": [],
   "source": []
  },
  {
   "cell_type": "code",
   "execution_count": null,
   "id": "asian-bridal",
   "metadata": {},
   "outputs": [],
   "source": []
  },
  {
   "cell_type": "code",
   "execution_count": null,
   "id": "intended-ratio",
   "metadata": {},
   "outputs": [],
   "source": []
  },
  {
   "cell_type": "code",
   "execution_count": null,
   "id": "blind-peoples",
   "metadata": {},
   "outputs": [],
   "source": []
  }
 ],
 "metadata": {
  "kernelspec": {
   "display_name": "Python 3",
   "language": "python",
   "name": "python3"
  },
  "language_info": {
   "codemirror_mode": {
    "name": "ipython",
    "version": 3
   },
   "file_extension": ".py",
   "mimetype": "text/x-python",
   "name": "python",
   "nbconvert_exporter": "python",
   "pygments_lexer": "ipython3",
   "version": "3.8.5"
  }
 },
 "nbformat": 4,
 "nbformat_minor": 5
}
