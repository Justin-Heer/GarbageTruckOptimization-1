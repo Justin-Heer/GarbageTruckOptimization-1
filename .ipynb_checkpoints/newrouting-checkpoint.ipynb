{
 "cells": [
  {
   "cell_type": "code",
   "execution_count": 45,
   "id": "other-cooler",
   "metadata": {},
   "outputs": [],
   "source": [
    "import pandas as pd\n",
    "import numpy as np\n",
    "import time\n",
    "from ortools.constraint_solver import routing_enums_pb2\n",
    "from ortools.constraint_solver import pywrapcp"
   ]
  },
  {
   "cell_type": "code",
   "execution_count": 2,
   "id": "premier-community",
   "metadata": {},
   "outputs": [],
   "source": [
    "# Reading in time matrix\n",
    "timeMatrix = pd.read_csv('C:/Users/Aidan/OneDrive - Simon Fraser University (1sfu)/Garbage Route Optimization/timeMatrixInflated.csv', index_col=0)"
   ]
  },
  {
   "cell_type": "code",
   "execution_count": 4,
   "id": "tropical-cleanup",
   "metadata": {},
   "outputs": [],
   "source": [
    "# Reading in locations by zones\n",
    "locationsByZones = pd.read_csv('C:/Users/Aidan/OneDrive - Simon Fraser University (1sfu)/Garbage Route Optimization/poco-allzones.csv', index_col=0)\n",
    "locationsByZones.index = locationsByZones.index + ', Port Coquitlam, BC, Canada'"
   ]
  },
  {
   "cell_type": "code",
   "execution_count": 17,
   "id": "scenic-cinema",
   "metadata": {},
   "outputs": [
    {
     "data": {
      "text/plain": [
       "numpy.float64"
      ]
     },
     "execution_count": 17,
     "metadata": {},
     "output_type": "execute_result"
    }
   ],
   "source": [
    "type(locationsByZones['Garbage Zone'].values[0])"
   ]
  },
  {
   "cell_type": "code",
   "execution_count": 59,
   "id": "certified-missouri",
   "metadata": {},
   "outputs": [],
   "source": [
    "timeMatrixFiltered = {}\n",
    "depotLocation = {}\n",
    "for zone in [1,2,3,4,5]:\n",
    "    # Creating a row just for the depot\n",
    "    depot = pd.Series({'Garbage Zone':np.float64(zone)},name='1737 Broadway St Port Coquitlam, BC, Canada')\n",
    "    \n",
    "    # Filtering locations by zone\n",
    "    locationsByZonesFiltered = locationsByZones[(locationsByZones['Garbage Zone'] == zone)]\n",
    "    \n",
    "    # Adding in depot\n",
    "    locationsByZonesFiltered = locationsByZonesFiltered.append(depot)\n",
    "    \n",
    "    # Filtering the time matrix by zone and storing them separately in a dictionary\n",
    "    timeMatrixFiltered[zone] = timeMatrix.iloc[timeMatrix.index.isin(locationsByZonesFiltered.index),\n",
    "                                               timeMatrix.index.isin(locationsByZonesFiltered.index)]\n",
    "    \n",
    "    depotLocation[zone] = np.where(timeMatrixFiltered[zone].index == '1737 Broadway St Port Coquitlam, BC, Canada')[0][0]\n",
    "    \n",
    "    break"
   ]
  },
  {
   "cell_type": "code",
   "execution_count": null,
   "id": "surrounded-converter",
   "metadata": {},
   "outputs": [],
   "source": []
  },
  {
   "cell_type": "code",
   "execution_count": null,
   "id": "adjusted-redhead",
   "metadata": {},
   "outputs": [],
   "source": []
  },
  {
   "cell_type": "code",
   "execution_count": null,
   "id": "dress-tamil",
   "metadata": {},
   "outputs": [],
   "source": []
  },
  {
   "cell_type": "code",
   "execution_count": null,
   "id": "circular-damage",
   "metadata": {},
   "outputs": [],
   "source": []
  },
  {
   "cell_type": "code",
   "execution_count": null,
   "id": "bulgarian-drunk",
   "metadata": {},
   "outputs": [],
   "source": []
  }
 ],
 "metadata": {
  "kernelspec": {
   "display_name": "Python 3",
   "language": "python",
   "name": "python3"
  },
  "language_info": {
   "codemirror_mode": {
    "name": "ipython",
    "version": 3
   },
   "file_extension": ".py",
   "mimetype": "text/x-python",
   "name": "python",
   "nbconvert_exporter": "python",
   "pygments_lexer": "ipython3",
   "version": "3.8.5"
  }
 },
 "nbformat": 4,
 "nbformat_minor": 5
}
