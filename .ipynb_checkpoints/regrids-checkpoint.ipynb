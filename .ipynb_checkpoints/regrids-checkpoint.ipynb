{
 "cells": [
  {
   "cell_type": "code",
   "execution_count": 14,
   "metadata": {},
   "outputs": [],
   "source": [
    "import pandas as pd\n",
    "import numpy as np"
   ]
  },
  {
   "cell_type": "code",
   "execution_count": 15,
   "metadata": {},
   "outputs": [],
   "source": [
    "def assign_grids(df, n_grids=10):\n",
    "    '''\n",
    "    creates an n_grids x n_grids grid and assigns each home in df to its correct grid. \n",
    "    Inclusive lower boundary, exclusive upper boundary when calculating grid limits\n",
    "    \n",
    "    note: n_grids = 10 will return 100 unique grid points, so it will create 11x11 lines in order to \n",
    "    return a 10x10 grid\n",
    "    \n",
    "    input\n",
    "    \n",
    "    df: should be a pandas DataFrame with addresses, longitude and lattitude values\n",
    "    n_grids: the number of grids on 1 side of the final desired grid (n x n)\n",
    "    \n",
    "    returns the input dataframe with the added 'assigned_grid' column\n",
    "    '''\n",
    "    \n",
    "    \n",
    "    # create -1 column which will be filled\n",
    "    df['gridX'] = -1\n",
    "    df['gridY'] = -1 \n",
    "\n",
    "    # create grid arrays\n",
    "    xgrids = np.linspace(df['long'].min(), df['long'].max(),n_grids+1)\n",
    "    ygrids = np.linspace(df['lat'].min(), df['lat'].max(),n_grids+1)\n",
    "        \n",
    "    for xinx, xgrid in enumerate(xgrids[:-1]):\n",
    "        bool1 = (df['long'] >= xgrid) & (df['long'] < xgrids[xinx+1])\n",
    "        df.loc[bool1, 'gridX'] = xinx\n",
    "    for yinx, ygrid in enumerate(ygrids[:-1]):\n",
    "        bool1 = (df['lat'] >= ygrid) & (df['lat'] < ygrids[yinx+1])\n",
    "        df.loc[bool1, 'gridY'] = yinx\n",
    "    \n",
    "    # assigns string column for easy human viewing \n",
    "    df['grid'] = \"[\"+df['gridX'].astype(str) + \",\" + df['gridY'].astype(str) +\"]\"\n",
    "    return df"
   ]
  },
  {
   "cell_type": "code",
   "execution_count": 6,
   "metadata": {},
   "outputs": [],
   "source": [
    "originals = pd.read_csv('C:/Users/Aidan/OneDrive - Simon Fraser University (1sfu)/Garbage Route Optimization/poco-coordinates.csv',index_col=0)\n",
    "\n",
    "inx = originals.loc['NO ADDRESS, Port Coquitlam, BC, Canada',:].index\n",
    "originals.drop(inx, inplace=True)"
   ]
  },
  {
   "cell_type": "code",
   "execution_count": 7,
   "metadata": {},
   "outputs": [],
   "source": [
    "extras = pd.read_csv('C:/Users/Aidan/OneDrive - Simon Fraser University (1sfu)/Garbage Route Optimization/poco-geocodedataExtraLocations.csv',index_col=5)\n",
    "extras = extras[['longitude','latitude']]\n",
    "extras = extras.rename(columns={'longitude':'long','latitude':'lat'})"
   ]
  },
  {
   "cell_type": "code",
   "execution_count": 10,
   "metadata": {},
   "outputs": [],
   "source": [
    "allLocations = pd.concat([originals,extras])"
   ]
  },
  {
   "cell_type": "code",
   "execution_count": 16,
   "metadata": {},
   "outputs": [],
   "source": [
    "allLocations = assign_grids(allLocations,60)"
   ]
  },
  {
   "cell_type": "code",
   "execution_count": 63,
   "metadata": {},
   "outputs": [],
   "source": [
    "activeGrids = np.zeros((61,61))\n",
    "for index, values in allLocations.iterrows():\n",
    "    activeGrids[values['gridX'],values['gridY']] = 1"
   ]
  },
  {
   "cell_type": "code",
   "execution_count": 178,
   "metadata": {},
   "outputs": [],
   "source": [
    "def corner_case(gridX, gridY,grid_n):\n",
    "    if (gridX == 0) & (gridY == 0) :\n",
    "        checklist = [[0, 0], [0, 1], [1, 0], [1, 1]]\n",
    "        \n",
    "    elif (gridX == 0) & (gridY == grid_n):\n",
    "        checklist = [[0, grid_n], [1, grid_n], [0, grid_n-1], [1, grid_n-1]]\n",
    "        \n",
    "    elif (gridX == grid_n) & (gridY == 0):\n",
    "        checklist = [[grid_n, 0], [grid_n, 1], [grid_n-1,0], [grid_n-1, 1]]\n",
    "        \n",
    "    elif (gridX == grid_n) & (gridY == grid_n):\n",
    "        checklist = [[grid_n, grid_n], [grid_n, grid_n-1], [grid_n-1, grid_n], [grid_n-1, grid_n-1]]\n",
    "        \n",
    "    return checklist\n",
    "\n",
    "def edge_case(gridX, gridY, grid_n):\n",
    "    if gridY == 0:\n",
    "        if gridX not in [0,grid_n]:\n",
    "            checklist = [[gridX, gridY], [gridX-1, gridY], [gridX+1, gridY], [gridX, gridY+1], [gridX-1, gridY+1],\n",
    "                         [gridX+1, gridY+1]]\n",
    "    elif gridY == grid_n:\n",
    "        if gridX not in [0,grid_n]:\n",
    "            checklist = [[gridX, gridY], [gridX-1, gridY], [gridX+1, gridY], [gridX, gridY-1], [gridX-1, gridY-1],\n",
    "                         [gridX+1, gridY-1]]\n",
    "    elif gridX == 0:\n",
    "        if gridY not in [0, grid_n]:\n",
    "            checklist = [[gridX, gridY], [gridX, gridY-1], [gridX, gridY+1], [gridX+1, gridY], [gridX+1, gridY+1],\n",
    "                         [gridX+1, gridY-1]]\n",
    "    elif gridX == grid_n:\n",
    "        if gridY not in [0, grid_n]:\n",
    "            checklist = [[gridX, gridY], [gridX, gridY-1], [gridX, gridY+1], [gridX-1, gridY], [gridX-1, gridY+1],\n",
    "                         [gridX-1, gridY-1]]\n",
    "    return checklist\n",
    "\n",
    "def regular_case(gridX, gridY, grid_n):\n",
    "    x = gridX\n",
    "    y = gridY\n",
    "\n",
    "    checklist = [[gridX, gridY]]\n",
    "\n",
    "    if activeGrids[gridX-1, gridY] == 0:\n",
    "        while gridX-1 > -1:\n",
    "            if (activeGrids[gridX-1, gridY] == 0):\n",
    "                gridX -= 1\n",
    "            else:\n",
    "                break\n",
    "        checklist.append([gridX-1, gridY])\n",
    "    else:\n",
    "        checklist.append([gridX-1, gridY]) #\n",
    "        \n",
    "    gridX = x\n",
    "    gridY = y\n",
    "    if activeGrids[gridX+1, gridY] == 0:\n",
    "        while gridX+1 < 61:\n",
    "            if activeGrids[gridX+1, gridY] == 0:\n",
    "                gridX += 1\n",
    "            else:\n",
    "                break\n",
    "        checklist.append([gridX+1, gridY])\n",
    "            \n",
    "    else:\n",
    "        checklist.append([gridX+1, gridY]) #\n",
    "    \n",
    "    gridX = x\n",
    "    gridY = y\n",
    "    if activeGrids[gridX, gridY+1] == 0:\n",
    "        while gridY+1 < 61:\n",
    "            if activeGrids[gridX, gridY+1] == 0:\n",
    "                gridY += 1\n",
    "            else:\n",
    "                break\n",
    "        checklist.append([gridX, gridY+1])\n",
    "    else:\n",
    "        checklist.append([gridX, gridY+1]) #\n",
    "    \n",
    "    gridX = x\n",
    "    gridY = y\n",
    "    if activeGrids[gridX, gridY-1] == 0:\n",
    "        while gridY-1 > -1:\n",
    "            if activeGrids[gridX, gridY-1] == 0:\n",
    "                gridY -= 1\n",
    "            else:\n",
    "                break\n",
    "        checklist.append([gridX, gridY-1]) \n",
    "    else:\n",
    "        checklist.append([gridX, gridY-1]) #\n",
    "    \n",
    "    gridX = x\n",
    "    gridY = y\n",
    "    if activeGrids[gridX-1, gridY-1] == 0:\n",
    "        while (gridX-1  > -1) & (gridY-1  > -1):\n",
    "            if (activeGrids[gridX-1, gridY-1] == 0):\n",
    "                gridY -= 1\n",
    "                gridX -= 1\n",
    "            else:\n",
    "                break\n",
    "        checklist.append([gridX-1, gridY-1])\n",
    "    else:\n",
    "        checklist.append([gridX-1, gridY-1]) #\n",
    "       \n",
    "    gridX = x\n",
    "    gridY = y\n",
    "    if activeGrids[gridX-1, gridY+1] == 0:\n",
    "        while (gridX-1 > -1) & (gridY+1 < 61):\n",
    "            if (activeGrids[gridX-1, gridY+1] == 0):\n",
    "                gridX -= 1\n",
    "                gridY += 1\n",
    "            else:\n",
    "                break\n",
    "        checklist.append([gridX-1, gridY+1])\n",
    "    else:\n",
    "        checklist.append([gridX-1, gridY+1]) #\n",
    "        \n",
    "    gridX = x\n",
    "    gridY = y\n",
    "    if activeGrids[gridX+1, gridY-1] == 0:\n",
    "        while (gridY-1 > -1) & (gridX+1 < 61):\n",
    "            if (activeGrids [gridX+1, gridY-1] == 0):\n",
    "                gridX += 1\n",
    "                gridY -= 1\n",
    "            else:\n",
    "                break\n",
    "        checklist.append([gridX+1, gridY-1])\n",
    "    else:\n",
    "        checklist.append([gridX+1, gridY-1]) #\n",
    "        \n",
    "    gridX = x\n",
    "    gridY = y\n",
    "    if activeGrids[gridX+1, gridY+1]== 0:\n",
    "        while (gridX+1 < 61) & (gridY+1 < 61):\n",
    "            if (activeGrids [gridX+1, gridY+1] == 0):\n",
    "                gridX += 1\n",
    "                gridY += 1\n",
    "            else:\n",
    "                break\n",
    "        checklist.append([gridX+1, gridY+1])\n",
    "    else:\n",
    "        checklist.append([gridX+1, gridY+1]) #\n",
    "            \n",
    "    return checklist"
   ]
  },
  {
   "cell_type": "code",
   "execution_count": 179,
   "metadata": {},
   "outputs": [],
   "source": [
    "allLocations['checklist'] = np.nan\n",
    "allLocations['checklist'] = allLocations['checklist'].astype('object')"
   ]
  },
  {
   "cell_type": "code",
   "execution_count": 181,
   "metadata": {},
   "outputs": [],
   "source": [
    "for inx,arr in allLocations.iterrows():\n",
    "    checklist = None\n",
    "    checklist = regular_case(arr['gridX'],arr['gridY'],20)\n",
    "    if checklist == None:\n",
    "        checklist = edge_case(arr['gridX'],arr['gridY'],20)\n",
    "    if checklist == None:\n",
    "        checklist = corner_case(arr['gridX'],arr['gridY'],20)\n",
    "    allLocations.loc[inx,'checklist'] = [checklist]\n",
    "       \n",
    "    \n"
   ]
  },
  {
   "cell_type": "code",
   "execution_count": 183,
   "metadata": {},
   "outputs": [],
   "source": [
    "df = allLocations"
   ]
  },
  {
   "cell_type": "code",
   "execution_count": 184,
   "metadata": {},
   "outputs": [
    {
     "name": "stdout",
     "output_type": "stream",
     "text": [
      "0\n",
      "500\n",
      "1000\n",
      "1500\n",
      "2000\n",
      "2500\n",
      "3000\n",
      "3500\n",
      "4000\n",
      "4500\n",
      "5000\n",
      "5500\n",
      "6000\n",
      "6500\n",
      "7000\n",
      "7500\n",
      "8000\n",
      "8500\n",
      "9000\n",
      "9500\n",
      "10000\n"
     ]
    }
   ],
   "source": [
    "count = 0\n",
    "startHouses = []\n",
    "endHouses = []\n",
    "\n",
    "for inx,arr in df.iterrows():\n",
    "    if count%500 == 0:\n",
    "        print(count)\n",
    "    housesToHit = []\n",
    "    for grid in arr['checklist']:\n",
    "        xinx = grid[0] == df['gridX']\n",
    "        yinx = grid[1] == df['gridY']\n",
    "        housesToHit.append(df.loc[xinx&yinx].index.to_list())\n",
    "    \n",
    "    endHousesToAdd = [item for sublist in housesToHit for item in sublist]\n",
    "    endHousesToAdd.remove(inx)\n",
    "\n",
    "    endHousesToAdd = [x for x in endHousesToAdd if x not in set(startHouses)]\n",
    "    \n",
    "    startHouses.extend([inx]*len(endHousesToAdd))\n",
    "    endHouses.extend(endHousesToAdd)\n",
    "    \n",
    "    count += 1"
   ]
  },
  {
   "cell_type": "code",
   "execution_count": 185,
   "metadata": {},
   "outputs": [],
   "source": [
    "data = {'startHouses' : startHouses, 'endHouses': endHouses}"
   ]
  },
  {
   "cell_type": "code",
   "execution_count": 186,
   "metadata": {},
   "outputs": [],
   "source": [
    "temp = pd.DataFrame(data=data)"
   ]
  },
  {
   "cell_type": "code",
   "execution_count": 188,
   "metadata": {},
   "outputs": [],
   "source": [
    "temp.to_csv('C:/Users/Aidan/OneDrive - Simon Fraser University (1sfu)/Garbage Route Optimization/Queries/oldAndNewQueries.csv')"
   ]
  },
  {
   "cell_type": "code",
   "execution_count": 194,
   "metadata": {},
   "outputs": [],
   "source": [
    "new = temp[temp['startHouses'].isin(extras.index) | temp['endHouses'].isin(extras.index)]"
   ]
  },
  {
   "cell_type": "code",
   "execution_count": 196,
   "metadata": {},
   "outputs": [],
   "source": [
    "new.to_csv('C:/Users/Aidan/OneDrive - Simon Fraser University (1sfu)/Garbage Route Optimization/Queries/additionalLocationQueries.csv')"
   ]
  },
  {
   "cell_type": "code",
   "execution_count": null,
   "metadata": {},
   "outputs": [],
   "source": []
  },
  {
   "cell_type": "code",
   "execution_count": null,
   "metadata": {},
   "outputs": [],
   "source": []
  },
  {
   "cell_type": "code",
   "execution_count": null,
   "metadata": {},
   "outputs": [],
   "source": []
  }
 ],
 "metadata": {
  "kernelspec": {
   "display_name": "Python 3",
   "language": "python",
   "name": "python3"
  },
  "language_info": {
   "codemirror_mode": {
    "name": "ipython",
    "version": 3
   },
   "file_extension": ".py",
   "mimetype": "text/x-python",
   "name": "python",
   "nbconvert_exporter": "python",
   "pygments_lexer": "ipython3",
   "version": "3.8.5"
  }
 },
 "nbformat": 4,
 "nbformat_minor": 1
}
