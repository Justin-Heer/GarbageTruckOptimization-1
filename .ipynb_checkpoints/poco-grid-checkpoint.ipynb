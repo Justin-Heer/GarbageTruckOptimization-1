{
 "cells": [
  {
   "cell_type": "markdown",
   "id": "sound-surveillance",
   "metadata": {},
   "source": [
    "## Edge cases need to be fixed for grid assignment"
   ]
  },
  {
   "cell_type": "code",
   "execution_count": 1,
   "id": "nasty-maximum",
   "metadata": {},
   "outputs": [],
   "source": [
    "import pandas as pd\n",
    "%config Completer.use_jedi = False\n",
    "from matplotlib import pyplot as plt\n",
    "import numpy as np"
   ]
  },
  {
   "cell_type": "code",
   "execution_count": 28,
   "id": "unauthorized-jerusalem",
   "metadata": {},
   "outputs": [],
   "source": [
    "def assign_grids(df, n_grids=10):\n",
    "    '''\n",
    "    creates an n_grids x n_grids grid and assigns each home in df to its correct grid. \n",
    "    Inclusive lower boundary, exclusive upper boundary when calculating grid limits\n",
    "    \n",
    "    note: n_grids = 10 will return 100 unique grid points, so it will create 11x11 lines in order to \n",
    "    return a 10x10 grid\n",
    "    \n",
    "    input\n",
    "    \n",
    "    df: should be a pandas DataFrame with addresses, longitude and lattitude values\n",
    "    n_grids: the number of grids on 1 side of the final desired grid (n x n)\n",
    "    \n",
    "    returns the input dataframe with the added 'assigned_grid' column\n",
    "    '''\n",
    "    \n",
    "    \n",
    "    # create -1 column which will be filled\n",
    "    df['gridX'] = -1\n",
    "    df['gridY'] = -1 \n",
    "\n",
    "    # create grid arrays\n",
    "    xgrids = np.linspace(df['long'].min(), df['long'].max(),n_grids+1)\n",
    "    ygrids = np.linspace(df['lat'].min(), df['lat'].max(),n_grids+1)\n",
    "        \n",
    "    for xinx, xgrid in enumerate(xgrids[:-1]):\n",
    "        bool1 = (df['long'] >= xgrid) & (df['long'] < xgrids[xinx+1])\n",
    "        df.loc[bool1, 'gridX'] = xinx\n",
    "    for yinx, ygrid in enumerate(ygrids[:-1]):\n",
    "        bool1 = (df['lat'] >= ygrid) & (df['lat'] < ygrids[yinx+1])\n",
    "        df.loc[bool1, 'gridY'] = yinx\n",
    "    \n",
    "    # assigns string column for easy human viewing \n",
    "    df['grid'] = \"[\"+df['gridX'].astype(str) + \",\" + df['gridY'].astype(str) +\"]\"\n",
    "    return df"
   ]
  },
  {
   "cell_type": "code",
   "execution_count": 29,
   "id": "corresponding-endorsement",
   "metadata": {},
   "outputs": [],
   "source": [
    "df = pd.read_csv('C:/Users/Aidan/OneDrive - Simon Fraser University (1sfu)/Garbage Route Optimization/poco-coordinates.csv',index_col=0)\n",
    "\n",
    "inx = df.loc['NO ADDRESS, Port Coquitlam, BC, Canada',:].index\n",
    "df.drop(inx, inplace=True)"
   ]
  },
  {
   "cell_type": "code",
   "execution_count": 30,
   "id": "discrete-expression",
   "metadata": {},
   "outputs": [],
   "source": [
    "extra = pd.read_csv('C:/Users/Aidan/OneDrive - Simon Fraser University (1sfu)/Garbage Route Optimization/poco-geocodedataExtraLocations.csv',index_col=5)"
   ]
  },
  {
   "cell_type": "code",
   "execution_count": 31,
   "id": "threaded-speed",
   "metadata": {},
   "outputs": [],
   "source": [
    "extra = extra[['longitude','latitude']]"
   ]
  },
  {
   "cell_type": "code",
   "execution_count": 32,
   "id": "domestic-station",
   "metadata": {},
   "outputs": [],
   "source": [
    "extra = extra.rename(columns={'longitude':'long','latitude':'lat'})"
   ]
  },
  {
   "cell_type": "code",
   "execution_count": 33,
   "id": "pleased-adolescent",
   "metadata": {},
   "outputs": [],
   "source": [
    "df = pd.concat([df,extra])"
   ]
  },
  {
   "cell_type": "code",
   "execution_count": 34,
   "id": "measured-cooper",
   "metadata": {},
   "outputs": [
    {
     "data": {
      "text/html": [
       "<div>\n",
       "<style scoped>\n",
       "    .dataframe tbody tr th:only-of-type {\n",
       "        vertical-align: middle;\n",
       "    }\n",
       "\n",
       "    .dataframe tbody tr th {\n",
       "        vertical-align: top;\n",
       "    }\n",
       "\n",
       "    .dataframe thead th {\n",
       "        text-align: right;\n",
       "    }\n",
       "</style>\n",
       "<table border=\"1\" class=\"dataframe\">\n",
       "  <thead>\n",
       "    <tr style=\"text-align: right;\">\n",
       "      <th></th>\n",
       "      <th>lat</th>\n",
       "      <th>long</th>\n",
       "    </tr>\n",
       "  </thead>\n",
       "  <tbody>\n",
       "    <tr>\n",
       "      <th>1251 CONFEDERATION DR, Port Coquitlam, BC, Canada</th>\n",
       "      <td>49.237803</td>\n",
       "      <td>-122.784035</td>\n",
       "    </tr>\n",
       "    <tr>\n",
       "      <th>1212 DEWAR WAY, Port Coquitlam, BC, Canada</th>\n",
       "      <td>49.235443</td>\n",
       "      <td>-122.787270</td>\n",
       "    </tr>\n",
       "    <tr>\n",
       "      <th>2442 KENSINGTON CRES, Port Coquitlam, BC, Canada</th>\n",
       "      <td>49.235915</td>\n",
       "      <td>-122.780643</td>\n",
       "    </tr>\n",
       "    <tr>\n",
       "      <th>2645 KLASSEN CRT, Port Coquitlam, BC, Canada</th>\n",
       "      <td>49.238425</td>\n",
       "      <td>-122.785899</td>\n",
       "    </tr>\n",
       "    <tr>\n",
       "      <th>1465 MORRISON ST, Port Coquitlam, BC, Canada</th>\n",
       "      <td>49.241679</td>\n",
       "      <td>-122.767825</td>\n",
       "    </tr>\n",
       "    <tr>\n",
       "      <th>...</th>\n",
       "      <td>...</td>\n",
       "      <td>...</td>\n",
       "    </tr>\n",
       "    <tr>\n",
       "      <th>2330 WILSON AVE, Port Coquitlam, BC, Canada</th>\n",
       "      <td>49.260651</td>\n",
       "      <td>-122.783297</td>\n",
       "    </tr>\n",
       "    <tr>\n",
       "      <th>2360 WILSON AVE, Port Coquitlam, BC, Canada</th>\n",
       "      <td>49.260628</td>\n",
       "      <td>-122.784202</td>\n",
       "    </tr>\n",
       "    <tr>\n",
       "      <th>2378 WILSON AVE, Port Coquitlam, BC, Canada</th>\n",
       "      <td>49.260613</td>\n",
       "      <td>-122.784806</td>\n",
       "    </tr>\n",
       "    <tr>\n",
       "      <th>2439 WILSON AVE, Port Coquitlam, BC, Canada</th>\n",
       "      <td>49.261071</td>\n",
       "      <td>-122.785871</td>\n",
       "    </tr>\n",
       "    <tr>\n",
       "      <th>2484 WILSON AVE, Port Coquitlam, BC, Canada</th>\n",
       "      <td>49.260594</td>\n",
       "      <td>-122.787508</td>\n",
       "    </tr>\n",
       "  </tbody>\n",
       "</table>\n",
       "<p>10217 rows × 2 columns</p>\n",
       "</div>"
      ],
      "text/plain": [
       "                                                         lat        long\n",
       "1251 CONFEDERATION DR, Port Coquitlam, BC, Canada  49.237803 -122.784035\n",
       "1212 DEWAR WAY, Port Coquitlam, BC, Canada         49.235443 -122.787270\n",
       "2442 KENSINGTON CRES, Port Coquitlam, BC, Canada   49.235915 -122.780643\n",
       "2645 KLASSEN CRT, Port Coquitlam, BC, Canada       49.238425 -122.785899\n",
       "1465 MORRISON ST, Port Coquitlam, BC, Canada       49.241679 -122.767825\n",
       "...                                                      ...         ...\n",
       "2330 WILSON AVE, Port Coquitlam, BC, Canada        49.260651 -122.783297\n",
       "2360 WILSON AVE, Port Coquitlam, BC, Canada        49.260628 -122.784202\n",
       "2378 WILSON AVE, Port Coquitlam, BC, Canada        49.260613 -122.784806\n",
       "2439 WILSON AVE, Port Coquitlam, BC, Canada        49.261071 -122.785871\n",
       "2484 WILSON AVE, Port Coquitlam, BC, Canada        49.260594 -122.787508\n",
       "\n",
       "[10217 rows x 2 columns]"
      ]
     },
     "execution_count": 34,
     "metadata": {},
     "output_type": "execute_result"
    }
   ],
   "source": [
    "df"
   ]
  },
  {
   "cell_type": "code",
   "execution_count": 35,
   "id": "persistent-piano",
   "metadata": {},
   "outputs": [],
   "source": [
    "df = assign_grids(df,60)"
   ]
  },
  {
   "cell_type": "markdown",
   "id": "mathematical-arthur",
   "metadata": {},
   "source": [
    "## Check for unassigned values"
   ]
  },
  {
   "cell_type": "code",
   "execution_count": 36,
   "id": "appreciated-possession",
   "metadata": {},
   "outputs": [
    {
     "data": {
      "text/html": [
       "<div>\n",
       "<style scoped>\n",
       "    .dataframe tbody tr th:only-of-type {\n",
       "        vertical-align: middle;\n",
       "    }\n",
       "\n",
       "    .dataframe tbody tr th {\n",
       "        vertical-align: top;\n",
       "    }\n",
       "\n",
       "    .dataframe thead th {\n",
       "        text-align: right;\n",
       "    }\n",
       "</style>\n",
       "<table border=\"1\" class=\"dataframe\">\n",
       "  <thead>\n",
       "    <tr style=\"text-align: right;\">\n",
       "      <th></th>\n",
       "      <th>lat</th>\n",
       "      <th>long</th>\n",
       "      <th>gridX</th>\n",
       "      <th>gridY</th>\n",
       "      <th>grid</th>\n",
       "    </tr>\n",
       "  </thead>\n",
       "  <tbody>\n",
       "    <tr>\n",
       "      <th>4091 LIVERPOOL ST, Port Coquitlam, BC, Canada</th>\n",
       "      <td>49.285671</td>\n",
       "      <td>-122.760585</td>\n",
       "      <td>25</td>\n",
       "      <td>-1</td>\n",
       "      <td>[25,-1]</td>\n",
       "    </tr>\n",
       "    <tr>\n",
       "      <th>346 LAURIER AVE, Port Coquitlam, BC, Canada</th>\n",
       "      <td>49.274042</td>\n",
       "      <td>-122.716509</td>\n",
       "      <td>-1</td>\n",
       "      <td>47</td>\n",
       "      <td>[-1,47]</td>\n",
       "    </tr>\n",
       "  </tbody>\n",
       "</table>\n",
       "</div>"
      ],
      "text/plain": [
       "                                                     lat        long  gridX  \\\n",
       "4091 LIVERPOOL ST, Port Coquitlam, BC, Canada  49.285671 -122.760585     25   \n",
       "346 LAURIER AVE, Port Coquitlam, BC, Canada    49.274042 -122.716509     -1   \n",
       "\n",
       "                                               gridY     grid  \n",
       "4091 LIVERPOOL ST, Port Coquitlam, BC, Canada     -1  [25,-1]  \n",
       "346 LAURIER AVE, Port Coquitlam, BC, Canada       47  [-1,47]  "
      ]
     },
     "execution_count": 36,
     "metadata": {},
     "output_type": "execute_result"
    }
   ],
   "source": [
    "inx1 = df['gridX'] == -1\n",
    "inx2 = df['gridY'] == -1\n",
    "df[inx1|inx2]"
   ]
  },
  {
   "cell_type": "markdown",
   "id": "hybrid-suffering",
   "metadata": {},
   "source": [
    "### Experimenting with a non string replacement for grid column"
   ]
  },
  {
   "cell_type": "code",
   "execution_count": 37,
   "id": "flying-underground",
   "metadata": {},
   "outputs": [
    {
     "data": {
      "text/plain": [
       "array([[ 6, 10],\n",
       "       [ 4,  7],\n",
       "       [ 9,  8],\n",
       "       ...,\n",
       "       [ 6, 34],\n",
       "       [ 5, 34],\n",
       "       [ 4, 34]], dtype=int64)"
      ]
     },
     "execution_count": 37,
     "metadata": {},
     "output_type": "execute_result"
    }
   ],
   "source": [
    "np.dstack((df['gridX'].values,df['gridY'].values))[0]"
   ]
  },
  {
   "cell_type": "markdown",
   "id": "japanese-prize",
   "metadata": {},
   "source": [
    "### now trying to write something to count queries"
   ]
  },
  {
   "cell_type": "code",
   "execution_count": 12,
   "id": "addressed-passenger",
   "metadata": {},
   "outputs": [],
   "source": [
    "def corner_case(gridX, gridY,grid_n):\n",
    "    if (gridX == 0) & (gridY == 0) :\n",
    "        checklist = [[0, 0], [0, 1], [1, 0], [1, 1]]\n",
    "        \n",
    "    elif (gridX == 0) & (gridY == grid_n):\n",
    "        checklist = [[0, grid_n], [1, grid_n], [0, grid_n-1], [1, grid_n-1]]\n",
    "        \n",
    "    elif (gridX == grid_n) & (gridY == 0):\n",
    "        checklist = [[grid_n, 0], [grid_n, 1], [grid_n-1,0], [grid_n-1, 1]]\n",
    "        \n",
    "    elif (gridX == grid_n) & (gridY == grid_n):\n",
    "        checklist = [[grid_n, grid_n], [grid_n, grid_n-1], [grid_n-1, grid_n], [grid_n-1, grid_n-1]]\n",
    "        \n",
    "    return checklist\n",
    "\n",
    "def edge_case(gridX, gridY, grid_n):\n",
    "    if gridY == 0:\n",
    "        if gridX not in [0,grid_n]:\n",
    "            checklist = [[gridX, gridY], [gridX-1, gridY], [gridX+1, gridY], [gridX, gridY+1], [gridX-1, gridY+1],\n",
    "                         [gridX+1, gridY+1]]\n",
    "    elif gridY == grid_n:\n",
    "        if gridX not in [0,grid_n]:\n",
    "            checklist = [[gridX, gridY], [gridX-1, gridY], [gridX+1, gridY], [gridX, gridY-1], [gridX-1, gridY-1],\n",
    "                         [gridX+1, gridY-1]]\n",
    "    elif gridX == 0:\n",
    "        if gridY not in [0, grid_n]:\n",
    "            checklist = [[gridX, gridY], [gridX, gridY-1], [gridX, gridY+1], [gridX+1, gridY], [gridX+1, gridY+1],\n",
    "                         [gridX+1, gridY-1]]\n",
    "    elif gridX == grid_n:\n",
    "        if gridY not in [0, grid_n]:\n",
    "            checklist = [[gridX, gridY], [gridX, gridY-1], [gridX, gridY+1], [gridX-1, gridY], [gridX-1, gridY+1],\n",
    "                         [gridX-1, gridY-1]]\n",
    "    return checklist\n",
    "\n",
    "def regular_case(gridX, gridY, grid_n):\n",
    "    checklist = [[gridX, gridY], [gridX-1, gridY], [gridX+1, gridY], [gridX, gridY+1], [gridX, gridY-1], \n",
    "                 [gridX-1, gridY-1], [gridX-1, gridY+1], [gridX+1, gridY-1], [gridX+1, gridY+1]]\n",
    "    return checklist"
   ]
  },
  {
   "cell_type": "code",
   "execution_count": 13,
   "id": "fitting-hundred",
   "metadata": {},
   "outputs": [],
   "source": [
    "df['checklist'] = np.nan\n",
    "df['checklist'] = df['checklist'].astype('object')"
   ]
  },
  {
   "cell_type": "code",
   "execution_count": 38,
   "id": "dressed-feeding",
   "metadata": {},
   "outputs": [
    {
     "data": {
      "text/html": [
       "<div>\n",
       "<style scoped>\n",
       "    .dataframe tbody tr th:only-of-type {\n",
       "        vertical-align: middle;\n",
       "    }\n",
       "\n",
       "    .dataframe tbody tr th {\n",
       "        vertical-align: top;\n",
       "    }\n",
       "\n",
       "    .dataframe thead th {\n",
       "        text-align: right;\n",
       "    }\n",
       "</style>\n",
       "<table border=\"1\" class=\"dataframe\">\n",
       "  <thead>\n",
       "    <tr style=\"text-align: right;\">\n",
       "      <th></th>\n",
       "      <th>lat</th>\n",
       "      <th>long</th>\n",
       "      <th>gridX</th>\n",
       "      <th>gridY</th>\n",
       "      <th>grid</th>\n",
       "    </tr>\n",
       "  </thead>\n",
       "  <tbody>\n",
       "    <tr>\n",
       "      <th>1251 CONFEDERATION DR, Port Coquitlam, BC, Canada</th>\n",
       "      <td>49.237803</td>\n",
       "      <td>-122.784035</td>\n",
       "      <td>6</td>\n",
       "      <td>10</td>\n",
       "      <td>[6,10]</td>\n",
       "    </tr>\n",
       "    <tr>\n",
       "      <th>1212 DEWAR WAY, Port Coquitlam, BC, Canada</th>\n",
       "      <td>49.235443</td>\n",
       "      <td>-122.787270</td>\n",
       "      <td>4</td>\n",
       "      <td>7</td>\n",
       "      <td>[4,7]</td>\n",
       "    </tr>\n",
       "    <tr>\n",
       "      <th>2442 KENSINGTON CRES, Port Coquitlam, BC, Canada</th>\n",
       "      <td>49.235915</td>\n",
       "      <td>-122.780643</td>\n",
       "      <td>9</td>\n",
       "      <td>8</td>\n",
       "      <td>[9,8]</td>\n",
       "    </tr>\n",
       "    <tr>\n",
       "      <th>2645 KLASSEN CRT, Port Coquitlam, BC, Canada</th>\n",
       "      <td>49.238425</td>\n",
       "      <td>-122.785899</td>\n",
       "      <td>5</td>\n",
       "      <td>11</td>\n",
       "      <td>[5,11]</td>\n",
       "    </tr>\n",
       "    <tr>\n",
       "      <th>1465 MORRISON ST, Port Coquitlam, BC, Canada</th>\n",
       "      <td>49.241679</td>\n",
       "      <td>-122.767825</td>\n",
       "      <td>19</td>\n",
       "      <td>14</td>\n",
       "      <td>[19,14]</td>\n",
       "    </tr>\n",
       "    <tr>\n",
       "      <th>...</th>\n",
       "      <td>...</td>\n",
       "      <td>...</td>\n",
       "      <td>...</td>\n",
       "      <td>...</td>\n",
       "      <td>...</td>\n",
       "    </tr>\n",
       "    <tr>\n",
       "      <th>2330 WILSON AVE, Port Coquitlam, BC, Canada</th>\n",
       "      <td>49.260651</td>\n",
       "      <td>-122.783297</td>\n",
       "      <td>7</td>\n",
       "      <td>34</td>\n",
       "      <td>[7,34]</td>\n",
       "    </tr>\n",
       "    <tr>\n",
       "      <th>2360 WILSON AVE, Port Coquitlam, BC, Canada</th>\n",
       "      <td>49.260628</td>\n",
       "      <td>-122.784202</td>\n",
       "      <td>6</td>\n",
       "      <td>34</td>\n",
       "      <td>[6,34]</td>\n",
       "    </tr>\n",
       "    <tr>\n",
       "      <th>2378 WILSON AVE, Port Coquitlam, BC, Canada</th>\n",
       "      <td>49.260613</td>\n",
       "      <td>-122.784806</td>\n",
       "      <td>6</td>\n",
       "      <td>34</td>\n",
       "      <td>[6,34]</td>\n",
       "    </tr>\n",
       "    <tr>\n",
       "      <th>2439 WILSON AVE, Port Coquitlam, BC, Canada</th>\n",
       "      <td>49.261071</td>\n",
       "      <td>-122.785871</td>\n",
       "      <td>5</td>\n",
       "      <td>34</td>\n",
       "      <td>[5,34]</td>\n",
       "    </tr>\n",
       "    <tr>\n",
       "      <th>2484 WILSON AVE, Port Coquitlam, BC, Canada</th>\n",
       "      <td>49.260594</td>\n",
       "      <td>-122.787508</td>\n",
       "      <td>4</td>\n",
       "      <td>34</td>\n",
       "      <td>[4,34]</td>\n",
       "    </tr>\n",
       "  </tbody>\n",
       "</table>\n",
       "<p>10217 rows × 5 columns</p>\n",
       "</div>"
      ],
      "text/plain": [
       "                                                         lat        long  \\\n",
       "1251 CONFEDERATION DR, Port Coquitlam, BC, Canada  49.237803 -122.784035   \n",
       "1212 DEWAR WAY, Port Coquitlam, BC, Canada         49.235443 -122.787270   \n",
       "2442 KENSINGTON CRES, Port Coquitlam, BC, Canada   49.235915 -122.780643   \n",
       "2645 KLASSEN CRT, Port Coquitlam, BC, Canada       49.238425 -122.785899   \n",
       "1465 MORRISON ST, Port Coquitlam, BC, Canada       49.241679 -122.767825   \n",
       "...                                                      ...         ...   \n",
       "2330 WILSON AVE, Port Coquitlam, BC, Canada        49.260651 -122.783297   \n",
       "2360 WILSON AVE, Port Coquitlam, BC, Canada        49.260628 -122.784202   \n",
       "2378 WILSON AVE, Port Coquitlam, BC, Canada        49.260613 -122.784806   \n",
       "2439 WILSON AVE, Port Coquitlam, BC, Canada        49.261071 -122.785871   \n",
       "2484 WILSON AVE, Port Coquitlam, BC, Canada        49.260594 -122.787508   \n",
       "\n",
       "                                                   gridX  gridY     grid  \n",
       "1251 CONFEDERATION DR, Port Coquitlam, BC, Canada      6     10   [6,10]  \n",
       "1212 DEWAR WAY, Port Coquitlam, BC, Canada             4      7    [4,7]  \n",
       "2442 KENSINGTON CRES, Port Coquitlam, BC, Canada       9      8    [9,8]  \n",
       "2645 KLASSEN CRT, Port Coquitlam, BC, Canada           5     11   [5,11]  \n",
       "1465 MORRISON ST, Port Coquitlam, BC, Canada          19     14  [19,14]  \n",
       "...                                                  ...    ...      ...  \n",
       "2330 WILSON AVE, Port Coquitlam, BC, Canada            7     34   [7,34]  \n",
       "2360 WILSON AVE, Port Coquitlam, BC, Canada            6     34   [6,34]  \n",
       "2378 WILSON AVE, Port Coquitlam, BC, Canada            6     34   [6,34]  \n",
       "2439 WILSON AVE, Port Coquitlam, BC, Canada            5     34   [5,34]  \n",
       "2484 WILSON AVE, Port Coquitlam, BC, Canada            4     34   [4,34]  \n",
       "\n",
       "[10217 rows x 5 columns]"
      ]
     },
     "execution_count": 38,
     "metadata": {},
     "output_type": "execute_result"
    }
   ],
   "source": [
    "df"
   ]
  },
  {
   "cell_type": "code",
   "execution_count": 15,
   "id": "pretty-calgary",
   "metadata": {},
   "outputs": [],
   "source": [
    "for inx,arr in df.iterrows():\n",
    "    checklist = None\n",
    "    checklist = regular_case(arr['gridX'],arr['gridY'],20)\n",
    "    if checklist == None:\n",
    "        checklist = edge_case(arr['gridX'],arr['gridY'],20)\n",
    "    if checklist == None:\n",
    "        checklist = corner_case(arr['gridX'],arr['gridY'],20)\n",
    "        \n",
    "    df.loc[inx,'checklist'] = [checklist]"
   ]
  },
  {
   "cell_type": "markdown",
   "id": "preliminary-hierarchy",
   "metadata": {},
   "source": [
    "### Now have a list of grids to search for each house"
   ]
  },
  {
   "cell_type": "code",
   "execution_count": null,
   "id": "loaded-ocean",
   "metadata": {
    "pycharm": {
     "is_executing": true
    }
   },
   "outputs": [],
   "source": [
    "count = 0\n",
    "for inx,arr in df.iterrows():\n",
    "    housesToHit = []\n",
    "    for grid in arr['checklist']:\n",
    "        xinx = grid[0] == df['gridX']\n",
    "        yinx = grid[1] == df['gridY']\n",
    "        housesToHit.append(df.loc[xinx&yinx].index.to_list())\n",
    "        \n",
    "    flat_list = [item for sublist in housesToHit for item in sublist] \n",
    "    count = count + len(flat_list)\n",
    "    \n",
    "        \n",
    "        "
   ]
  },
  {
   "cell_type": "code",
   "execution_count": null,
   "id": "reliable-cleaning",
   "metadata": {
    "pycharm": {
     "is_executing": true
    }
   },
   "outputs": [],
   "source": []
  },
  {
   "cell_type": "markdown",
   "id": "beneficial-investing",
   "metadata": {},
   "source": [
    "## Create csv file with rows that correspond to each request that needs to be made\n",
    "### i.e. each row is a pair of addresses that are being queried \n"
   ]
  },
  {
   "cell_type": "code",
   "execution_count": null,
   "id": "rising-connection",
   "metadata": {
    "pycharm": {
     "is_executing": true
    }
   },
   "outputs": [],
   "source": [
    "count = 0\n",
    "startHouses = []\n",
    "endHouses = []\n",
    "\n",
    "for inx,arr in df.iterrows():\n",
    "    if count%500 == 0:\n",
    "        print(count)\n",
    "    housesToHit = []\n",
    "    for grid in arr['checklist']:\n",
    "        xinx = grid[0] == df['gridX']\n",
    "        yinx = grid[1] == df['gridY']\n",
    "        housesToHit.append(df.loc[xinx&yinx].index.to_list())\n",
    "    \n",
    "    endHousesToAdd = [item for sublist in housesToHit for item in sublist]\n",
    "    endHousesToAdd.remove(inx)\n",
    "\n",
    "    endHousesToAdd = [x for x in endHousesToAdd if x not in set(startHouses)]\n",
    "    \n",
    "    startHouses.extend([inx]*len(endHousesToAdd))\n",
    "    endHouses.extend(endHousesToAdd)\n",
    "    \n",
    "    count += 1\n",
    "#     if count == 1000:\n",
    "#         break"
   ]
  },
  {
   "cell_type": "code",
   "execution_count": null,
   "id": "instructional-klein",
   "metadata": {
    "pycharm": {
     "is_executing": true
    }
   },
   "outputs": [],
   "source": [
    "data = {'startHouses' : startHouses, 'endHouses': endHouses}"
   ]
  },
  {
   "cell_type": "code",
   "execution_count": null,
   "id": "several-partition",
   "metadata": {
    "pycharm": {
     "is_executing": true
    }
   },
   "outputs": [],
   "source": [
    "temp = pd.DataFrame(data=data)"
   ]
  },
  {
   "cell_type": "code",
   "execution_count": null,
   "id": "permanent-daisy",
   "metadata": {
    "pycharm": {
     "is_executing": true
    }
   },
   "outputs": [],
   "source": [
    "temp"
   ]
  },
  {
   "cell_type": "code",
   "execution_count": null,
   "id": "entire-stroke",
   "metadata": {
    "pycharm": {
     "is_executing": true
    }
   },
   "outputs": [],
   "source": [
    "temp.to_csv('C:/Users/Aidan/OneDrive - Simon Fraser University (1sfu)/Garbage Route Optimization/Queries/oldAndNewQueries.csv')"
   ]
  },
  {
   "cell_type": "code",
   "execution_count": 26,
   "id": "executive-declaration",
   "metadata": {},
   "outputs": [],
   "source": [
    "temp = temp[(temp['endHouses'].isin(extra.index)) | (temp['startHouses'].isin(extra.index))]"
   ]
  },
  {
   "cell_type": "code",
   "execution_count": 27,
   "id": "traditional-advertiser",
   "metadata": {},
   "outputs": [],
   "source": [
    "temp.to_csv('C:/Users/Aidan/OneDrive - Simon Fraser University (1sfu)/Garbage Route Optimization/Queries/additionalQueries.csv')"
   ]
  },
  {
   "cell_type": "code",
   "execution_count": 39,
   "id": "joined-peninsula",
   "metadata": {
    "pycharm": {
     "is_executing": true
    }
   },
   "outputs": [],
   "source": [
    "groups = df.groupby('grid')"
   ]
  },
  {
   "cell_type": "code",
   "execution_count": 40,
   "id": "attractive-bradley",
   "metadata": {
    "pycharm": {
     "is_executing": true
    }
   },
   "outputs": [
    {
     "data": {
      "text/html": [
       "<div>\n",
       "<style scoped>\n",
       "    .dataframe tbody tr th:only-of-type {\n",
       "        vertical-align: middle;\n",
       "    }\n",
       "\n",
       "    .dataframe tbody tr th {\n",
       "        vertical-align: top;\n",
       "    }\n",
       "\n",
       "    .dataframe thead th {\n",
       "        text-align: right;\n",
       "    }\n",
       "</style>\n",
       "<table border=\"1\" class=\"dataframe\">\n",
       "  <thead>\n",
       "    <tr style=\"text-align: right;\">\n",
       "      <th></th>\n",
       "      <th>lat</th>\n",
       "      <th>long</th>\n",
       "      <th>gridX</th>\n",
       "      <th>gridY</th>\n",
       "      <th>grid</th>\n",
       "    </tr>\n",
       "  </thead>\n",
       "  <tbody>\n",
       "    <tr>\n",
       "      <th>1251 CONFEDERATION DR, Port Coquitlam, BC, Canada</th>\n",
       "      <td>49.237803</td>\n",
       "      <td>-122.784035</td>\n",
       "      <td>6</td>\n",
       "      <td>10</td>\n",
       "      <td>[6,10]</td>\n",
       "    </tr>\n",
       "    <tr>\n",
       "      <th>1212 DEWAR WAY, Port Coquitlam, BC, Canada</th>\n",
       "      <td>49.235443</td>\n",
       "      <td>-122.787270</td>\n",
       "      <td>4</td>\n",
       "      <td>7</td>\n",
       "      <td>[4,7]</td>\n",
       "    </tr>\n",
       "    <tr>\n",
       "      <th>2442 KENSINGTON CRES, Port Coquitlam, BC, Canada</th>\n",
       "      <td>49.235915</td>\n",
       "      <td>-122.780643</td>\n",
       "      <td>9</td>\n",
       "      <td>8</td>\n",
       "      <td>[9,8]</td>\n",
       "    </tr>\n",
       "    <tr>\n",
       "      <th>2645 KLASSEN CRT, Port Coquitlam, BC, Canada</th>\n",
       "      <td>49.238425</td>\n",
       "      <td>-122.785899</td>\n",
       "      <td>5</td>\n",
       "      <td>11</td>\n",
       "      <td>[5,11]</td>\n",
       "    </tr>\n",
       "    <tr>\n",
       "      <th>1465 MORRISON ST, Port Coquitlam, BC, Canada</th>\n",
       "      <td>49.241679</td>\n",
       "      <td>-122.767825</td>\n",
       "      <td>19</td>\n",
       "      <td>14</td>\n",
       "      <td>[19,14]</td>\n",
       "    </tr>\n",
       "    <tr>\n",
       "      <th>...</th>\n",
       "      <td>...</td>\n",
       "      <td>...</td>\n",
       "      <td>...</td>\n",
       "      <td>...</td>\n",
       "      <td>...</td>\n",
       "    </tr>\n",
       "    <tr>\n",
       "      <th>2330 WILSON AVE, Port Coquitlam, BC, Canada</th>\n",
       "      <td>49.260651</td>\n",
       "      <td>-122.783297</td>\n",
       "      <td>7</td>\n",
       "      <td>34</td>\n",
       "      <td>[7,34]</td>\n",
       "    </tr>\n",
       "    <tr>\n",
       "      <th>2360 WILSON AVE, Port Coquitlam, BC, Canada</th>\n",
       "      <td>49.260628</td>\n",
       "      <td>-122.784202</td>\n",
       "      <td>6</td>\n",
       "      <td>34</td>\n",
       "      <td>[6,34]</td>\n",
       "    </tr>\n",
       "    <tr>\n",
       "      <th>2378 WILSON AVE, Port Coquitlam, BC, Canada</th>\n",
       "      <td>49.260613</td>\n",
       "      <td>-122.784806</td>\n",
       "      <td>6</td>\n",
       "      <td>34</td>\n",
       "      <td>[6,34]</td>\n",
       "    </tr>\n",
       "    <tr>\n",
       "      <th>2439 WILSON AVE, Port Coquitlam, BC, Canada</th>\n",
       "      <td>49.261071</td>\n",
       "      <td>-122.785871</td>\n",
       "      <td>5</td>\n",
       "      <td>34</td>\n",
       "      <td>[5,34]</td>\n",
       "    </tr>\n",
       "    <tr>\n",
       "      <th>2484 WILSON AVE, Port Coquitlam, BC, Canada</th>\n",
       "      <td>49.260594</td>\n",
       "      <td>-122.787508</td>\n",
       "      <td>4</td>\n",
       "      <td>34</td>\n",
       "      <td>[4,34]</td>\n",
       "    </tr>\n",
       "  </tbody>\n",
       "</table>\n",
       "<p>10217 rows × 5 columns</p>\n",
       "</div>"
      ],
      "text/plain": [
       "                                                         lat        long  \\\n",
       "1251 CONFEDERATION DR, Port Coquitlam, BC, Canada  49.237803 -122.784035   \n",
       "1212 DEWAR WAY, Port Coquitlam, BC, Canada         49.235443 -122.787270   \n",
       "2442 KENSINGTON CRES, Port Coquitlam, BC, Canada   49.235915 -122.780643   \n",
       "2645 KLASSEN CRT, Port Coquitlam, BC, Canada       49.238425 -122.785899   \n",
       "1465 MORRISON ST, Port Coquitlam, BC, Canada       49.241679 -122.767825   \n",
       "...                                                      ...         ...   \n",
       "2330 WILSON AVE, Port Coquitlam, BC, Canada        49.260651 -122.783297   \n",
       "2360 WILSON AVE, Port Coquitlam, BC, Canada        49.260628 -122.784202   \n",
       "2378 WILSON AVE, Port Coquitlam, BC, Canada        49.260613 -122.784806   \n",
       "2439 WILSON AVE, Port Coquitlam, BC, Canada        49.261071 -122.785871   \n",
       "2484 WILSON AVE, Port Coquitlam, BC, Canada        49.260594 -122.787508   \n",
       "\n",
       "                                                   gridX  gridY     grid  \n",
       "1251 CONFEDERATION DR, Port Coquitlam, BC, Canada      6     10   [6,10]  \n",
       "1212 DEWAR WAY, Port Coquitlam, BC, Canada             4      7    [4,7]  \n",
       "2442 KENSINGTON CRES, Port Coquitlam, BC, Canada       9      8    [9,8]  \n",
       "2645 KLASSEN CRT, Port Coquitlam, BC, Canada           5     11   [5,11]  \n",
       "1465 MORRISON ST, Port Coquitlam, BC, Canada          19     14  [19,14]  \n",
       "...                                                  ...    ...      ...  \n",
       "2330 WILSON AVE, Port Coquitlam, BC, Canada            7     34   [7,34]  \n",
       "2360 WILSON AVE, Port Coquitlam, BC, Canada            6     34   [6,34]  \n",
       "2378 WILSON AVE, Port Coquitlam, BC, Canada            6     34   [6,34]  \n",
       "2439 WILSON AVE, Port Coquitlam, BC, Canada            5     34   [5,34]  \n",
       "2484 WILSON AVE, Port Coquitlam, BC, Canada            4     34   [4,34]  \n",
       "\n",
       "[10217 rows x 5 columns]"
      ]
     },
     "execution_count": 40,
     "metadata": {},
     "output_type": "execute_result"
    }
   ],
   "source": [
    "df"
   ]
  },
  {
   "cell_type": "code",
   "execution_count": null,
   "id": "bulgarian-height",
   "metadata": {
    "pycharm": {
     "is_executing": true
    }
   },
   "outputs": [],
   "source": [
    "df.to_csv('grids.csv')"
   ]
  },
  {
   "cell_type": "code",
   "execution_count": 56,
   "id": "egyptian-dressing",
   "metadata": {},
   "outputs": [],
   "source": [
    "new = df[df.index.isin(extra.index)]\n",
    "old = df[~df.index.isin(extra.index)]"
   ]
  },
  {
   "cell_type": "code",
   "execution_count": null,
   "id": "daily-stuff",
   "metadata": {},
   "outputs": [],
   "source": []
  },
  {
   "cell_type": "code",
   "execution_count": 62,
   "id": "brave-expression",
   "metadata": {
    "pycharm": {
     "is_executing": true
    },
    "scrolled": true
   },
   "outputs": [
    {
     "data": {
      "image/png": "[encoded data removed]",
      "text/plain": [
       "<Figure size 1008x1008 with 1 Axes>"
      ]
     },
     "metadata": {
      "needs_background": "light"
     },
     "output_type": "display_data"
    }
   ],
   "source": [
    "oldGroups = old.groupby('grid')\n",
    "newGroups = new.groupby('grid')\n",
    "\n",
    "# Plot\n",
    "\n",
    "fig, ax = plt.subplots(figsize=(14,14))\n",
    "ax.margins(0.05) # Optional, just adds 5% padding to the autoscaling\n",
    "for name, group in oldGroups:\n",
    "    ax.plot(group.gridX, group.gridY, marker='o', linestyle='', ms=2, label=name, c='red')\n",
    "\n",
    "\n",
    "plt.figtext(.5,.9,'Poco Clustered into 225 groups', fontsize=18, ha='center')\n",
    "plt.figtext(.2,.85,'Colors are reused because I ran out of colors, grids are square though'+\n",
    "            'so it should be clear which grid contains what')\n",
    "\n",
    "plt.grid()\n",
    "# Show the minor grid lines with very faint and almost transparent grey lines\n",
    "plt.minorticks_on()\n",
    "plt.grid(b=True, which='minor', color='#999999', linestyle='-', alpha=0.2)\n",
    "\n",
    "ax.xaxis.set_minor_locator(plt.MultipleLocator(1))\n",
    "ax.yaxis.set_minor_locator(plt.MultipleLocator(1))\n",
    "\n",
    "for name, group in newGroups:\n",
    "    ax.plot(group.gridX, group.gridY, marker='o', linestyle='', ms=2, label=name,c='black')\n",
    "\n",
    "plt.show()"
   ]
  },
  {
   "cell_type": "code",
   "execution_count": null,
   "id": "accessible-burning",
   "metadata": {
    "pycharm": {
     "is_executing": true
    }
   },
   "outputs": [],
   "source": [
    "plt.savefig('books_read.png')"
   ]
  },
  {
   "cell_type": "markdown",
   "id": "nasty-glass",
   "metadata": {},
   "source": [
    "## A plot showing the different groups in Poco ~ doesn't work as written anymore, so don't run or you'll lose the nice pictures"
   ]
  },
  {
   "cell_type": "code",
   "execution_count": null,
   "id": "accessible-situation",
   "metadata": {
    "pycharm": {
     "is_executing": true
    }
   },
   "outputs": [],
   "source": [
    "groups = test_df.groupby('assigned_grid')\n",
    "\n",
    "# Plot\n",
    "\n",
    "fig, ax = plt.subplots(figsize=(14,14))\n",
    "ax.margins(0.05) # Optional, just adds 5% padding to the autoscaling\n",
    "for name, group in groups:\n",
    "    ax.plot(group.long, group.lat, marker='o', linestyle='', ms=2, label=name)\n",
    "\n",
    "\n",
    "plt.figtext(.5,.9,'Poco Clustered into 225 groups', fontsize=18, ha='center')\n",
    "plt.figtext(.2,.85,'Colors are reused because I ran out of colors, grids are square though'+\n",
    "            'so it should be clear which grid contains what')\n",
    "plt.show()"
   ]
  },
  {
   "cell_type": "code",
   "execution_count": null,
   "id": "curious-kernel",
   "metadata": {
    "pycharm": {
     "is_executing": true
    }
   },
   "outputs": [],
   "source": [
    "plt.figure(num=1,figsize=(14,14))\n",
    "plt.plot(df['long'],df['lat'], 'o',markersize=1)\n",
    "plt.xticks(xgrids)\n",
    "plt.yticks(ygrids)\n",
    "plt.plot(test_df.loc['4091 LIVERPOOL ST, Port Coquitlam, BC, Canada', 'long'], \n",
    "         df.loc['4091 LIVERPOOL ST, Port Coquitlam, BC, Canada','lat'],'or',markersize=10)\n",
    "\n",
    "plt.plot(test_df.loc['690 PRAIRIE AVE, Port Coquitlam, BC, Canada', 'long'], \n",
    "         df.loc['4091 LIVERPOOL ST, Port Coquitlam, BC, Canada','lat'],'or',markersize=10)\n",
    "plt.show()\n"
   ]
  },
  {
   "cell_type": "code",
   "execution_count": null,
   "id": "protecting-volleyball",
   "metadata": {
    "pycharm": {
     "is_executing": true
    }
   },
   "outputs": [],
   "source": []
  }
 ],
 "metadata": {
  "kernelspec": {
   "display_name": "Python 3",
   "language": "python",
   "name": "python3"
  },
  "language_info": {
   "codemirror_mode": {
    "name": "ipython",
    "version": 3
   },
   "file_extension": ".py",
   "mimetype": "text/x-python",
   "name": "python",
   "nbconvert_exporter": "python",
   "pygments_lexer": "ipython3",
   "version": "3.8.5"
  }
 },
 "nbformat": 4,
 "nbformat_minor": 5
}
