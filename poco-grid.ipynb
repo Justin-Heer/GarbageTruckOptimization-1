{
 "cells": [
  {
   "cell_type": "markdown",
   "id": "periodic-shift",
   "metadata": {},
   "source": [
    "## Edge cases need to be fixed for grid assignment"
   ]
  },
  {
   "cell_type": "code",
   "execution_count": 1,
   "id": "returning-playback",
   "metadata": {},
   "outputs": [],
   "source": [
    "import pandas as pd\n",
    "%config Completer.use_jedi = False\n",
    "from matplotlib import pyplot as plt\n",
    "import numpy as np"
   ]
  },
  {
   "cell_type": "code",
   "execution_count": 2,
   "id": "anonymous-sense",
   "metadata": {},
   "outputs": [],
   "source": [
    "def assign_grids(df, n_grids=10):\n",
    "    '''\n",
    "    creates an n_grids x n_grids grid and assigns each home in df to its correct grid. \n",
    "    Inclusive lower boundary, exclusive upper boundary when calculating grid limits\n",
    "    \n",
    "    note: n_grids = 10 will return 100 unique grid points, so it will create 11x11 lines in order to \n",
    "    return a 10x10 grid\n",
    "    \n",
    "    input\n",
    "    \n",
    "    df: should be a pandas DataFrame with addresses, longitude and lattitude values\n",
    "    n_grids: the number of grids on 1 side of the final desired grid (n x n)\n",
    "    \n",
    "    returns the input dataframe with the added 'assigned_grid' column\n",
    "    '''\n",
    "    \n",
    "    \n",
    "    # create -1 column which will be filled\n",
    "    df['gridX'] = -1\n",
    "    df['gridY'] = -1 \n",
    "\n",
    "    # create grid arrays\n",
    "    xgrids = np.linspace(df['long'].min(), df['long'].max(),n_grids+1)\n",
    "    ygrids = np.linspace(df['lat'].min(), df['lat'].max(),n_grids+1)\n",
    "\n",
    "    #old method, may be deleted soon\n",
    "#     # loop over each grid, check which houses are in the grid, then assign grid value\n",
    "#     for xinx,xgrid in enumerate(xgrids[:-1]):\n",
    "#         for yinx,ygrid in enumerate(ygrids[:-1]):\n",
    "#             bool1 = (df['long'] >= xgrid) & (df['long'] < xgrids[xinx+1])\n",
    "#             bool2 = (df['lat'] >= ygrid) & (df['lat'] < ygrids[yinx+1])\n",
    "#             bool3 = bool1 & bool2\n",
    "\n",
    "#             # Uncomment this next line when testing different grids, prints sequential grid numbers\n",
    "# #             print(xinx*(xgrids.shape[0]-1) + yinx)\n",
    "\n",
    "#             df.loc[bool3, 'gridX'] = xinx \n",
    "#             df.loc[bool3, 'gridY'] = yinx\n",
    "        \n",
    "    for xinx, xgrid in enumerate(xgrids[:-1]):\n",
    "        bool1 = (df['long'] >= xgrid) & (df['long'] < xgrids[xinx+1])\n",
    "        df.loc[bool1, 'gridX'] = xinx\n",
    "    for yinx, ygrid in enumerate(ygrids[:-1]):\n",
    "        bool1 = (df['lat'] >= ygrid) & (df['lat'] < ygrids[yinx+1])\n",
    "        df.loc[bool1, 'gridY'] = yinx\n",
    "    \n",
    "    # assigns string column for easy human viewing \n",
    "    df['grid'] = \"[\"+df['gridX'].astype(str) + \",\" + df['gridY'].astype(str) +\"]\"\n",
    "    return df"
   ]
  },
  {
   "cell_type": "code",
   "execution_count": 3,
   "id": "statewide-current",
   "metadata": {},
   "outputs": [],
   "source": [
    "df = pd.read_csv('poco-extract-long-lat.csv',index_col=0)\n",
    "\n",
    "inx = df.loc['NO ADDRESS, Port Coquitlam, BC, Canada',:].index\n",
    "df.drop(inx, inplace=True)"
   ]
  },
  {
   "cell_type": "code",
   "execution_count": 4,
   "id": "sharing-looking",
   "metadata": {},
   "outputs": [],
   "source": [
    "df = assign_grids(df,10)"
   ]
  },
  {
   "cell_type": "markdown",
   "id": "adjacent-output",
   "metadata": {},
   "source": [
    "## Check for unassigned values"
   ]
  },
  {
   "cell_type": "code",
   "execution_count": 5,
   "id": "rolled-premiere",
   "metadata": {},
   "outputs": [
    {
     "data": {
      "text/plain": "                                                     lat        long  gridX  \\\n690 PRAIRIE AVE, Port Coquitlam, BC, Canada    49.270666 -122.732972     -1   \n4091 LIVERPOOL ST, Port Coquitlam, BC, Canada  49.285671 -122.760585      5   \n\n                                               gridY    grid  \n690 PRAIRIE AVE, Port Coquitlam, BC, Canada        7  [-1,7]  \n4091 LIVERPOOL ST, Port Coquitlam, BC, Canada     -1  [5,-1]  ",
      "text/html": "<div>\n<style scoped>\n    .dataframe tbody tr th:only-of-type {\n        vertical-align: middle;\n    }\n\n    .dataframe tbody tr th {\n        vertical-align: top;\n    }\n\n    .dataframe thead th {\n        text-align: right;\n    }\n</style>\n<table border=\"1\" class=\"dataframe\">\n  <thead>\n    <tr style=\"text-align: right;\">\n      <th></th>\n      <th>lat</th>\n      <th>long</th>\n      <th>gridX</th>\n      <th>gridY</th>\n      <th>grid</th>\n    </tr>\n  </thead>\n  <tbody>\n    <tr>\n      <th>690 PRAIRIE AVE, Port Coquitlam, BC, Canada</th>\n      <td>49.270666</td>\n      <td>-122.732972</td>\n      <td>-1</td>\n      <td>7</td>\n      <td>[-1,7]</td>\n    </tr>\n    <tr>\n      <th>4091 LIVERPOOL ST, Port Coquitlam, BC, Canada</th>\n      <td>49.285671</td>\n      <td>-122.760585</td>\n      <td>5</td>\n      <td>-1</td>\n      <td>[5,-1]</td>\n    </tr>\n  </tbody>\n</table>\n</div>"
     },
     "execution_count": 5,
     "metadata": {},
     "output_type": "execute_result"
    }
   ],
   "source": [
    "inx1 = df['gridX'] == -1\n",
    "inx2 = df['gridY'] == -1\n",
    "df[inx1|inx2]"
   ]
  },
  {
   "cell_type": "markdown",
   "id": "brief-henry",
   "metadata": {},
   "source": [
    "### Experimenting with a non string replacement for grid column"
   ]
  },
  {
   "cell_type": "code",
   "execution_count": 6,
   "id": "acknowledged-prophet",
   "metadata": {},
   "outputs": [
    {
     "data": {
      "text/plain": "array([[1, 1],\n       [0, 1],\n       [2, 1],\n       ...,\n       [2, 7],\n       [1, 8],\n       [2, 8]], dtype=int64)"
     },
     "execution_count": 6,
     "metadata": {},
     "output_type": "execute_result"
    }
   ],
   "source": [
    "np.dstack((df['gridX'].values,df['gridY'].values))[0]"
   ]
  },
  {
   "cell_type": "markdown",
   "id": "african-spectrum",
   "metadata": {},
   "source": [
    "### now trying to write something to count queries"
   ]
  },
  {
   "cell_type": "code",
   "execution_count": 7,
   "id": "boring-funds",
   "metadata": {},
   "outputs": [],
   "source": [
    "def corner_case(gridX, gridY,grid_n):\n",
    "    if (gridX == 0) & (gridY == 0) :\n",
    "        checklist = [[0, 0], [0, 1], [1, 0], [1, 1]]\n",
    "        \n",
    "    elif (gridX == 0) & (gridY == grid_n):\n",
    "        checklist = [[0, grid_n], [1, grid_n], [0, grid_n-1], [1, grid_n-1]]\n",
    "        \n",
    "    elif (gridX == grid_n) & (gridY == 0):\n",
    "        checklist = [[grid_n, 0], [grid_n, 1], [grid_n-1,0], [grid_n-1, 1]]\n",
    "        \n",
    "    elif (gridX == grid_n) & (gridY == grid_n):\n",
    "        checklist = [[grid_n, grid_n], [grid_n, grid_n-1], [grid_n-1, grid_n], [grid_n-1, grid_n-1]]\n",
    "        \n",
    "    return checklist\n",
    "\n",
    "def edge_case(gridX, gridY, grid_n):\n",
    "    if gridY == 0:\n",
    "        if gridX not in [0,grid_n]:\n",
    "            checklist = [[gridX, gridY], [gridX-1, gridY], [gridX+1, gridY], [gridX, gridY+1], [gridX-1, gridY+1],\n",
    "                         [gridX+1, gridY+1]]\n",
    "    elif gridY == grid_n:\n",
    "        if gridX not in [0,grid_n]:\n",
    "            checklist = [[gridX, gridY], [gridX-1, gridY], [gridX+1, gridY], [gridX, gridY-1], [gridX-1, gridY-1],\n",
    "                         [gridX+1, gridY-1]]\n",
    "    elif gridX == 0:\n",
    "        if gridY not in [0, grid_n]:\n",
    "            checklist = [[gridX, gridY], [gridX, gridY-1], [gridX, gridY+1], [gridX+1, gridY], [gridX+1, gridY+1],\n",
    "                         [gridX+1, gridY-1]]\n",
    "    elif gridX == grid_n:\n",
    "        if gridY not in [0, grid_n]:\n",
    "            checklist = [[gridX, gridY], [gridX, gridY-1], [gridX, gridY+1], [gridX-1, gridY], [gridX-1, gridY+1],\n",
    "                         [gridX-1, gridY-1]]\n",
    "    return checklist\n",
    "\n",
    "def regular_case(gridX, gridY, grid_n):\n",
    "    checklist = [[gridX, gridY], [gridX-1, gridY], [gridX+1, gridY], [gridX, gridY+1], [gridX, gridY-1], \n",
    "                 [gridX-1, gridY-1], [gridX-1, gridY+1], [gridX+1, gridY-1], [gridX+1, gridY+1]]\n",
    "    return checklist"
   ]
  },
  {
   "cell_type": "code",
   "execution_count": 8,
   "id": "happy-recovery",
   "metadata": {},
   "outputs": [],
   "source": [
    "df['checklist'] = np.nan\n",
    "df['checklist'] = df['checklist'].astype('object')"
   ]
  },
  {
   "cell_type": "code",
   "execution_count": 9,
   "id": "mexican-fraud",
   "metadata": {},
   "outputs": [],
   "source": [
    "for inx,arr in df.iterrows():\n",
    "    checklist = None\n",
    "    checklist = regular_case(arr['gridX'],arr['gridY'],10)\n",
    "    if checklist == None:\n",
    "        checklist = edge_case(arr['gridX'],arr['gridY'],10)\n",
    "    if checklist == None:\n",
    "        checklist = corner_case(arr['gridX'],arr['gridY'],10)\n",
    "    \n",
    "    df.loc[inx,'checklist'] = [checklist]"
   ]
  },
  {
   "cell_type": "markdown",
   "id": "retained-frost",
   "metadata": {},
   "source": [
    "### Now have a list of grids to search for each house"
   ]
  },
  {
   "cell_type": "code",
   "execution_count": 9,
   "id": "previous-darwin",
   "metadata": {},
   "outputs": [],
   "source": []
  },
  {
   "cell_type": "markdown",
   "id": "behind-catering",
   "metadata": {},
   "source": [
    "## A plot showing the different groups in Poco ~ doesn't work as written anymore, so don't run or you'll lose the nice pictures"
   ]
  },
  {
   "cell_type": "code",
   "execution_count": 9,
   "id": "immediate-academy",
   "metadata": {},
   "outputs": [],
   "source": []
  },
  {
   "cell_type": "code",
   "execution_count": 10,
   "id": "resident-roulette",
   "metadata": {},
   "outputs": [
    {
     "ename": "NameError",
     "evalue": "name 'test_df' is not defined",
     "output_type": "error",
     "traceback": [
      "\u001B[1;31m---------------------------------------------------------------------------\u001B[0m",
      "\u001B[1;31mNameError\u001B[0m                                 Traceback (most recent call last)",
      "\u001B[1;32m<ipython-input-10-d300b19f301d>\u001B[0m in \u001B[0;36m<module>\u001B[1;34m\u001B[0m\n\u001B[1;32m----> 1\u001B[1;33m \u001B[0mgroups\u001B[0m \u001B[1;33m=\u001B[0m \u001B[0mtest_df\u001B[0m\u001B[1;33m.\u001B[0m\u001B[0mgroupby\u001B[0m\u001B[1;33m(\u001B[0m\u001B[1;34m'assigned_grid'\u001B[0m\u001B[1;33m)\u001B[0m\u001B[1;33m\u001B[0m\u001B[1;33m\u001B[0m\u001B[0m\n\u001B[0m\u001B[0;32m      2\u001B[0m \u001B[1;33m\u001B[0m\u001B[0m\n\u001B[0;32m      3\u001B[0m \u001B[1;31m# Plot\u001B[0m\u001B[1;33m\u001B[0m\u001B[1;33m\u001B[0m\u001B[1;33m\u001B[0m\u001B[0m\n\u001B[0;32m      4\u001B[0m \u001B[1;33m\u001B[0m\u001B[0m\n\u001B[0;32m      5\u001B[0m \u001B[0mfig\u001B[0m\u001B[1;33m,\u001B[0m \u001B[0max\u001B[0m \u001B[1;33m=\u001B[0m \u001B[0mplt\u001B[0m\u001B[1;33m.\u001B[0m\u001B[0msubplots\u001B[0m\u001B[1;33m(\u001B[0m\u001B[0mfigsize\u001B[0m\u001B[1;33m=\u001B[0m\u001B[1;33m(\u001B[0m\u001B[1;36m14\u001B[0m\u001B[1;33m,\u001B[0m\u001B[1;36m14\u001B[0m\u001B[1;33m)\u001B[0m\u001B[1;33m)\u001B[0m\u001B[1;33m\u001B[0m\u001B[1;33m\u001B[0m\u001B[0m\n",
      "\u001B[1;31mNameError\u001B[0m: name 'test_df' is not defined"
     ]
    }
   ],
   "source": [
    "groups = test_df.groupby('assigned_grid')\n",
    "\n",
    "# Plot\n",
    "\n",
    "fig, ax = plt.subplots(figsize=(14,14))\n",
    "ax.margins(0.05) # Optional, just adds 5% padding to the autoscaling\n",
    "for name, group in groups:\n",
    "    ax.plot(group.long, group.lat, marker='o', linestyle='', ms=2, label=name)\n",
    "\n",
    "\n",
    "plt.figtext(.5,.9,'Poco Clustered into 225 groups', fontsize=18, ha='center')\n",
    "plt.figtext(.2,.85,'Colors are reused because I ran out of colors, grids are square though'+\n",
    "            'so it should be clear which grid contains what')\n",
    "plt.show()"
   ]
  },
  {
   "cell_type": "code",
   "execution_count": null,
   "id": "moved-retreat",
   "metadata": {},
   "outputs": [],
   "source": [
    "plt.figure(num=1,figsize=(14,14))\n",
    "plt.plot(df['long'],df['lat'], 'o',markersize=1)\n",
    "plt.xticks(xgrids)\n",
    "plt.yticks(ygrids)\n",
    "plt.plot(test_df.loc['4091 LIVERPOOL ST, Port Coquitlam, BC, Canada', 'long'], \n",
    "         df.loc['4091 LIVERPOOL ST, Port Coquitlam, BC, Canada','lat'],'or',markersize=10)\n",
    "\n",
    "plt.plot(test_df.loc['690 PRAIRIE AVE, Port Coquitlam, BC, Canada', 'long'], \n",
    "         df.loc['4091 LIVERPOOL ST, Port Coquitlam, BC, Canada','lat'],'or',markersize=10)\n",
    "plt.show()\n"
   ]
  },
  {
   "cell_type": "code",
   "execution_count": null,
   "id": "outstanding-journal",
   "metadata": {},
   "outputs": [],
   "source": []
  }
 ],
 "metadata": {
  "kernelspec": {
   "display_name": "Python 3",
   "language": "python",
   "name": "python3"
  },
  "language_info": {
   "codemirror_mode": {
    "name": "ipython",
    "version": 3
   },
   "file_extension": ".py",
   "mimetype": "text/x-python",
   "name": "python",
   "nbconvert_exporter": "python",
   "pygments_lexer": "ipython3",
   "version": "3.7.9"
  }
 },
 "nbformat": 4,
 "nbformat_minor": 5
}