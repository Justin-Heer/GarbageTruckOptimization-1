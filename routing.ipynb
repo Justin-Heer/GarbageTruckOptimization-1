{
 "cells": [
  {
   "cell_type": "code",
   "execution_count": 1,
   "id": "mediterranean-event",
   "metadata": {
    "pycharm": {
     "is_executing": true
    }
   },
   "outputs": [],
   "source": [
    "import pandas as pd\n",
    "import numpy as np\n",
    "import time"
   ]
  },
  {
   "cell_type": "code",
   "execution_count": 2,
   "id": "western-seven",
   "metadata": {
    "pycharm": {
     "is_executing": true
    }
   },
   "outputs": [],
   "source": [
    "timeMatrix = pd.read_csv('C:/Users/Aidan/OneDrive - Simon Fraser University (1sfu)/Garbage Route Optimization/timeMatrixInflated.csv', index_col=0)"
   ]
  },
  {
   "cell_type": "code",
   "execution_count": 74,
   "id": "divided-daniel",
   "metadata": {
    "pycharm": {
     "is_executing": true
    }
   },
   "outputs": [],
   "source": [
    "zones = pd.read_csv('C:/Users/Aidan/OneDrive - Simon Fraser University (1sfu)/Garbage Route Optimization/poco-allzones.csv', index_col=0)\n",
    "zones.index = zones.index + ', Port Coquitlam, BC, Canada'"
   ]
  },
  {
   "cell_type": "code",
   "execution_count": 75,
   "id": "broadband-yukon",
   "metadata": {
    "pycharm": {
     "is_executing": true
    }
   },
   "outputs": [],
   "source": [
    "zones = zones[(zones['Garbage Zone'] == 1)]"
   ]
  },
  {
   "cell_type": "code",
   "execution_count": 76,
   "id": "entertaining-redhead",
   "metadata": {
    "pycharm": {
     "is_executing": true
    }
   },
   "outputs": [],
   "source": [
    "row = pd.Series({'Garbage Zone':1.0},name='1737 Broadway St Port Coquitlam, BC, Canada')"
   ]
  },
  {
   "cell_type": "code",
   "execution_count": 77,
   "id": "regional-license",
   "metadata": {
    "pycharm": {
     "is_executing": true
    }
   },
   "outputs": [],
   "source": [
    "zones = zones.append(row)"
   ]
  },
  {
   "cell_type": "code",
   "execution_count": 78,
   "id": "amended-white",
   "metadata": {
    "pycharm": {
     "is_executing": true
    }
   },
   "outputs": [],
   "source": [
    "timeMatrixFiltered = timeMatrix.iloc[timeMatrix.index.isin(zones.index),timeMatrix.index.isin(zones.index)]"
   ]
  },
  {
   "cell_type": "code",
   "execution_count": 79,
   "id": "verified-affairs",
   "metadata": {
    "pycharm": {
     "is_executing": true
    }
   },
   "outputs": [],
   "source": [
    "# elements = list(range(0,len(timeMatrixFiltered)))\n",
    "elements = list(range(0,16))\n",
    "elements.append(1952)"
   ]
  },
  {
   "cell_type": "code",
   "execution_count": 80,
   "id": "designing-beaver",
   "metadata": {
    "pycharm": {
     "is_executing": true
    }
   },
   "outputs": [],
   "source": [
    "timeMatrixFiltered = timeMatrixFiltered.iloc[elements,elements]"
   ]
  },
  {
   "cell_type": "code",
   "execution_count": 81,
   "id": "restricted-stocks",
   "metadata": {
    "pycharm": {
     "is_executing": true
    }
   },
   "outputs": [
    {
     "data": {
      "text/plain": [
       "16"
      ]
     },
     "execution_count": 81,
     "metadata": {},
     "output_type": "execute_result"
    }
   ],
   "source": [
    "np.where(timeMatrixFiltered.index == '1737 Broadway St Port Coquitlam, BC, Canada')[0][0]"
   ]
  },
  {
   "cell_type": "code",
   "execution_count": 82,
   "id": "regional-indonesian",
   "metadata": {
    "pycharm": {
     "is_executing": true
    }
   },
   "outputs": [
    {
     "data": {
      "text/plain": [
       "'1735 LINCOLN AVE, Port Coquitlam, BC, Canada'"
      ]
     },
     "execution_count": 82,
     "metadata": {},
     "output_type": "execute_result"
    }
   ],
   "source": [
    "timeMatrix.index[41]"
   ]
  },
  {
   "cell_type": "code",
   "execution_count": 83,
   "id": "unnecessary-belfast",
   "metadata": {
    "pycharm": {
     "is_executing": true
    }
   },
   "outputs": [],
   "source": [
    "timeWindows = []\n",
    "for i in range(len(timeMatrixFiltered)):\n",
    "    house = timeMatrixFiltered.index[i].split(' ')\n",
    "    street = ' '.join(house[1:-4])\n",
    "    \n",
    " \n",
    "    if street == 'LINCOLN AVE,':\n",
    "        timeWindows.append((0,50000))\n",
    "    else:\n",
    "        timeWindows.append((0,50000))\n",
    "        \n",
    "# timeWindows = []\n",
    "# for i in range(17):\n",
    "#     house = timeMatrixFiltered.index[i].split(' ')\n",
    "#     street = ' '.join(house[1:-4])\n",
    "    \n",
    " \n",
    "#     if street == 'LINCOLN AVE,':\n",
    "#         timeWindows.append((0,30))\n",
    "#     else:\n",
    "#         timeWindows.append((0,50000))"
   ]
  },
  {
   "cell_type": "code",
   "execution_count": 84,
   "id": "blond-bearing",
   "metadata": {},
   "outputs": [
    {
     "data": {
      "text/plain": [
       "17"
      ]
     },
     "execution_count": 84,
     "metadata": {},
     "output_type": "execute_result"
    }
   ],
   "source": [
    "len(timeWindows)"
   ]
  },
  {
   "cell_type": "code",
   "execution_count": 85,
   "id": "federal-light",
   "metadata": {
    "pycharm": {
     "is_executing": true
    }
   },
   "outputs": [
    {
     "data": {
      "text/plain": [
       "(array([16], dtype=int64),)"
      ]
     },
     "execution_count": 85,
     "metadata": {},
     "output_type": "execute_result"
    }
   ],
   "source": [
    "np.where(timeMatrixFiltered.index == '1737 Broadway St Port Coquitlam, BC, Canada')"
   ]
  },
  {
   "cell_type": "code",
   "execution_count": 88,
   "id": "upper-flood",
   "metadata": {},
   "outputs": [
    {
     "name": "stdout",
     "output_type": "stream",
     "text": [
      "Solver status: ROUTING_SUCCESS: Problem solved successfully\n",
      "Route for vehicle 0:\n",
      "16 Time(0,0) -> 15 Time(371,371) -> 5 Time(435,435) -> 7 Time(481,481) -> 0 Time(556,556) -> 10 Time(648,648) -> 13 Time(864,864) -> 9 Time(976,976) -> 6 Time(991,991) -> 1 Time(1107,1107) -> 4 Time(1156,1156) -> 11 Time(1227,1227) -> 2 Time(1309,1309) -> 14 Time(1833,1833) -> 3 Time(2025,2025) -> 12 Time(2181,2181) -> 8 Time(2324,2324) -> 16 Time(2885,2885)\n",
      "Time of the route: 2885min\n",
      "\n",
      "Route for vehicle 1:\n",
      "16 Time(0,0) -> 16 Time(0,0)\n",
      "Time of the route: 0min\n",
      "\n",
      "Route for vehicle 2:\n",
      "16 Time(0,0) -> 16 Time(0,0)\n",
      "Time of the route: 0min\n",
      "\n",
      "Total time of all routes: 2885min\n"
     ]
    }
   ],
   "source": [
    "\"\"\"Vehicles Routing Problem (VRP) with Time Windows.\"\"\"\n",
    "\n",
    "from ortools.constraint_solver import routing_enums_pb2\n",
    "from ortools.constraint_solver import pywrapcp\n",
    "\n",
    "# def create_data_model(timeMatrix, numVehicles, depotLocation, timeWindows):\n",
    "#     \"\"\"Stores the data for the problem.\"\"\"\n",
    "#     data = {'time_matrix': timeMatrix.to_numpy(), \n",
    "#             'num_vehicles': numVehicles, \n",
    "#             'depot': depotLocation, \n",
    "#             'time_windows':timeWindows}\n",
    "#     return data\n",
    "\n",
    "def solver_status(status):\n",
    "    if status == 0:\n",
    "        return 'ROUTING_NOT_SOLVED: Problem not solved yet'\n",
    "    elif status == 1:\n",
    "        return 'ROUTING_SUCCESS: Problem solved successfully'\n",
    "    elif status == 2:\n",
    "        return 'ROUTING_FAIL: No solution found to the problem'\n",
    "    elif status == 3:\n",
    "        return 'ROUTING_FAIL_TIMEOUT: Time limit reached before finding a solution'\n",
    "    elif status == 4:\n",
    "        return 'ROUTING_INVALID: Model, model parameters, or flags are not valid'\n",
    "    else:\n",
    "        return \"Unknown Status\"\n",
    "\n",
    "\n",
    "def create_data_model(timeMatrix, numVehicles, depot, timeWindows):\n",
    "    \"\"\"Stores the data for the problem.\"\"\"\n",
    "    data = {}\n",
    "    data['time_matrix'] = timeMatrix.to_numpy()\n",
    "    data['time_windows'] = timeWindows\n",
    "    data['num_vehicles'] = numVehicles\n",
    "    data['depot'] = depot\n",
    "    return data\n",
    "\n",
    "\n",
    "def print_solution(data, manager, routing, solution):\n",
    "    routes = {}\n",
    "    \"\"\"Prints solution on console.\"\"\"\n",
    "    time_dimension = routing.GetDimensionOrDie('Time')\n",
    "    total_time = 0\n",
    "    for vehicle_id in range(data['num_vehicles']):\n",
    "        routes[vehicle_id] = []\n",
    "        index = routing.Start(vehicle_id)\n",
    "        plan_output = 'Route for vehicle {}:\\n'.format(vehicle_id)\n",
    "        while not routing.IsEnd(index):\n",
    "            routes[vehicle_id].append(manager.IndexToNode(index))\n",
    "            time_var = time_dimension.CumulVar(index)\n",
    "            plan_output += '{0} Time({1},{2}) -> '.format(\n",
    "                manager.IndexToNode(index), solution.Min(time_var),\n",
    "                solution.Max(time_var))\n",
    "            index = solution.Value(routing.NextVar(index))\n",
    "        routes[vehicle_id].append(manager.IndexToNode(index))\n",
    "        time_var = time_dimension.CumulVar(index)\n",
    "        plan_output += '{0} Time({1},{2})\\n'.format(manager.IndexToNode(index),\n",
    "                                                    solution.Min(time_var),\n",
    "                                                    solution.Max(time_var))\n",
    "        plan_output += 'Time of the route: {}min\\n'.format(\n",
    "            solution.Min(time_var))\n",
    "        print(plan_output)\n",
    "        total_time += solution.Min(time_var)\n",
    "    print('Total time of all routes: {}min'.format(total_time))\n",
    "    return routes\n",
    "\n",
    "\n",
    "def main():\n",
    "    \"\"\"Solve the VRP with time windows.\"\"\"\n",
    "    # Instantiate the data problem.\n",
    "    data = create_data_model(timeMatrixFiltered,3, 16, timeWindows)\n",
    "    \n",
    "    # Create the routing index manager.\n",
    "    manager = pywrapcp.RoutingIndexManager(len(data['time_matrix']),\n",
    "                                           data['num_vehicles'], data['depot'])\n",
    "\n",
    "    # Create Routing Model.\n",
    "    routing = pywrapcp.RoutingModel(manager)\n",
    "\n",
    "\n",
    "    # Create and register a transit callback.\n",
    "    def time_callback(from_index, to_index):\n",
    "        \"\"\"Returns the travel time between the two nodes.\"\"\"\n",
    "        # Convert from routing variable Index to time matrix NodeIndex.\n",
    "        from_node = manager.IndexToNode(from_index)\n",
    "        to_node = manager.IndexToNode(to_index)\n",
    "        return data['time_matrix'][from_node][to_node]\n",
    "\n",
    "    transit_callback_index = routing.RegisterTransitCallback(time_callback)\n",
    "\n",
    "    # Define cost of each arc.\n",
    "    routing.SetArcCostEvaluatorOfAllVehicles(transit_callback_index)\n",
    "\n",
    "    # Add Time Windows constraint.\n",
    "    time = 'Time'\n",
    "    routing.AddDimension(\n",
    "        transit_callback_index,\n",
    "        30,  # allow waiting time\n",
    "        30000,  # maximum time per vehicle\n",
    "        False,  # Don't force start cumul to zero.\n",
    "        time)\n",
    "    time_dimension = routing.GetDimensionOrDie(time)\n",
    "    # Add time window constraints for each location except depot.\n",
    "    for location_idx, time_window in enumerate(data['time_windows']):\n",
    "        if location_idx == data['depot']:\n",
    "            continue\n",
    "        index = manager.NodeToIndex(location_idx)\n",
    "        time_dimension.CumulVar(index).SetRange(time_window[0], time_window[1])\n",
    "    # Add time window constraints for each vehicle start node.\n",
    "    depot_idx = data['depot']\n",
    "    for vehicle_id in range(data['num_vehicles']):\n",
    "        index = routing.Start(vehicle_id)\n",
    "        time_dimension.CumulVar(index).SetRange(\n",
    "            data['time_windows'][depot_idx][0],\n",
    "            data['time_windows'][depot_idx][1])\n",
    "\n",
    "    # Instantiate route start and end times to produce feasible times.\n",
    "    for i in range(data['num_vehicles']):\n",
    "        routing.AddVariableMinimizedByFinalizer(\n",
    "            time_dimension.CumulVar(routing.Start(i)))\n",
    "        routing.AddVariableMinimizedByFinalizer(\n",
    "            time_dimension.CumulVar(routing.End(i)))\n",
    "\n",
    "    # Setting first solution heuristic.\n",
    "    search_parameters = pywrapcp.DefaultRoutingSearchParameters()\n",
    "    search_parameters.first_solution_strategy = (\n",
    "        routing_enums_pb2.FirstSolutionStrategy.SAVINGS)\n",
    "    \n",
    "    search_parameters.time_limit.seconds = 300\n",
    "\n",
    "    search_parameters.solution_limit = 1\n",
    "\n",
    "    # Solve the problem.\n",
    "    solution = routing.SolveWithParameters(search_parameters)\n",
    "    \n",
    "    print(\"Solver status:\", solver_status(routing.status()))\n",
    "\n",
    "    # Print solution on console.\n",
    "    if solution:\n",
    "        return print_solution(data, manager, routing, solution)\n",
    "\n",
    "\n",
    "if __name__ == '__main__':\n",
    "    routes = main()"
   ]
  },
  {
   "cell_type": "code",
   "execution_count": 89,
   "id": "preliminary-living",
   "metadata": {},
   "outputs": [
    {
     "data": {
      "text/plain": [
       "{0: [16, 15, 5, 7, 0, 10, 13, 9, 6, 1, 4, 11, 2, 14, 3, 12, 8, 16],\n",
       " 1: [16, 16],\n",
       " 2: [16, 16]}"
      ]
     },
     "execution_count": 89,
     "metadata": {},
     "output_type": "execute_result"
    }
   ],
   "source": [
    "routes"
   ]
  },
  {
   "cell_type": "code",
   "execution_count": 90,
   "id": "permanent-affiliate",
   "metadata": {
    "pycharm": {
     "is_executing": true
    }
   },
   "outputs": [],
   "source": [
    "def route_names(routes, locations):\n",
    "    namedRoutes = {}\n",
    "    for vehicle in routes.keys():\n",
    "        namedRoutes[vehicle] = locations[routes[vehicle]]\n",
    "    return namedRoutes\n",
    "    \n",
    "namedRoutes = route_names(routes, timeMatrixFiltered.index)"
   ]
  },
  {
   "cell_type": "code",
   "execution_count": 91,
   "id": "motivated-syria",
   "metadata": {
    "pycharm": {
     "is_executing": true
    }
   },
   "outputs": [
    {
     "data": {
      "text/plain": [
       "Index(['1737 Broadway St Port Coquitlam, BC, Canada', '1737 Broadway St Port Coquitlam, BC, Canada'], dtype='object')"
      ]
     },
     "execution_count": 91,
     "metadata": {},
     "output_type": "execute_result"
    }
   ],
   "source": [
    "namedRoutes[1]"
   ]
  },
  {
   "cell_type": "code",
   "execution_count": 92,
   "id": "flying-rapid",
   "metadata": {
    "pycharm": {
     "is_executing": true
    }
   },
   "outputs": [],
   "source": [
    "locations = pd.read_csv('C:/Users/Aidan/OneDrive - Simon Fraser University (1sfu)/Garbage Route Optimization/locations.csv', index_col=0)"
   ]
  },
  {
   "cell_type": "code",
   "execution_count": 93,
   "id": "outside-creature",
   "metadata": {
    "pycharm": {
     "is_executing": true
    }
   },
   "outputs": [],
   "source": [
    "tableauRoutes = pd.DataFrame(columns={'address','latitude','longitude','pairID','vehicleID'})\n",
    "for vehicle in namedRoutes.keys():\n",
    "    for vertex in range(len(namedRoutes[vehicle])-1):\n",
    "        currentVertexInfo = locations[locations.index == namedRoutes[vehicle][vertex]]\n",
    "        currentVertex = {'address':currentVertexInfo.index[0],\n",
    "                       'latitude':currentVertexInfo['lat'].values[0],\n",
    "                       'longitude':currentVertexInfo['long'].values[0],\n",
    "                       'pairID':vertex,\n",
    "                       'vehicleID':vehicle}\n",
    "\n",
    "        nextVertexInfo = locations[locations.index == namedRoutes[vehicle][vertex+1]]\n",
    "\n",
    "        nextVertex = {'address':nextVertexInfo.index[0],\n",
    "                       'latitude':nextVertexInfo['lat'].values[0],\n",
    "                       'longitude':nextVertexInfo['long'].values[0],\n",
    "                       'pairID':vertex,\n",
    "                       'vehicleID':vehicle}\n",
    "\n",
    "        tableauRoutes = tableauRoutes.append([currentVertex, nextVertex],ignore_index=True)\n",
    "        \n",
    "    \n",
    "        \n",
    "        \n",
    "\n",
    "        \n",
    "        \n",
    "    "
   ]
  },
  {
   "cell_type": "code",
   "execution_count": 95,
   "id": "realistic-france",
   "metadata": {
    "pycharm": {
     "is_executing": true
    }
   },
   "outputs": [],
   "source": [
    "tableauRoutes.to_csv('timeWindows.csv')"
   ]
  },
  {
   "cell_type": "code",
   "execution_count": null,
   "id": "written-subcommittee",
   "metadata": {
    "pycharm": {
     "is_executing": true
    }
   },
   "outputs": [],
   "source": []
  }
 ],
 "metadata": {
  "kernelspec": {
   "display_name": "Python 3",
   "language": "python",
   "name": "python3"
  },
  "language_info": {
   "codemirror_mode": {
    "name": "ipython",
    "version": 3
   },
   "file_extension": ".py",
   "mimetype": "text/x-python",
   "name": "python",
   "nbconvert_exporter": "python",
   "pygments_lexer": "ipython3",
   "version": "3.8.5"
  }
 },
 "nbformat": 4,
 "nbformat_minor": 5
}